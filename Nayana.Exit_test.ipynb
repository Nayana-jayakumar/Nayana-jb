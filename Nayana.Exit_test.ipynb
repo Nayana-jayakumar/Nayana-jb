{
 "cells": [
  {
   "cell_type": "code",
   "execution_count": 1,
   "id": "df3a2162",
   "metadata": {},
   "outputs": [],
   "source": [
    "import numpy as np                     # for mathematical calculations\n",
    "import pandas as pd\n",
    "import seaborn as sns                  #for visualizing data\n",
    "import matplotlib.pyplot as plt        # for plotting graphs"
   ]
  },
  {
   "cell_type": "markdown",
   "id": "9083f72d",
   "metadata": {},
   "source": [
    "# EDA"
   ]
  },
  {
   "cell_type": "code",
   "execution_count": 2,
   "id": "f552f9b0",
   "metadata": {},
   "outputs": [],
   "source": [
    "data =pd.read_csv(r\"C:\\Users\\jbnay\\Downloads\\train.csv\")"
   ]
  },
  {
   "cell_type": "code",
   "execution_count": 3,
   "id": "519d2525",
   "metadata": {},
   "outputs": [
    {
     "data": {
      "text/html": [
       "<div>\n",
       "<style scoped>\n",
       "    .dataframe tbody tr th:only-of-type {\n",
       "        vertical-align: middle;\n",
       "    }\n",
       "\n",
       "    .dataframe tbody tr th {\n",
       "        vertical-align: top;\n",
       "    }\n",
       "\n",
       "    .dataframe thead th {\n",
       "        text-align: right;\n",
       "    }\n",
       "</style>\n",
       "<table border=\"1\" class=\"dataframe\">\n",
       "  <thead>\n",
       "    <tr style=\"text-align: right;\">\n",
       "      <th></th>\n",
       "      <th>player_id</th>\n",
       "      <th>name</th>\n",
       "      <th>age</th>\n",
       "      <th>gender</th>\n",
       "      <th>country</th>\n",
       "      <th>height</th>\n",
       "      <th>weight</th>\n",
       "      <th>ball_controlling_skills</th>\n",
       "      <th>body_reflexes</th>\n",
       "      <th>body_balance</th>\n",
       "      <th>...</th>\n",
       "      <th>strong_foot</th>\n",
       "      <th>behaviour_rating</th>\n",
       "      <th>matches_played</th>\n",
       "      <th>fitness_rating</th>\n",
       "      <th>trophies_won</th>\n",
       "      <th>dedication_level</th>\n",
       "      <th>coaching</th>\n",
       "      <th>years_of_experience</th>\n",
       "      <th>no_of_disqualifications</th>\n",
       "      <th>selection</th>\n",
       "    </tr>\n",
       "  </thead>\n",
       "  <tbody>\n",
       "    <tr>\n",
       "      <th>0</th>\n",
       "      <td>PLID_4964</td>\n",
       "      <td>Keva Horan</td>\n",
       "      <td>23</td>\n",
       "      <td>M</td>\n",
       "      <td>Ukraine</td>\n",
       "      <td>6'2</td>\n",
       "      <td>176lbs</td>\n",
       "      <td>77.0</td>\n",
       "      <td>58.0</td>\n",
       "      <td>47.0</td>\n",
       "      <td>...</td>\n",
       "      <td>Right</td>\n",
       "      <td>7.7</td>\n",
       "      <td>NaN</td>\n",
       "      <td>8.1</td>\n",
       "      <td>2.0</td>\n",
       "      <td>High</td>\n",
       "      <td>Talent Hunt</td>\n",
       "      <td>8.0</td>\n",
       "      <td>0.0</td>\n",
       "      <td>1</td>\n",
       "    </tr>\n",
       "    <tr>\n",
       "      <th>1</th>\n",
       "      <td>PLID_11234</td>\n",
       "      <td>Herma Tann</td>\n",
       "      <td>18</td>\n",
       "      <td>M</td>\n",
       "      <td>Russia</td>\n",
       "      <td>5'10</td>\n",
       "      <td>148lbs</td>\n",
       "      <td>54.0</td>\n",
       "      <td>69.0</td>\n",
       "      <td>70.0</td>\n",
       "      <td>...</td>\n",
       "      <td>Any</td>\n",
       "      <td>5.3</td>\n",
       "      <td>0.0</td>\n",
       "      <td>NaN</td>\n",
       "      <td>3.0</td>\n",
       "      <td>Medium</td>\n",
       "      <td>Source</td>\n",
       "      <td>3.0</td>\n",
       "      <td>0.0</td>\n",
       "      <td>0</td>\n",
       "    </tr>\n",
       "    <tr>\n",
       "      <th>2</th>\n",
       "      <td>PLID_19127</td>\n",
       "      <td>Eilene Kizer</td>\n",
       "      <td>16</td>\n",
       "      <td>F</td>\n",
       "      <td>Spain</td>\n",
       "      <td>6'2</td>\n",
       "      <td>172lbs</td>\n",
       "      <td>34.0</td>\n",
       "      <td>43.0</td>\n",
       "      <td>45.0</td>\n",
       "      <td>...</td>\n",
       "      <td>Left</td>\n",
       "      <td>4.7</td>\n",
       "      <td>0.0</td>\n",
       "      <td>6.6</td>\n",
       "      <td>5.0</td>\n",
       "      <td>Low</td>\n",
       "      <td>Academy</td>\n",
       "      <td>2.0</td>\n",
       "      <td>0.0</td>\n",
       "      <td>1</td>\n",
       "    </tr>\n",
       "    <tr>\n",
       "      <th>3</th>\n",
       "      <td>PLID_17467</td>\n",
       "      <td>Andrea Badgett</td>\n",
       "      <td>27</td>\n",
       "      <td>M</td>\n",
       "      <td>Chile</td>\n",
       "      <td>5'11</td>\n",
       "      <td>165lbs</td>\n",
       "      <td>79.0</td>\n",
       "      <td>73.0</td>\n",
       "      <td>76.0</td>\n",
       "      <td>...</td>\n",
       "      <td>Right</td>\n",
       "      <td>8.6</td>\n",
       "      <td>113.0</td>\n",
       "      <td>8.6</td>\n",
       "      <td>6.0</td>\n",
       "      <td>Medium</td>\n",
       "      <td>Academy</td>\n",
       "      <td>13.0</td>\n",
       "      <td>16.0</td>\n",
       "      <td>1</td>\n",
       "    </tr>\n",
       "    <tr>\n",
       "      <th>4</th>\n",
       "      <td>PLID_9661</td>\n",
       "      <td>Jeremiah Bumbalough</td>\n",
       "      <td>19</td>\n",
       "      <td>F</td>\n",
       "      <td>Argentina</td>\n",
       "      <td>5'8</td>\n",
       "      <td>158lbs</td>\n",
       "      <td>47.0</td>\n",
       "      <td>61.0</td>\n",
       "      <td>74.0</td>\n",
       "      <td>...</td>\n",
       "      <td>Right</td>\n",
       "      <td>NaN</td>\n",
       "      <td>0.0</td>\n",
       "      <td>5.7</td>\n",
       "      <td>5.0</td>\n",
       "      <td>Medium</td>\n",
       "      <td>Academy</td>\n",
       "      <td>4.0</td>\n",
       "      <td>0.0</td>\n",
       "      <td>0</td>\n",
       "    </tr>\n",
       "  </tbody>\n",
       "</table>\n",
       "<p>5 rows × 30 columns</p>\n",
       "</div>"
      ],
      "text/plain": [
       "    player_id                 name  age gender    country height  weight  \\\n",
       "0   PLID_4964           Keva Horan   23      M    Ukraine    6'2  176lbs   \n",
       "1  PLID_11234           Herma Tann   18      M     Russia   5'10  148lbs   \n",
       "2  PLID_19127         Eilene Kizer   16      F      Spain    6'2  172lbs   \n",
       "3  PLID_17467       Andrea Badgett   27      M      Chile   5'11  165lbs   \n",
       "4   PLID_9661  Jeremiah Bumbalough   19      F  Argentina    5'8  158lbs   \n",
       "\n",
       "   ball_controlling_skills  body_reflexes  body_balance  ...  strong_foot  \\\n",
       "0                     77.0           58.0          47.0  ...        Right   \n",
       "1                     54.0           69.0          70.0  ...          Any   \n",
       "2                     34.0           43.0          45.0  ...         Left   \n",
       "3                     79.0           73.0          76.0  ...        Right   \n",
       "4                     47.0           61.0          74.0  ...        Right   \n",
       "\n",
       "   behaviour_rating  matches_played  fitness_rating  trophies_won  \\\n",
       "0               7.7             NaN             8.1           2.0   \n",
       "1               5.3             0.0             NaN           3.0   \n",
       "2               4.7             0.0             6.6           5.0   \n",
       "3               8.6           113.0             8.6           6.0   \n",
       "4               NaN             0.0             5.7           5.0   \n",
       "\n",
       "   dedication_level     coaching  years_of_experience  \\\n",
       "0              High  Talent Hunt                  8.0   \n",
       "1            Medium       Source                  3.0   \n",
       "2               Low      Academy                  2.0   \n",
       "3            Medium      Academy                 13.0   \n",
       "4            Medium      Academy                  4.0   \n",
       "\n",
       "   no_of_disqualifications  selection  \n",
       "0                      0.0          1  \n",
       "1                      0.0          0  \n",
       "2                      0.0          1  \n",
       "3                     16.0          1  \n",
       "4                      0.0          0  \n",
       "\n",
       "[5 rows x 30 columns]"
      ]
     },
     "execution_count": 3,
     "metadata": {},
     "output_type": "execute_result"
    }
   ],
   "source": [
    "data.head()                          "
   ]
  },
  {
   "cell_type": "code",
   "execution_count": 4,
   "id": "3e3c7b5c",
   "metadata": {},
   "outputs": [],
   "source": [
    "# dataset is about selection of players with respect to different attributes such as years_of_experience,no_of_disqualifications,matches_played etc."
   ]
  },
  {
   "cell_type": "code",
   "execution_count": 5,
   "id": "66f9fdac",
   "metadata": {},
   "outputs": [
    {
     "data": {
      "text/plain": [
       "(13994, 30)"
      ]
     },
     "execution_count": 5,
     "metadata": {},
     "output_type": "execute_result"
    }
   ],
   "source": [
    "data.shape             # shape of data"
   ]
  },
  {
   "cell_type": "code",
   "execution_count": 6,
   "id": "1b7b90e8",
   "metadata": {},
   "outputs": [
    {
     "data": {
      "text/plain": [
       "player_id                     object\n",
       "name                          object\n",
       "age                            int64\n",
       "gender                        object\n",
       "country                       object\n",
       "height                        object\n",
       "weight                        object\n",
       "ball_controlling_skills      float64\n",
       "body_reflexes                float64\n",
       "body_balance                 float64\n",
       "jumping_skills               float64\n",
       "penalties_conversion_rate    float64\n",
       "mental_strength              float64\n",
       "goalkeeping_skills           float64\n",
       "defending_skills             float64\n",
       "passing_skills               float64\n",
       "dribbling_skills             float64\n",
       "shot_accuracy                float64\n",
       "body_strength_stamina        float64\n",
       "max_running_speed            float64\n",
       "strong_foot                   object\n",
       "behaviour_rating             float64\n",
       "matches_played               float64\n",
       "fitness_rating               float64\n",
       "trophies_won                 float64\n",
       "dedication_level              object\n",
       "coaching                      object\n",
       "years_of_experience          float64\n",
       "no_of_disqualifications      float64\n",
       "selection                      int64\n",
       "dtype: object"
      ]
     },
     "execution_count": 6,
     "metadata": {},
     "output_type": "execute_result"
    }
   ],
   "source": [
    "data.dtypes           # to find type of data"
   ]
  },
  {
   "cell_type": "code",
   "execution_count": 7,
   "id": "df7c548a",
   "metadata": {},
   "outputs": [
    {
     "name": "stdout",
     "output_type": "stream",
     "text": [
      "<class 'pandas.core.frame.DataFrame'>\n",
      "RangeIndex: 13994 entries, 0 to 13993\n",
      "Data columns (total 30 columns):\n",
      " #   Column                     Non-Null Count  Dtype  \n",
      "---  ------                     --------------  -----  \n",
      " 0   player_id                  13994 non-null  object \n",
      " 1   name                       13994 non-null  object \n",
      " 2   age                        13994 non-null  int64  \n",
      " 3   gender                     13975 non-null  object \n",
      " 4   country                    13994 non-null  object \n",
      " 5   height                     13994 non-null  object \n",
      " 6   weight                     13577 non-null  object \n",
      " 7   ball_controlling_skills    13581 non-null  float64\n",
      " 8   body_reflexes              13994 non-null  float64\n",
      " 9   body_balance               13994 non-null  float64\n",
      " 10  jumping_skills             13970 non-null  float64\n",
      " 11  penalties_conversion_rate  13964 non-null  float64\n",
      " 12  mental_strength            13966 non-null  float64\n",
      " 13  goalkeeping_skills         13994 non-null  float64\n",
      " 14  defending_skills           13994 non-null  float64\n",
      " 15  passing_skills             13994 non-null  float64\n",
      " 16  dribbling_skills           13994 non-null  float64\n",
      " 17  shot_accuracy              13422 non-null  float64\n",
      " 18  body_strength_stamina      13994 non-null  float64\n",
      " 19  max_running_speed          13994 non-null  float64\n",
      " 20  strong_foot                13442 non-null  object \n",
      " 21  behaviour_rating           13291 non-null  float64\n",
      " 22  matches_played             13328 non-null  float64\n",
      " 23  fitness_rating             13299 non-null  float64\n",
      " 24  trophies_won               13994 non-null  float64\n",
      " 25  dedication_level           13994 non-null  object \n",
      " 26  coaching                   13869 non-null  object \n",
      " 27  years_of_experience        13850 non-null  float64\n",
      " 28  no_of_disqualifications    13994 non-null  float64\n",
      " 29  selection                  13994 non-null  int64  \n",
      "dtypes: float64(19), int64(2), object(9)\n",
      "memory usage: 3.2+ MB\n"
     ]
    }
   ],
   "source": [
    "data.info()          "
   ]
  },
  {
   "cell_type": "code",
   "execution_count": 8,
   "id": "9817785f",
   "metadata": {
    "scrolled": true
   },
   "outputs": [
    {
     "data": {
      "text/plain": [
       "Index(['player_id', 'name', 'age', 'gender', 'country', 'height', 'weight',\n",
       "       'ball_controlling_skills', 'body_reflexes', 'body_balance',\n",
       "       'jumping_skills', 'penalties_conversion_rate', 'mental_strength',\n",
       "       'goalkeeping_skills', 'defending_skills', 'passing_skills',\n",
       "       'dribbling_skills', 'shot_accuracy', 'body_strength_stamina',\n",
       "       'max_running_speed', 'strong_foot', 'behaviour_rating',\n",
       "       'matches_played', 'fitness_rating', 'trophies_won', 'dedication_level',\n",
       "       'coaching', 'years_of_experience', 'no_of_disqualifications',\n",
       "       'selection'],\n",
       "      dtype='object')"
      ]
     },
     "execution_count": 8,
     "metadata": {},
     "output_type": "execute_result"
    }
   ],
   "source": [
    "data.columns"
   ]
  },
  {
   "cell_type": "code",
   "execution_count": 9,
   "id": "1bcebdab",
   "metadata": {},
   "outputs": [
    {
     "data": {
      "text/html": [
       "<div>\n",
       "<style scoped>\n",
       "    .dataframe tbody tr th:only-of-type {\n",
       "        vertical-align: middle;\n",
       "    }\n",
       "\n",
       "    .dataframe tbody tr th {\n",
       "        vertical-align: top;\n",
       "    }\n",
       "\n",
       "    .dataframe thead th {\n",
       "        text-align: right;\n",
       "    }\n",
       "</style>\n",
       "<table border=\"1\" class=\"dataframe\">\n",
       "  <thead>\n",
       "    <tr style=\"text-align: right;\">\n",
       "      <th></th>\n",
       "      <th>age</th>\n",
       "      <th>ball_controlling_skills</th>\n",
       "      <th>body_reflexes</th>\n",
       "      <th>body_balance</th>\n",
       "      <th>jumping_skills</th>\n",
       "      <th>penalties_conversion_rate</th>\n",
       "      <th>mental_strength</th>\n",
       "      <th>goalkeeping_skills</th>\n",
       "      <th>defending_skills</th>\n",
       "      <th>passing_skills</th>\n",
       "      <th>...</th>\n",
       "      <th>shot_accuracy</th>\n",
       "      <th>body_strength_stamina</th>\n",
       "      <th>max_running_speed</th>\n",
       "      <th>behaviour_rating</th>\n",
       "      <th>matches_played</th>\n",
       "      <th>fitness_rating</th>\n",
       "      <th>trophies_won</th>\n",
       "      <th>years_of_experience</th>\n",
       "      <th>no_of_disqualifications</th>\n",
       "      <th>selection</th>\n",
       "    </tr>\n",
       "  </thead>\n",
       "  <tbody>\n",
       "    <tr>\n",
       "      <th>count</th>\n",
       "      <td>13994.000000</td>\n",
       "      <td>13581.000000</td>\n",
       "      <td>13994.000000</td>\n",
       "      <td>13994.000000</td>\n",
       "      <td>13970.000000</td>\n",
       "      <td>13964.000000</td>\n",
       "      <td>13966.000000</td>\n",
       "      <td>13994.000000</td>\n",
       "      <td>13994.000000</td>\n",
       "      <td>13994.000000</td>\n",
       "      <td>...</td>\n",
       "      <td>13422.000000</td>\n",
       "      <td>13994.000000</td>\n",
       "      <td>13994.000000</td>\n",
       "      <td>13291.000000</td>\n",
       "      <td>13328.000000</td>\n",
       "      <td>13299.000000</td>\n",
       "      <td>13994.000000</td>\n",
       "      <td>13850.000000</td>\n",
       "      <td>13994.000000</td>\n",
       "      <td>13994.000000</td>\n",
       "    </tr>\n",
       "    <tr>\n",
       "      <th>mean</th>\n",
       "      <td>21.135844</td>\n",
       "      <td>56.043958</td>\n",
       "      <td>61.934329</td>\n",
       "      <td>62.753323</td>\n",
       "      <td>63.612026</td>\n",
       "      <td>48.495703</td>\n",
       "      <td>56.768366</td>\n",
       "      <td>16.474632</td>\n",
       "      <td>48.108118</td>\n",
       "      <td>52.935973</td>\n",
       "      <td>...</td>\n",
       "      <td>47.178140</td>\n",
       "      <td>62.652780</td>\n",
       "      <td>23.586094</td>\n",
       "      <td>5.822068</td>\n",
       "      <td>3.908463</td>\n",
       "      <td>6.405482</td>\n",
       "      <td>3.389095</td>\n",
       "      <td>6.434152</td>\n",
       "      <td>-4.740675</td>\n",
       "      <td>0.557525</td>\n",
       "    </tr>\n",
       "    <tr>\n",
       "      <th>std</th>\n",
       "      <td>5.162719</td>\n",
       "      <td>16.787353</td>\n",
       "      <td>14.931963</td>\n",
       "      <td>14.203638</td>\n",
       "      <td>11.938712</td>\n",
       "      <td>15.767506</td>\n",
       "      <td>11.977744</td>\n",
       "      <td>16.874551</td>\n",
       "      <td>16.821929</td>\n",
       "      <td>14.201782</td>\n",
       "      <td>...</td>\n",
       "      <td>15.803991</td>\n",
       "      <td>11.512526</td>\n",
       "      <td>5.194387</td>\n",
       "      <td>1.095702</td>\n",
       "      <td>13.583229</td>\n",
       "      <td>1.706983</td>\n",
       "      <td>1.709152</td>\n",
       "      <td>4.450954</td>\n",
       "      <td>72.023656</td>\n",
       "      <td>0.496698</td>\n",
       "    </tr>\n",
       "    <tr>\n",
       "      <th>min</th>\n",
       "      <td>16.000000</td>\n",
       "      <td>5.000000</td>\n",
       "      <td>12.000000</td>\n",
       "      <td>9.000000</td>\n",
       "      <td>14.000000</td>\n",
       "      <td>7.000000</td>\n",
       "      <td>9.000000</td>\n",
       "      <td>1.000000</td>\n",
       "      <td>9.000000</td>\n",
       "      <td>13.000000</td>\n",
       "      <td>...</td>\n",
       "      <td>7.000000</td>\n",
       "      <td>15.000000</td>\n",
       "      <td>5.400000</td>\n",
       "      <td>2.100000</td>\n",
       "      <td>0.000000</td>\n",
       "      <td>1.000000</td>\n",
       "      <td>0.000000</td>\n",
       "      <td>1.000000</td>\n",
       "      <td>-999.000000</td>\n",
       "      <td>0.000000</td>\n",
       "    </tr>\n",
       "    <tr>\n",
       "      <th>25%</th>\n",
       "      <td>17.000000</td>\n",
       "      <td>51.000000</td>\n",
       "      <td>54.000000</td>\n",
       "      <td>55.000000</td>\n",
       "      <td>57.000000</td>\n",
       "      <td>39.000000</td>\n",
       "      <td>49.000000</td>\n",
       "      <td>10.000000</td>\n",
       "      <td>36.000000</td>\n",
       "      <td>45.000000</td>\n",
       "      <td>...</td>\n",
       "      <td>38.000000</td>\n",
       "      <td>56.000000</td>\n",
       "      <td>21.100000</td>\n",
       "      <td>5.100000</td>\n",
       "      <td>0.000000</td>\n",
       "      <td>5.600000</td>\n",
       "      <td>2.000000</td>\n",
       "      <td>2.000000</td>\n",
       "      <td>0.000000</td>\n",
       "      <td>0.000000</td>\n",
       "    </tr>\n",
       "    <tr>\n",
       "      <th>50%</th>\n",
       "      <td>20.000000</td>\n",
       "      <td>61.000000</td>\n",
       "      <td>64.000000</td>\n",
       "      <td>65.000000</td>\n",
       "      <td>64.000000</td>\n",
       "      <td>49.000000</td>\n",
       "      <td>58.000000</td>\n",
       "      <td>11.000000</td>\n",
       "      <td>52.000000</td>\n",
       "      <td>56.000000</td>\n",
       "      <td>...</td>\n",
       "      <td>50.000000</td>\n",
       "      <td>64.000000</td>\n",
       "      <td>24.600000</td>\n",
       "      <td>5.900000</td>\n",
       "      <td>0.000000</td>\n",
       "      <td>6.800000</td>\n",
       "      <td>3.000000</td>\n",
       "      <td>6.000000</td>\n",
       "      <td>0.000000</td>\n",
       "      <td>1.000000</td>\n",
       "    </tr>\n",
       "    <tr>\n",
       "      <th>75%</th>\n",
       "      <td>24.000000</td>\n",
       "      <td>67.000000</td>\n",
       "      <td>72.000000</td>\n",
       "      <td>73.000000</td>\n",
       "      <td>72.000000</td>\n",
       "      <td>60.000000</td>\n",
       "      <td>65.000000</td>\n",
       "      <td>12.000000</td>\n",
       "      <td>61.000000</td>\n",
       "      <td>63.000000</td>\n",
       "      <td>...</td>\n",
       "      <td>59.000000</td>\n",
       "      <td>71.000000</td>\n",
       "      <td>27.100000</td>\n",
       "      <td>6.500000</td>\n",
       "      <td>1.000000</td>\n",
       "      <td>7.500000</td>\n",
       "      <td>5.000000</td>\n",
       "      <td>10.000000</td>\n",
       "      <td>0.000000</td>\n",
       "      <td>1.000000</td>\n",
       "    </tr>\n",
       "    <tr>\n",
       "      <th>max</th>\n",
       "      <td>61.000000</td>\n",
       "      <td>95.000000</td>\n",
       "      <td>96.000000</td>\n",
       "      <td>97.000000</td>\n",
       "      <td>95.000000</td>\n",
       "      <td>92.000000</td>\n",
       "      <td>92.000000</td>\n",
       "      <td>88.000000</td>\n",
       "      <td>86.000000</td>\n",
       "      <td>89.000000</td>\n",
       "      <td>...</td>\n",
       "      <td>86.000000</td>\n",
       "      <td>92.000000</td>\n",
       "      <td>35.000000</td>\n",
       "      <td>9.800000</td>\n",
       "      <td>151.000000</td>\n",
       "      <td>10.000000</td>\n",
       "      <td>9.000000</td>\n",
       "      <td>26.000000</td>\n",
       "      <td>25.000000</td>\n",
       "      <td>1.000000</td>\n",
       "    </tr>\n",
       "  </tbody>\n",
       "</table>\n",
       "<p>8 rows × 21 columns</p>\n",
       "</div>"
      ],
      "text/plain": [
       "                age  ball_controlling_skills  body_reflexes  body_balance  \\\n",
       "count  13994.000000             13581.000000   13994.000000  13994.000000   \n",
       "mean      21.135844                56.043958      61.934329     62.753323   \n",
       "std        5.162719                16.787353      14.931963     14.203638   \n",
       "min       16.000000                 5.000000      12.000000      9.000000   \n",
       "25%       17.000000                51.000000      54.000000     55.000000   \n",
       "50%       20.000000                61.000000      64.000000     65.000000   \n",
       "75%       24.000000                67.000000      72.000000     73.000000   \n",
       "max       61.000000                95.000000      96.000000     97.000000   \n",
       "\n",
       "       jumping_skills  penalties_conversion_rate  mental_strength  \\\n",
       "count    13970.000000               13964.000000     13966.000000   \n",
       "mean        63.612026                  48.495703        56.768366   \n",
       "std         11.938712                  15.767506        11.977744   \n",
       "min         14.000000                   7.000000         9.000000   \n",
       "25%         57.000000                  39.000000        49.000000   \n",
       "50%         64.000000                  49.000000        58.000000   \n",
       "75%         72.000000                  60.000000        65.000000   \n",
       "max         95.000000                  92.000000        92.000000   \n",
       "\n",
       "       goalkeeping_skills  defending_skills  passing_skills  ...  \\\n",
       "count        13994.000000      13994.000000    13994.000000  ...   \n",
       "mean            16.474632         48.108118       52.935973  ...   \n",
       "std             16.874551         16.821929       14.201782  ...   \n",
       "min              1.000000          9.000000       13.000000  ...   \n",
       "25%             10.000000         36.000000       45.000000  ...   \n",
       "50%             11.000000         52.000000       56.000000  ...   \n",
       "75%             12.000000         61.000000       63.000000  ...   \n",
       "max             88.000000         86.000000       89.000000  ...   \n",
       "\n",
       "       shot_accuracy  body_strength_stamina  max_running_speed  \\\n",
       "count   13422.000000           13994.000000       13994.000000   \n",
       "mean       47.178140              62.652780          23.586094   \n",
       "std        15.803991              11.512526           5.194387   \n",
       "min         7.000000              15.000000           5.400000   \n",
       "25%        38.000000              56.000000          21.100000   \n",
       "50%        50.000000              64.000000          24.600000   \n",
       "75%        59.000000              71.000000          27.100000   \n",
       "max        86.000000              92.000000          35.000000   \n",
       "\n",
       "       behaviour_rating  matches_played  fitness_rating  trophies_won  \\\n",
       "count      13291.000000    13328.000000    13299.000000  13994.000000   \n",
       "mean           5.822068        3.908463        6.405482      3.389095   \n",
       "std            1.095702       13.583229        1.706983      1.709152   \n",
       "min            2.100000        0.000000        1.000000      0.000000   \n",
       "25%            5.100000        0.000000        5.600000      2.000000   \n",
       "50%            5.900000        0.000000        6.800000      3.000000   \n",
       "75%            6.500000        1.000000        7.500000      5.000000   \n",
       "max            9.800000      151.000000       10.000000      9.000000   \n",
       "\n",
       "       years_of_experience  no_of_disqualifications     selection  \n",
       "count         13850.000000             13994.000000  13994.000000  \n",
       "mean              6.434152                -4.740675      0.557525  \n",
       "std               4.450954                72.023656      0.496698  \n",
       "min               1.000000              -999.000000      0.000000  \n",
       "25%               2.000000                 0.000000      0.000000  \n",
       "50%               6.000000                 0.000000      1.000000  \n",
       "75%              10.000000                 0.000000      1.000000  \n",
       "max              26.000000                25.000000      1.000000  \n",
       "\n",
       "[8 rows x 21 columns]"
      ]
     },
     "execution_count": 9,
     "metadata": {},
     "output_type": "execute_result"
    }
   ],
   "source": [
    "data.describe()           #statistical information about data"
   ]
  },
  {
   "cell_type": "markdown",
   "id": "b4d4c15e",
   "metadata": {},
   "source": [
    "Graphical Interpretation of data"
   ]
  },
  {
   "cell_type": "code",
   "execution_count": 10,
   "id": "95efa286",
   "metadata": {},
   "outputs": [
    {
     "data": {
      "image/png": "[encoded data removed]",
      "text/plain": [
       "<Figure size 640x480 with 1 Axes>"
      ]
     },
     "metadata": {},
     "output_type": "display_data"
    }
   ],
   "source": [
    "# Bar plot of categorical features\n",
    "sns.countplot(x='gender', data=data)\n",
    "plt.xlabel('Gender')\n",
    "plt.ylabel('Count')\n",
    "plt.title('Gender')\n",
    "plt.show()"
   ]
  },
  {
   "cell_type": "markdown",
   "id": "8558b141",
   "metadata": {},
   "source": [
    "Distribution of players is approximately equal in gender"
   ]
  },
  {
   "cell_type": "code",
   "execution_count": 11,
   "id": "022f3ccb",
   "metadata": {},
   "outputs": [
    {
     "data": {
      "text/plain": [
       "<Axes: xlabel='strong_foot'>"
      ]
     },
     "execution_count": 11,
     "metadata": {},
     "output_type": "execute_result"
    },
    {
     "data": {
      "text/plain": [
       "<Figure size 5500x2500 with 0 Axes>"
      ]
     },
     "metadata": {},
     "output_type": "display_data"
    },
    {
     "data": {
      "image/png": "[encoded data removed]",
      "text/plain": [
       "<Figure size 640x480 with 1 Axes>"
      ]
     },
     "metadata": {},
     "output_type": "display_data"
    },
    {
     "data": {
      "image/png": "[encoded data removed]",
      "text/plain": [
       "<Figure size 640x480 with 1 Axes>"
      ]
     },
     "metadata": {},
     "output_type": "display_data"
    },
    {
     "data": {
      "image/png": "[encoded data removed]",
      "text/plain": [
       "<Figure size 640x480 with 1 Axes>"
      ]
     },
     "metadata": {},
     "output_type": "display_data"
    }
   ],
   "source": [
    "# Cross-tabulation between categorical and target variable\n",
    "plt.figure(figsize=(55,25))\n",
    "pd.crosstab(data['dedication_level'], data['selection']).plot(kind='bar', stacked=True)\n",
    "pd.crosstab(data['gender'],data['selection']).plot(kind='bar',stacked=True)\n",
    "pd.crosstab(data['strong_foot'],data['selection']).plot(kind='bar',stacked=True)"
   ]
  },
  {
   "cell_type": "code",
   "execution_count": 12,
   "id": "e1d50e44",
   "metadata": {},
   "outputs": [
    {
     "data": {
      "image/png": "[encoded data removed]",
      "text/plain": [
       "<Figure size 1500x500 with 3 Axes>"
      ]
     },
     "metadata": {},
     "output_type": "display_data"
    }
   ],
   "source": [
    "plt.figure(figsize=(15,5))\n",
    "plt.subplots_adjust(left=0.125, bottom=0.1, right=0.9, top=0.9,\n",
    "                      wspace=0.5, hspace=0.2)\n",
    "plt.subplot(131)\n",
    "\n",
    "sns.barplot(x=\"selection\", y=\"ball_controlling_skills\", data=data)\n",
    "plt.subplot(132)\n",
    "\n",
    "sns.barplot(x=\"selection\", y=\"jumping_skills\", data=data)\n",
    "plt.subplot(133)\n",
    "\n",
    "\n",
    "sns.barplot(x=\"selection\", y=\"goalkeeping_skills\", data=data)\n",
    "plt.subplot(133)\n",
    "\n",
    "\n",
    "\n",
    "plt.show()\n"
   ]
  },
  {
   "cell_type": "markdown",
   "id": "63492768",
   "metadata": {},
   "source": [
    "# Preprocessing"
   ]
  },
  {
   "cell_type": "code",
   "execution_count": 14,
   "id": "f6bab30e",
   "metadata": {},
   "outputs": [
    {
     "data": {
      "text/plain": [
       "player_id                      0\n",
       "name                           0\n",
       "age                            0\n",
       "gender                        19\n",
       "country                        0\n",
       "height                         0\n",
       "weight                       417\n",
       "ball_controlling_skills      413\n",
       "body_reflexes                  0\n",
       "body_balance                   0\n",
       "jumping_skills                24\n",
       "penalties_conversion_rate     30\n",
       "mental_strength               28\n",
       "goalkeeping_skills             0\n",
       "defending_skills               0\n",
       "passing_skills                 0\n",
       "dribbling_skills               0\n",
       "shot_accuracy                572\n",
       "body_strength_stamina          0\n",
       "max_running_speed              0\n",
       "strong_foot                  552\n",
       "behaviour_rating             703\n",
       "matches_played               666\n",
       "fitness_rating               695\n",
       "trophies_won                   0\n",
       "dedication_level               0\n",
       "coaching                     125\n",
       "years_of_experience          144\n",
       "no_of_disqualifications        0\n",
       "selection                      0\n",
       "dtype: int64"
      ]
     },
     "execution_count": 14,
     "metadata": {},
     "output_type": "execute_result"
    }
   ],
   "source": [
    "# detecting missing values\n",
    "  \n",
    "data.isna().sum()"
   ]
  },
  {
   "cell_type": "code",
   "execution_count": 15,
   "id": "f1cfe602",
   "metadata": {},
   "outputs": [],
   "source": [
    "# filling missing values of categorical columns with mode\n",
    "\n",
    "data['gender'].fillna(data['gender'].mode()[0],inplace=True)\n",
    "data['strong_foot'].fillna(data['strong_foot'].mode()[0],inplace=True)\n",
    "data['gender'].fillna(data['gender'].mode()[0],inplace=True)\n",
    "data['weight'].fillna(data['weight'].mode()[0],inplace=True)\n",
    "data['coaching'].fillna(data['coaching'].mode()[0],inplace=True)\n"
   ]
  },
  {
   "cell_type": "code",
   "execution_count": 21,
   "id": "5c6cb167",
   "metadata": {},
   "outputs": [],
   "source": [
    "# filling missing values of numerical columns with mode\n",
    "for i in ['years_of_experience','ball_controlling_skills','jumping_skills','penalties_conversion_rate','mental_strength','shot_accuracy','behaviour_rating','matches_played','fitness_rating']:\n",
    "    data[i]=data[i].fillna(data[i].median())"
   ]
  },
  {
   "cell_type": "code",
   "execution_count": 22,
   "id": "74b7d48f",
   "metadata": {},
   "outputs": [
    {
     "data": {
      "text/plain": [
       "player_id                    0\n",
       "name                         0\n",
       "age                          0\n",
       "gender                       0\n",
       "country                      0\n",
       "height                       0\n",
       "weight                       0\n",
       "ball_controlling_skills      0\n",
       "body_reflexes                0\n",
       "body_balance                 0\n",
       "jumping_skills               0\n",
       "penalties_conversion_rate    0\n",
       "mental_strength              0\n",
       "goalkeeping_skills           0\n",
       "defending_skills             0\n",
       "passing_skills               0\n",
       "dribbling_skills             0\n",
       "shot_accuracy                0\n",
       "body_strength_stamina        0\n",
       "max_running_speed            0\n",
       "strong_foot                  0\n",
       "behaviour_rating             0\n",
       "matches_played               0\n",
       "fitness_rating               0\n",
       "trophies_won                 0\n",
       "dedication_level             0\n",
       "coaching                     0\n",
       "years_of_experience          0\n",
       "no_of_disqualifications      0\n",
       "selection                    0\n",
       "dtype: int64"
      ]
     },
     "execution_count": 22,
     "metadata": {},
     "output_type": "execute_result"
    }
   ],
   "source": [
    "data.isna().sum()"
   ]
  },
  {
   "cell_type": "code",
   "execution_count": 24,
   "id": "6e2d4cf7",
   "metadata": {},
   "outputs": [
    {
     "data": {
      "image/png": "[encoded data removed]",
      "text/plain": [
       "<Figure size 640x480 with 1 Axes>"
      ]
     },
     "metadata": {},
     "output_type": "display_data"
    },
    {
     "data": {
      "image/png": "[encoded data removed]",
      "text/plain": [
       "<Figure size 640x480 with 1 Axes>"
      ]
     },
     "metadata": {},
     "output_type": "display_data"
    },
    {
     "data": {
      "image/png": "[encoded data removed]",
      "text/plain": [
       "<Figure size 640x480 with 1 Axes>"
      ]
     },
     "metadata": {},
     "output_type": "display_data"
    },
    {
     "data": {
      "image/png": "[encoded data removed]",
      "text/plain": [
       "<Figure size 640x480 with 1 Axes>"
      ]
     },
     "metadata": {},
     "output_type": "display_data"
    },
    {
     "data": {
      "image/png": "[encoded data removed]",
      "text/plain": [
       "<Figure size 640x480 with 1 Axes>"
      ]
     },
     "metadata": {},
     "output_type": "display_data"
    },
    {
     "data": {
      "image/png": "[encoded data removed]",
      "text/plain": [
       "<Figure size 640x480 with 1 Axes>"
      ]
     },
     "metadata": {},
     "output_type": "display_data"
    },
    {
     "data": {
      "image/png": "[encoded data removed]",
      "text/plain": [
       "<Figure size 640x480 with 1 Axes>"
      ]
     },
     "metadata": {},
     "output_type": "display_data"
    },
    {
     "data": {
      "image/png": "[encoded data removed]",
      "text/plain": [
       "<Figure size 640x480 with 1 Axes>"
      ]
     },
     "metadata": {},
     "output_type": "display_data"
    },
    {
     "data": {
      "image/png": "[encoded data removed]",
      "text/plain": [
       "<Figure size 640x480 with 1 Axes>"
      ]
     },
     "metadata": {},
     "output_type": "display_data"
    },
    {
     "data": {
      "image/png": "[encoded data removed]",
      "text/plain": [
       "<Figure size 640x480 with 1 Axes>"
      ]
     },
     "metadata": {},
     "output_type": "display_data"
    },
    {
     "data": {
      "image/png": "[encoded data removed]",
      "text/plain": [
       "<Figure size 640x480 with 1 Axes>"
      ]
     },
     "metadata": {},
     "output_type": "display_data"
    },
    {
     "data": {
      "image/png": "[encoded data removed]",
      "text/plain": [
       "<Figure size 640x480 with 1 Axes>"
      ]
     },
     "metadata": {},
     "output_type": "display_data"
    },
    {
     "data": {
      "image/png": "[encoded data removed]",
      "text/plain": [
       "<Figure size 640x480 with 1 Axes>"
      ]
     },
     "metadata": {},
     "output_type": "display_data"
    },
    {
     "data": {
      "image/png": "[encoded data removed]",
      "text/plain": [
       "<Figure size 640x480 with 1 Axes>"
      ]
     },
     "metadata": {},
     "output_type": "display_data"
    },
    {
     "data": {
      "image/png": "[encoded data removed]",
      "text/plain": [
       "<Figure size 640x480 with 1 Axes>"
      ]
     },
     "metadata": {},
     "output_type": "display_data"
    },
    {
     "data": {
      "image/png": "[encoded data removed]",
      "text/plain": [
       "<Figure size 640x480 with 1 Axes>"
      ]
     },
     "metadata": {},
     "output_type": "display_data"
    },
    {
     "data": {
      "image/png": "[encoded data removed]",
      "text/plain": [
       "<Figure size 640x480 with 1 Axes>"
      ]
     },
     "metadata": {},
     "output_type": "display_data"
    },
    {
     "data": {
      "image/png": "[encoded data removed]",
      "text/plain": [
       "<Figure size 640x480 with 1 Axes>"
      ]
     },
     "metadata": {},
     "output_type": "display_data"
    },
    {
     "data": {
      "image/png": "[encoded data removed]",
      "text/plain": [
       "<Figure size 640x480 with 1 Axes>"
      ]
     },
     "metadata": {},
     "output_type": "display_data"
    },
    {
     "data": {
      "image/png": "[encoded data removed]",
      "text/plain": [
       "<Figure size 640x480 with 1 Axes>"
      ]
     },
     "metadata": {},
     "output_type": "display_data"
    },
    {
     "data": {
      "image/png": "[encoded data removed]",
      "text/plain": [
       "<Figure size 640x480 with 1 Axes>"
      ]
     },
     "metadata": {},
     "output_type": "display_data"
    }
   ],
   "source": [
    "#outlier detection and handling\n",
    "Numericals=['age','ball_controlling_skills', 'body_reflexes', 'body_balance',\n",
    "       'jumping_skills', 'penalties_conversion_rate', 'mental_strength',\n",
    "       'goalkeeping_skills','defending_skills', 'passing_skills',\n",
    "       'dribbling_skills', 'shot_accuracy', 'body_strength_stamina',\n",
    "       'max_running_speed','behaviour_rating',\n",
    "       'matches_played', 'fitness_rating', 'trophies_won','years_of_experience', 'no_of_disqualifications',\n",
    "       'selection']\n",
    "for i in Numericals:\n",
    "    plt.figure()\n",
    "    plt.boxplot(data[i])\n",
    "    plt.title(i)\n",
    "    plt.show()"
   ]
  },
  {
   "cell_type": "code",
   "execution_count": 26,
   "id": "72b10953",
   "metadata": {},
   "outputs": [
    {
     "name": "stdout",
     "output_type": "stream",
     "text": [
      "Q1= 17.0\n",
      "Q2= 20.0\n",
      "Q3= 24.0\n",
      "IQR= 7.0\n",
      "up_lmt= 34.5\n",
      "low_lmt= 6.5\n",
      "outliers =  [51, 36, 36, 52, 57, 54, 57, 57, 57, 35, 54, 50, 36, 36, 57, 39, 49, 36, 55, 57, 53, 35, 57, 35, 55, 57, 57, 36, 54, 48, 35, 36, 36, 59, 53, 60, 55, 48, 36, 57, 35, 36, 37, 57, 57, 59, 36, 35, 35, 54, 57, 57, 36, 57, 57, 35, 57, 57, 58, 51, 57, 57, 35, 61, 55, 60, 39, 51, 57, 51, 57, 57, 57, 38, 55, 56, 57, 57, 60, 57, 57, 51, 50, 56, 57, 36, 58, 50, 57, 57, 35, 57, 57, 57, 57, 61, 53, 57, 35, 35, 57, 57, 36, 57, 58, 35, 57, 57, 57, 57, 35, 35, 55, 56, 40, 57, 35, 56, 51]\n"
     ]
    }
   ],
   "source": [
    "# handling outliers of 'age'\n",
    "Q1=data['age'].quantile(.25)\n",
    "Q2=data['age'].quantile(.50)\n",
    "Q3=data['age'].quantile(.75)\n",
    "print('Q1=',Q1)\n",
    "print('Q2=',Q2)\n",
    "print('Q3=',Q3)\n",
    "\n",
    "IQR = Q3-Q1\n",
    "print('IQR=',IQR)\n",
    "\n",
    "up_lmt=Q3+1.5*IQR\n",
    "low_lmt=Q1-1.5*IQR\n",
    "print('up_lmt=',up_lmt)\n",
    "print('low_lmt=',low_lmt)\n",
    "\n",
    "outlier=[]\n",
    "for x in data['age']:\n",
    "    if (x<low_lmt) or (x>up_lmt):\n",
    "        outlier.append(x)\n",
    "print('outliers = ',outlier)\n"
   ]
  },
  {
   "cell_type": "code",
   "execution_count": 27,
   "id": "d68682d4",
   "metadata": {},
   "outputs": [
    {
     "name": "stdout",
     "output_type": "stream",
     "text": [
      "Initial rows and columns: (13994, 30)\n",
      "After dropping,count of rows and columns: (13875, 30)\n"
     ]
    }
   ],
   "source": [
    "data1=data[(data['age']>low_lmt) & (data['age']< up_lmt)]\n",
    "print(\"Initial rows and columns:\", data.shape)\n",
    "print(\"After dropping,count of rows and columns:\",data1.shape)"
   ]
  },
  {
   "cell_type": "code",
   "execution_count": 28,
   "id": "a073a45f",
   "metadata": {},
   "outputs": [
    {
     "name": "stdout",
     "output_type": "stream",
     "text": [
      "Q1= 52.0\n",
      "Q2= 61.0\n",
      "Q3= 67.0\n",
      "IQR= 15.0\n",
      "up_lmt= 89.5\n",
      "low_lmt= 29.5\n",
      "outliers =  [16.0, 29.0, 17.0, 19.0, 20.0, 18.0, 25.0, 17.0, 9.0, 17.0, 22.0, 10.0, 24.0, 29.0, 17.0, 20.0, 21.0, 15.0, 21.0, 13.0, 20.0, 29.0, 18.0, 25.0, 13.0, 16.0, 11.0, 10.0, 13.0, 10.0, 10.0, 20.0, 25.0, 22.0, 23.0, 10.0, 19.0, 11.0, 18.0, 12.0, 10.0, 9.0, 12.0, 11.0, 13.0, 8.0, 17.0, 29.0, 14.0, 21.0, 20.0, 8.0, 15.0, 29.0, 18.0, 20.0, 21.0, 15.0, 27.0, 22.0, 22.0, 19.0, 14.0, 25.0, 16.0, 10.0, 20.0, 14.0, 11.0, 15.0, 17.0, 28.0, 24.0, 10.0, 22.0, 21.0, 9.0, 16.0, 18.0, 14.0, 20.0, 18.0, 12.0, 21.0, 20.0, 18.0, 17.0, 25.0, 91.0, 18.0, 17.0, 16.0, 16.0, 18.0, 22.0, 22.0, 17.0, 23.0, 16.0, 13.0, 16.0, 22.0, 15.0, 20.0, 10.0, 22.0, 19.0, 20.0, 14.0, 17.0, 17.0, 10.0, 16.0, 19.0, 28.0, 17.0, 17.0, 20.0, 15.0, 11.0, 17.0, 20.0, 13.0, 22.0, 13.0, 21.0, 17.0, 25.0, 20.0, 16.0, 12.0, 15.0, 15.0, 12.0, 90.0, 14.0, 8.0, 13.0, 12.0, 19.0, 11.0, 15.0, 17.0, 13.0, 16.0, 23.0, 29.0, 15.0, 18.0, 11.0, 11.0, 22.0, 25.0, 21.0, 20.0, 14.0, 16.0, 21.0, 21.0, 12.0, 11.0, 29.0, 15.0, 18.0, 14.0, 16.0, 11.0, 23.0, 17.0, 28.0, 10.0, 19.0, 17.0, 18.0, 15.0, 16.0, 28.0, 24.0, 21.0, 27.0, 18.0, 15.0, 8.0, 23.0, 20.0, 7.0, 12.0, 22.0, 18.0, 23.0, 22.0, 11.0, 24.0, 15.0, 18.0, 12.0, 20.0, 18.0, 14.0, 13.0, 27.0, 19.0, 90.0, 17.0, 21.0, 21.0, 25.0, 22.0, 18.0, 27.0, 19.0, 17.0, 21.0, 22.0, 18.0, 17.0, 16.0, 17.0, 17.0, 21.0, 23.0, 10.0, 10.0, 16.0, 15.0, 19.0, 21.0, 15.0, 8.0, 8.0, 15.0, 12.0, 9.0, 14.0, 11.0, 15.0, 18.0, 16.0, 16.0, 15.0, 9.0, 21.0, 23.0, 8.0, 17.0, 20.0, 15.0, 21.0, 8.0, 21.0, 28.0, 21.0, 13.0, 16.0, 18.0, 9.0, 17.0, 23.0, 19.0, 22.0, 16.0, 22.0, 11.0, 19.0, 21.0, 19.0, 21.0, 15.0, 11.0, 10.0, 21.0, 10.0, 16.0, 12.0, 18.0, 21.0, 23.0, 28.0, 27.0, 10.0, 21.0, 24.0, 18.0, 11.0, 8.0, 28.0, 15.0, 21.0, 21.0, 10.0, 29.0, 20.0, 17.0, 14.0, 18.0, 12.0, 18.0, 20.0, 24.0, 16.0, 22.0, 15.0, 8.0, 24.0, 26.0, 19.0, 25.0, 21.0, 8.0, 21.0, 10.0, 11.0, 19.0, 27.0, 21.0, 9.0, 26.0, 25.0, 94.0, 18.0, 19.0, 10.0, 12.0, 17.0, 12.0, 16.0, 12.0, 12.0, 13.0, 11.0, 7.0, 8.0, 22.0, 18.0, 18.0, 20.0, 23.0, 29.0, 10.0, 24.0, 22.0, 12.0, 22.0, 21.0, 13.0, 9.0, 19.0, 14.0, 22.0, 13.0, 16.0, 18.0, 10.0, 11.0, 10.0, 17.0, 18.0, 18.0, 27.0, 13.0, 17.0, 13.0, 18.0, 23.0, 17.0, 17.0, 26.0, 22.0, 7.0, 20.0, 20.0, 10.0, 20.0, 17.0, 14.0, 21.0, 90.0, 19.0, 15.0, 23.0, 27.0, 20.0, 14.0, 11.0, 22.0, 19.0, 25.0, 9.0, 21.0, 14.0, 29.0, 18.0, 28.0, 20.0, 23.0, 9.0, 17.0, 10.0, 28.0, 9.0, 13.0, 17.0, 12.0, 11.0, 23.0, 15.0, 18.0, 25.0, 8.0, 17.0, 12.0, 23.0, 10.0, 18.0, 17.0, 23.0, 8.0, 13.0, 19.0, 18.0, 14.0, 11.0, 29.0, 21.0, 18.0, 90.0, 12.0, 13.0, 16.0, 14.0, 21.0, 14.0, 25.0, 15.0, 17.0, 20.0, 16.0, 18.0, 16.0, 23.0, 29.0, 20.0, 20.0, 22.0, 27.0, 8.0, 11.0, 17.0, 17.0, 21.0, 14.0, 28.0, 15.0, 18.0, 11.0, 15.0, 11.0, 28.0, 22.0, 23.0, 27.0, 17.0, 16.0, 13.0, 21.0, 22.0, 23.0, 21.0, 18.0, 14.0, 11.0, 16.0, 14.0, 20.0, 13.0, 18.0, 22.0, 9.0, 17.0, 19.0, 17.0, 22.0, 19.0, 19.0, 20.0, 18.0, 19.0, 13.0, 16.0, 14.0, 18.0, 18.0, 15.0, 17.0, 14.0, 14.0, 18.0, 16.0, 17.0, 8.0, 20.0, 14.0, 29.0, 16.0, 22.0, 17.0, 12.0, 13.0, 11.0, 24.0, 13.0, 16.0, 14.0, 17.0, 24.0, 21.0, 20.0, 20.0, 16.0, 15.0, 19.0, 23.0, 21.0, 27.0, 16.0, 9.0, 17.0, 16.0, 21.0, 21.0, 14.0, 8.0, 23.0, 22.0, 22.0, 17.0, 11.0, 13.0, 26.0, 27.0, 15.0, 10.0, 16.0, 27.0, 12.0, 26.0, 19.0, 22.0, 23.0, 14.0, 15.0, 17.0, 17.0, 21.0, 14.0, 25.0, 27.0, 19.0, 20.0, 18.0, 19.0, 17.0, 17.0, 16.0, 13.0, 22.0, 18.0, 12.0, 15.0, 13.0, 19.0, 17.0, 15.0, 12.0, 11.0, 11.0, 22.0, 14.0, 16.0, 23.0, 11.0, 29.0, 23.0, 11.0, 22.0, 10.0, 22.0, 23.0, 16.0, 18.0, 22.0, 17.0, 10.0, 24.0, 8.0, 25.0, 19.0, 16.0, 18.0, 15.0, 20.0, 14.0, 19.0, 21.0, 27.0, 13.0, 14.0, 20.0, 12.0, 9.0, 23.0, 22.0, 15.0, 21.0, 17.0, 14.0, 25.0, 17.0, 21.0, 14.0, 20.0, 9.0, 17.0, 15.0, 29.0, 15.0, 9.0, 18.0, 22.0, 27.0, 13.0, 9.0, 21.0, 19.0, 9.0, 10.0, 10.0, 17.0, 20.0, 18.0, 9.0, 22.0, 17.0, 18.0, 90.0, 19.0, 29.0, 16.0, 16.0, 25.0, 13.0, 15.0, 12.0, 13.0, 12.0, 18.0, 21.0, 19.0, 20.0, 17.0, 10.0, 15.0, 24.0, 9.0, 16.0, 14.0, 22.0, 15.0, 14.0, 21.0, 15.0, 20.0, 17.0, 21.0, 21.0, 12.0, 16.0, 18.0, 24.0, 29.0, 21.0, 12.0, 20.0, 14.0, 22.0, 14.0, 10.0, 12.0, 21.0, 14.0, 10.0, 14.0, 20.0, 13.0, 22.0, 90.0, 17.0, 23.0, 17.0, 10.0, 11.0, 15.0, 22.0, 16.0, 26.0, 14.0, 15.0, 14.0, 18.0, 18.0, 19.0, 18.0, 22.0, 9.0, 19.0, 16.0, 22.0, 23.0, 10.0, 11.0, 7.0, 20.0, 13.0, 12.0, 25.0, 12.0, 27.0, 14.0, 13.0, 21.0, 17.0, 19.0, 21.0, 25.0, 19.0, 18.0, 21.0, 13.0, 15.0, 16.0, 23.0, 18.0, 13.0, 14.0, 14.0, 19.0, 13.0, 14.0, 24.0, 25.0, 13.0, 25.0, 22.0, 11.0, 11.0, 19.0, 28.0, 15.0, 14.0, 14.0, 21.0, 15.0, 24.0, 20.0, 16.0, 16.0, 22.0, 20.0, 27.0, 17.0, 17.0, 15.0, 21.0, 24.0, 27.0, 26.0, 22.0, 15.0, 26.0, 25.0, 24.0, 18.0, 13.0, 22.0, 16.0, 26.0, 17.0, 28.0, 19.0, 21.0, 19.0, 17.0, 25.0, 17.0, 23.0, 16.0, 20.0, 7.0, 22.0, 27.0, 22.0, 21.0, 11.0, 13.0, 23.0, 22.0, 25.0, 17.0, 23.0, 15.0, 18.0, 27.0, 19.0, 21.0, 14.0, 11.0, 25.0, 24.0, 13.0, 19.0, 24.0, 21.0, 18.0, 9.0, 20.0, 26.0, 23.0, 19.0, 13.0, 21.0, 23.0, 8.0, 10.0, 13.0, 18.0, 10.0, 19.0, 20.0, 17.0, 13.0, 27.0, 20.0, 26.0, 17.0, 14.0, 10.0, 21.0, 23.0, 14.0, 11.0, 20.0, 19.0, 23.0, 24.0, 19.0, 22.0, 15.0, 12.0, 28.0, 15.0, 29.0, 20.0, 24.0, 29.0, 26.0, 11.0, 25.0, 11.0, 12.0, 28.0, 24.0, 18.0, 25.0, 15.0, 26.0, 20.0, 26.0, 15.0, 20.0, 18.0, 27.0, 27.0, 9.0, 15.0, 12.0, 12.0, 12.0, 11.0, 11.0, 17.0, 14.0, 8.0, 14.0, 25.0, 13.0, 18.0, 11.0, 15.0, 16.0, 13.0, 15.0, 16.0, 24.0, 10.0, 17.0, 15.0, 23.0, 13.0, 14.0, 15.0, 11.0, 15.0, 8.0, 17.0, 26.0, 14.0, 27.0, 20.0, 13.0, 21.0, 13.0, 22.0, 16.0, 22.0, 16.0, 22.0, 24.0, 15.0, 12.0, 15.0, 22.0, 16.0, 20.0, 9.0, 8.0, 8.0, 10.0, 16.0, 26.0, 19.0, 22.0, 18.0, 23.0, 17.0, 20.0, 20.0, 15.0, 22.0, 21.0, 22.0, 17.0, 18.0, 19.0, 23.0, 20.0, 17.0, 18.0, 17.0, 21.0, 20.0, 14.0, 7.0, 14.0, 26.0, 15.0, 27.0, 21.0, 23.0, 22.0, 23.0, 23.0, 11.0, 17.0, 25.0, 14.0, 15.0, 26.0, 20.0, 17.0, 28.0, 14.0, 27.0, 14.0, 14.0, 16.0, 17.0, 21.0, 14.0, 10.0, 24.0, 19.0, 20.0, 17.0, 12.0, 24.0, 20.0, 16.0, 18.0, 13.0, 28.0, 11.0, 16.0, 17.0, 16.0, 28.0, 12.0, 13.0, 19.0, 17.0, 16.0, 21.0, 19.0, 8.0, 25.0, 21.0, 28.0, 29.0, 19.0, 26.0, 28.0, 18.0, 19.0, 18.0, 14.0, 21.0, 18.0, 26.0, 28.0, 19.0, 13.0, 20.0, 13.0, 15.0, 19.0, 19.0, 18.0, 24.0, 14.0, 14.0, 11.0, 9.0, 15.0, 15.0, 12.0, 14.0, 23.0, 9.0, 18.0, 14.0, 23.0, 21.0, 22.0, 17.0, 16.0, 14.0, 20.0, 12.0, 29.0, 11.0, 11.0, 29.0, 14.0, 9.0, 18.0, 18.0, 19.0, 18.0, 10.0, 11.0, 9.0, 18.0, 28.0, 20.0, 16.0, 17.0, 18.0, 13.0, 26.0, 10.0, 21.0, 15.0, 16.0, 21.0, 95.0, 10.0, 15.0, 20.0, 25.0, 12.0, 23.0, 17.0, 23.0, 22.0, 16.0, 16.0, 15.0, 12.0, 10.0, 13.0, 14.0, 19.0, 13.0, 15.0, 18.0, 14.0, 20.0, 14.0, 22.0, 17.0, 16.0, 15.0, 15.0, 13.0, 22.0, 21.0, 12.0, 12.0, 14.0, 19.0, 16.0, 10.0, 22.0, 17.0, 20.0, 11.0, 14.0, 11.0, 13.0, 18.0, 15.0, 16.0, 28.0, 14.0, 16.0, 25.0, 19.0, 21.0, 16.0, 13.0, 13.0, 22.0, 14.0, 22.0, 10.0, 18.0, 14.0, 12.0, 21.0, 90.0, 28.0, 28.0, 21.0, 16.0, 21.0, 20.0, 21.0, 19.0, 22.0, 19.0, 10.0, 16.0, 10.0, 13.0, 25.0, 12.0, 27.0, 21.0, 9.0, 12.0, 10.0, 18.0, 27.0, 8.0, 13.0, 16.0, 17.0, 15.0, 14.0, 22.0, 14.0, 19.0, 13.0, 24.0, 13.0, 28.0, 18.0, 20.0, 15.0, 23.0, 8.0, 28.0, 25.0, 20.0, 11.0, 22.0, 13.0, 20.0, 10.0, 25.0, 26.0, 19.0, 19.0, 27.0, 10.0, 12.0, 22.0, 16.0, 16.0, 23.0, 21.0, 19.0, 15.0, 11.0, 22.0, 17.0, 21.0, 22.0, 16.0, 14.0, 27.0, 18.0, 11.0, 15.0, 20.0, 14.0, 12.0, 13.0, 19.0, 24.0, 17.0, 19.0, 19.0, 15.0, 20.0, 11.0, 20.0, 13.0, 14.0, 21.0, 16.0, 15.0, 9.0, 29.0, 24.0, 27.0, 20.0, 9.0, 11.0, 23.0, 19.0, 27.0, 19.0, 29.0, 12.0, 16.0, 19.0, 19.0, 14.0, 20.0, 19.0, 13.0, 19.0, 18.0, 14.0, 5.0, 21.0, 11.0, 20.0, 12.0, 28.0, 23.0, 7.0, 14.0, 22.0, 18.0, 17.0, 22.0, 21.0, 18.0, 22.0, 9.0, 15.0, 10.0, 22.0, 18.0, 20.0, 12.0, 21.0, 14.0, 29.0, 18.0, 14.0, 19.0, 18.0, 25.0, 11.0, 15.0, 19.0, 20.0, 19.0, 23.0, 17.0, 24.0, 22.0, 24.0, 12.0, 23.0, 27.0, 20.0, 16.0, 22.0, 16.0, 18.0, 17.0, 28.0, 26.0, 15.0, 23.0, 19.0, 19.0, 15.0, 16.0, 17.0, 19.0, 24.0, 24.0, 22.0, 22.0, 13.0, 28.0, 22.0, 12.0, 28.0, 21.0, 17.0, 15.0, 21.0, 23.0, 21.0, 22.0, 19.0, 12.0, 16.0, 11.0, 12.0, 18.0, 22.0, 16.0, 17.0, 11.0, 20.0, 14.0, 20.0, 18.0, 18.0, 17.0, 29.0, 17.0, 10.0, 25.0, 12.0, 22.0, 13.0, 12.0, 7.0, 18.0, 23.0, 22.0, 22.0, 25.0, 23.0, 18.0, 17.0, 17.0, 15.0, 20.0, 15.0, 6.0, 23.0, 18.0, 11.0, 10.0, 25.0, 19.0, 15.0, 14.0, 20.0, 21.0, 24.0, 20.0, 14.0, 18.0, 21.0, 7.0, 20.0, 27.0, 18.0, 23.0, 27.0, 23.0, 12.0, 12.0, 15.0, 17.0, 24.0, 11.0, 21.0, 27.0, 22.0, 15.0, 22.0, 14.0, 19.0, 10.0, 29.0, 13.0, 14.0, 23.0, 16.0, 14.0, 16.0, 24.0, 19.0, 11.0, 22.0, 13.0, 21.0, 16.0, 13.0, 13.0, 28.0, 25.0, 16.0, 10.0, 12.0, 14.0, 18.0, 14.0, 26.0, 22.0, 10.0, 21.0, 21.0, 18.0, 19.0, 20.0, 90.0, 17.0, 17.0, 14.0, 16.0, 22.0, 13.0, 24.0, 20.0, 21.0, 24.0, 22.0, 24.0, 15.0, 29.0, 20.0, 20.0, 16.0, 24.0, 16.0, 17.0, 21.0, 22.0, 24.0, 26.0, 14.0, 20.0, 16.0, 17.0, 23.0, 16.0, 13.0, 15.0, 19.0, 16.0, 16.0, 19.0, 23.0, 21.0, 16.0, 29.0, 18.0, 21.0, 10.0, 11.0, 14.0, 26.0, 15.0, 11.0, 12.0, 19.0, 21.0, 21.0, 9.0, 16.0, 15.0, 10.0, 23.0, 15.0, 15.0, 20.0, 12.0, 21.0, 17.0, 18.0, 19.0, 13.0, 23.0, 19.0, 17.0, 21.0, 18.0, 19.0, 17.0, 13.0, 21.0, 19.0, 17.0, 15.0, 27.0, 8.0, 18.0, 22.0, 10.0, 15.0, 17.0, 10.0, 16.0, 24.0, 16.0, 17.0, 19.0, 13.0, 21.0, 8.0, 19.0, 12.0, 13.0, 18.0, 19.0, 14.0, 12.0, 17.0, 28.0, 26.0, 16.0, 22.0]\n"
     ]
    }
   ],
   "source": [
    "# handling outliers of 'ball_controlling_skills'\n",
    "Q1=data['ball_controlling_skills'].quantile(.25)\n",
    "Q2=data['ball_controlling_skills'].quantile(.50)\n",
    "Q3=data['ball_controlling_skills'].quantile(.75)\n",
    "print('Q1=',Q1)\n",
    "print('Q2=',Q2)\n",
    "print('Q3=',Q3)\n",
    "\n",
    "IQR = Q3-Q1\n",
    "print('IQR=',IQR)\n",
    "\n",
    "up_lmt=Q3+1.5*IQR\n",
    "low_lmt=Q1-1.5*IQR\n",
    "print('up_lmt=',up_lmt)\n",
    "print('low_lmt=',low_lmt)\n",
    "\n",
    "outlier=[]\n",
    "for x in data['ball_controlling_skills']:\n",
    "    if (x<low_lmt) or (x>up_lmt):\n",
    "        outlier.append(x)\n",
    "print('outliers = ',outlier)\n"
   ]
  },
  {
   "cell_type": "code",
   "execution_count": 29,
   "id": "fc0e6b00",
   "metadata": {},
   "outputs": [
    {
     "name": "stdout",
     "output_type": "stream",
     "text": [
      "Initial rows and columns: (13994, 30)\n",
      "After dropping,count of rows and columns: (12441, 30)\n"
     ]
    }
   ],
   "source": [
    "data1=data[(data['ball_controlling_skills']>low_lmt) & (data['ball_controlling_skills']< up_lmt)]\n",
    "print(\"Initial rows and columns:\", data.shape)\n",
    "print(\"After dropping,count of rows and columns:\",data1.shape)"
   ]
  },
  {
   "cell_type": "code",
   "execution_count": 30,
   "id": "10b97401",
   "metadata": {},
   "outputs": [
    {
     "name": "stdout",
     "output_type": "stream",
     "text": [
      "Q1= 54.0\n",
      "Q2= 64.0\n",
      "Q3= 72.0\n",
      "IQR= 18.0\n",
      "up_lmt= 99.0\n",
      "low_lmt= 27.0\n",
      "outliers =  [25.0, 26.0, 21.0, 22.0, 25.0, 22.0, 25.0, 24.0, 20.0, 22.0, 19.0, 20.0, 15.0, 18.0, 21.0, 25.0, 26.0, 21.0, 23.0, 19.0, 23.0, 22.0, 21.0, 20.0, 18.0, 23.0, 21.0, 20.0, 20.0, 25.0, 20.0, 26.0, 23.0, 24.0, 26.0, 20.0, 24.0, 19.0, 26.0, 24.0, 26.0, 19.0, 26.0, 24.0, 26.0, 20.0, 23.0, 26.0, 20.0, 25.0, 18.0, 25.0, 19.0, 22.0, 22.0, 26.0, 25.0, 21.0, 22.0, 19.0, 23.0, 21.0, 23.0, 25.0, 21.0, 26.0, 25.0, 21.0, 12.0, 26.0, 22.0, 26.0, 24.0, 25.0, 18.0, 23.0, 22.0, 25.0, 25.0, 22.0, 24.0, 23.0, 24.0, 21.0, 24.0, 22.0, 22.0, 23.0, 14.0, 25.0, 22.0, 23.0, 22.0, 22.0, 20.0, 24.0, 25.0, 25.0, 21.0, 20.0, 19.0, 19.0, 23.0, 26.0, 16.0, 25.0, 26.0, 22.0, 21.0, 20.0, 14.0, 25.0, 18.0, 21.0, 26.0, 23.0, 23.0, 22.0, 25.0, 19.0, 25.0, 22.0, 23.0, 23.0, 26.0, 15.0, 23.0, 23.0, 22.0, 22.0, 26.0, 26.0, 26.0, 24.0, 19.0, 18.0, 25.0, 23.0, 25.0, 26.0, 26.0, 21.0, 24.0, 26.0, 22.0, 25.0, 26.0, 22.0, 19.0, 25.0, 15.0, 19.0, 20.0, 20.0, 25.0, 24.0, 23.0, 23.0, 26.0, 26.0, 26.0, 22.0, 19.0, 25.0, 23.0, 22.0, 17.0, 26.0, 25.0, 24.0, 22.0, 19.0, 22.0, 26.0, 25.0, 22.0, 21.0, 19.0, 26.0, 24.0, 26.0, 26.0, 19.0, 24.0, 18.0, 24.0, 19.0, 21.0, 25.0, 26.0, 25.0, 25.0, 20.0, 23.0, 24.0, 26.0, 17.0, 25.0, 26.0, 26.0, 22.0, 26.0, 26.0, 20.0, 25.0, 26.0, 25.0, 24.0]\n"
     ]
    }
   ],
   "source": [
    "# handling outliers of 'body_reflexes'\n",
    "Q1=data['body_reflexes'].quantile(.25)\n",
    "Q2=data['body_reflexes'].quantile(.50)\n",
    "Q3=data['body_reflexes'].quantile(.75)\n",
    "print('Q1=',Q1)\n",
    "print('Q2=',Q2)\n",
    "print('Q3=',Q3)\n",
    "\n",
    "IQR = Q3-Q1\n",
    "print('IQR=',IQR)\n",
    "\n",
    "up_lmt=Q3+1.5*IQR\n",
    "low_lmt=Q1-1.5*IQR\n",
    "print('up_lmt=',up_lmt)\n",
    "print('low_lmt=',low_lmt)\n",
    "\n",
    "outlier=[]\n",
    "for x in data['body_reflexes']:\n",
    "    if (x<low_lmt) or (x>up_lmt):\n",
    "        outlier.append(x)\n",
    "print('outliers = ',outlier)\n"
   ]
  },
  {
   "cell_type": "code",
   "execution_count": 32,
   "id": "00cebf40",
   "metadata": {},
   "outputs": [
    {
     "name": "stdout",
     "output_type": "stream",
     "text": [
      "Initial rows and columns: (13994, 30)\n",
      "After dropping,count of rows and columns: (13735, 30)\n"
     ]
    }
   ],
   "source": [
    "data1=data[(data['body_reflexes']>low_lmt) & (data['body_reflexes']< up_lmt)]\n",
    "print(\"Initial rows and columns:\", data.shape)\n",
    "print(\"After dropping,count of rows and columns:\",data1.shape)"
   ]
  },
  {
   "cell_type": "code",
   "execution_count": 33,
   "id": "f0b558ad",
   "metadata": {},
   "outputs": [
    {
     "name": "stdout",
     "output_type": "stream",
     "text": [
      "Q1= 55.0\n",
      "Q2= 65.0\n",
      "Q3= 73.0\n",
      "IQR= 18.0\n",
      "up_lmt= 100.0\n",
      "low_lmt= 28.0\n",
      "outliers =  [24.0, 22.0, 25.0, 22.0, 23.0, 24.0, 22.0, 21.0, 26.0, 25.0, 18.0, 26.0, 22.0, 24.0, 22.0, 24.0, 19.0, 13.0, 20.0, 27.0, 21.0, 23.0, 24.0, 26.0, 26.0, 27.0, 14.0, 24.0, 25.0, 23.0, 23.0, 21.0, 23.0, 24.0, 25.0, 23.0, 21.0, 24.0, 20.0, 27.0, 27.0, 24.0, 26.0, 22.0, 24.0, 26.0, 22.0, 22.0, 20.0, 24.0, 27.0, 26.0, 22.0, 23.0, 25.0, 22.0, 22.0, 27.0, 21.0, 26.0, 26.0, 26.0, 24.0, 25.0, 26.0, 17.0, 26.0, 23.0, 26.0, 20.0, 23.0, 20.0, 25.0, 26.0, 25.0, 25.0, 25.0, 23.0, 23.0, 27.0, 25.0, 21.0, 26.0, 24.0, 26.0, 24.0, 27.0, 26.0, 19.0, 22.0, 27.0, 21.0, 20.0, 19.0, 25.0, 24.0, 15.0, 23.0, 25.0, 18.0, 25.0, 23.0, 27.0, 23.0, 26.0, 24.0, 26.0, 20.0, 21.0, 24.0, 25.0, 25.0, 19.0, 27.0, 27.0, 27.0, 23.0, 27.0, 26.0, 25.0, 20.0, 24.0, 26.0, 21.0, 18.0, 23.0, 27.0, 25.0, 26.0, 25.0, 26.0, 19.0, 25.0, 23.0, 17.0, 22.0, 20.0, 22.0, 26.0, 20.0, 20.0, 24.0, 27.0, 23.0, 24.0, 25.0, 27.0, 20.0, 24.0, 23.0, 20.0, 27.0, 27.0, 27.0, 23.0, 27.0, 9.0, 27.0, 24.0, 22.0, 25.0, 26.0, 21.0, 27.0, 21.0, 19.0, 27.0, 25.0, 27.0, 21.0, 25.0, 26.0, 22.0, 23.0, 25.0, 16.0, 20.0, 20.0, 26.0, 27.0, 25.0, 17.0, 23.0, 20.0, 24.0, 26.0, 23.0, 20.0, 27.0, 20.0, 22.0, 17.0, 27.0, 27.0, 27.0, 27.0, 24.0, 26.0, 26.0, 25.0, 27.0, 27.0, 24.0, 20.0, 26.0, 16.0, 19.0, 23.0, 26.0, 21.0, 25.0, 21.0, 27.0, 27.0, 24.0, 21.0, 23.0, 21.0, 26.0, 19.0, 27.0, 26.0, 20.0, 25.0, 25.0, 27.0, 21.0, 24.0, 25.0, 27.0, 22.0, 22.0]\n"
     ]
    }
   ],
   "source": [
    "# handling outliers of 'body_balance'\n",
    "Q1=data['body_balance'].quantile(.25)\n",
    "Q2=data['body_balance'].quantile(.50)\n",
    "Q3=data['body_balance'].quantile(.75)\n",
    "print('Q1=',Q1)\n",
    "print('Q2=',Q2)\n",
    "print('Q3=',Q3)\n",
    "\n",
    "IQR = Q3-Q1\n",
    "print('IQR=',IQR)\n",
    "\n",
    "up_lmt=Q3+1.5*IQR\n",
    "low_lmt=Q1-1.5*IQR\n",
    "print('up_lmt=',up_lmt)\n",
    "print('low_lmt=',low_lmt)\n",
    "\n",
    "outlier=[]\n",
    "for x in data['body_balance']:\n",
    "    if (x<low_lmt) or (x>up_lmt):\n",
    "        outlier.append(x)\n",
    "print('outliers = ',outlier)\n"
   ]
  },
  {
   "cell_type": "code",
   "execution_count": 34,
   "id": "6df73c8d",
   "metadata": {},
   "outputs": [
    {
     "name": "stdout",
     "output_type": "stream",
     "text": [
      "Initial rows and columns: (13994, 30)\n",
      "After dropping,count of rows and columns: (13717, 30)\n"
     ]
    }
   ],
   "source": [
    "data1=data[(data['body_balance']>low_lmt) & (data['body_balance']< up_lmt)]\n",
    "print(\"Initial rows and columns:\", data.shape)\n",
    "print(\"After dropping,count of rows and columns:\",data1.shape)"
   ]
  },
  {
   "cell_type": "code",
   "execution_count": 35,
   "id": "e0664f1c",
   "metadata": {},
   "outputs": [
    {
     "name": "stdout",
     "output_type": "stream",
     "text": [
      "Q1= 57.0\n",
      "Q2= 64.0\n",
      "Q3= 72.0\n",
      "IQR= 15.0\n",
      "up_lmt= 94.5\n",
      "low_lmt= 34.5\n",
      "outliers =  [32.0, 30.0, 33.0, 34.0, 30.0, 29.0, 30.0, 29.0, 30.0, 34.0, 30.0, 31.0, 31.0, 28.0, 32.0, 34.0, 34.0, 31.0, 30.0, 32.0, 32.0, 32.0, 33.0, 30.0, 34.0, 29.0, 30.0, 32.0, 34.0, 34.0, 32.0, 31.0, 30.0, 33.0, 32.0, 30.0, 34.0, 33.0, 30.0, 31.0, 34.0, 33.0, 31.0, 32.0, 34.0, 29.0, 29.0, 31.0, 32.0, 28.0, 32.0, 32.0, 30.0, 33.0, 32.0, 34.0, 33.0, 33.0, 31.0, 33.0, 32.0, 31.0, 30.0, 32.0, 31.0, 30.0, 33.0, 32.0, 29.0, 28.0, 29.0, 26.0, 32.0, 32.0, 34.0, 33.0, 30.0, 31.0, 32.0, 28.0, 29.0, 29.0, 32.0, 33.0, 33.0, 30.0, 31.0, 33.0, 30.0, 27.0, 28.0, 32.0, 33.0, 33.0, 31.0, 33.0, 33.0, 32.0, 34.0, 30.0, 30.0, 31.0, 34.0, 31.0, 31.0, 27.0, 34.0, 31.0, 24.0, 33.0, 32.0, 32.0, 32.0, 34.0, 32.0, 31.0, 32.0, 31.0, 32.0, 31.0, 34.0, 29.0, 33.0, 29.0, 33.0, 31.0, 31.0, 34.0, 29.0, 32.0, 31.0, 31.0, 31.0, 22.0, 31.0, 27.0, 29.0, 30.0, 33.0, 32.0, 34.0, 34.0, 30.0, 32.0, 33.0, 28.0, 26.0, 33.0, 32.0, 29.0, 25.0, 33.0, 33.0, 31.0, 34.0, 32.0, 31.0, 28.0, 31.0, 32.0, 32.0, 34.0, 32.0, 34.0, 31.0, 32.0, 33.0, 32.0, 31.0, 32.0, 32.0, 33.0, 29.0, 31.0, 30.0, 33.0, 33.0, 33.0, 31.0, 34.0, 34.0, 32.0, 34.0, 34.0, 30.0, 33.0, 34.0, 29.0, 32.0, 34.0, 33.0, 30.0, 33.0, 32.0, 32.0, 34.0, 33.0, 33.0, 30.0, 33.0, 30.0, 32.0, 33.0, 34.0, 27.0, 34.0, 33.0, 33.0, 32.0, 31.0, 34.0, 95.0, 29.0, 32.0, 26.0, 30.0, 29.0, 34.0, 29.0, 34.0, 30.0, 31.0, 31.0, 34.0, 31.0, 34.0, 25.0, 31.0, 33.0, 34.0, 32.0, 29.0, 33.0, 30.0, 31.0, 30.0, 32.0, 30.0, 32.0, 25.0, 32.0, 25.0, 29.0, 31.0, 34.0, 33.0, 33.0, 32.0, 33.0, 34.0, 34.0, 31.0, 30.0, 32.0, 29.0, 31.0, 26.0, 33.0, 34.0, 33.0, 27.0, 33.0, 31.0, 33.0, 30.0, 30.0, 32.0, 14.0, 33.0, 33.0, 34.0, 34.0, 34.0, 32.0, 34.0, 33.0, 33.0, 31.0, 33.0, 33.0, 30.0, 32.0, 28.0, 32.0, 27.0, 31.0, 32.0, 22.0, 30.0, 28.0, 31.0, 33.0, 29.0, 31.0, 30.0, 31.0, 28.0, 34.0, 31.0, 30.0, 34.0, 34.0, 27.0, 33.0, 33.0, 30.0, 29.0, 34.0, 30.0, 33.0, 27.0, 33.0, 28.0, 33.0, 33.0, 29.0, 34.0]\n"
     ]
    }
   ],
   "source": [
    "# handling outliers of 'jumping_skills'\n",
    "Q1=data['jumping_skills'].quantile(.25)\n",
    "Q2=data['jumping_skills'].quantile(.50)\n",
    "Q3=data['jumping_skills'].quantile(.75)\n",
    "print('Q1=',Q1)\n",
    "print('Q2=',Q2)\n",
    "print('Q3=',Q3)\n",
    "\n",
    "IQR = Q3-Q1\n",
    "print('IQR=',IQR)\n",
    "\n",
    "up_lmt=Q3+1.5*IQR\n",
    "low_lmt=Q1-1.5*IQR\n",
    "print('up_lmt=',up_lmt)\n",
    "print('low_lmt=',low_lmt)\n",
    "\n",
    "outlier=[]\n",
    "for x in data['jumping_skills']:\n",
    "    if (x<low_lmt) or (x>up_lmt):\n",
    "        outlier.append(x)\n",
    "print('outliers = ',outlier)\n"
   ]
  },
  {
   "cell_type": "code",
   "execution_count": 36,
   "id": "cde2ae47",
   "metadata": {},
   "outputs": [
    {
     "name": "stdout",
     "output_type": "stream",
     "text": [
      "Initial rows and columns: (13994, 30)\n",
      "After dropping,count of rows and columns: (13677, 30)\n"
     ]
    }
   ],
   "source": [
    "data1=data[(data['jumping_skills']>low_lmt) & (data['jumping_skills']< up_lmt)]\n",
    "print(\"Initial rows and columns:\", data.shape)\n",
    "print(\"After dropping,count of rows and columns:\",data1.shape)"
   ]
  },
  {
   "cell_type": "code",
   "execution_count": null,
   "id": "42a1baca",
   "metadata": {},
   "outputs": [],
   "source": [
    "# handling outliers of ''\n",
    "Q1=data[''].quantile(.25)\n",
    "Q2=data[''].quantile(.50)\n",
    "Q3=data[''].quantile(.75)\n",
    "print('Q1=',Q1)\n",
    "print('Q2=',Q2)\n",
    "print('Q3=',Q3)\n",
    "\n",
    "IQR = Q3-Q1\n",
    "print('IQR=',IQR)\n",
    "\n",
    "up_lmt=Q3+1.5*IQR\n",
    "low_lmt=Q1-1.5*IQR\n",
    "print('up_lmt=',up_lmt)\n",
    "print('low_lmt=',low_lmt)\n",
    "\n",
    "outlier=[]\n",
    "for x in data['']:\n",
    "    if (x<low_lmt) or (x>up_lmt):\n",
    "        outlier.append(x)\n",
    "print('outliers = ',outlier)\n"
   ]
  },
  {
   "cell_type": "code",
   "execution_count": null,
   "id": "97908de3",
   "metadata": {},
   "outputs": [],
   "source": [
    "data1=data[(data['']>low_lmt) & (data['']< up_lmt)]\n",
    "print(\"Initial rows and columns:\", data.shape)\n",
    "print(\"After dropping,count of rows and columns:\",data1.shape)"
   ]
  },
  {
   "cell_type": "code",
   "execution_count": 37,
   "id": "495835de",
   "metadata": {},
   "outputs": [
    {
     "name": "stdout",
     "output_type": "stream",
     "text": [
      "Q1= 39.0\n",
      "Q2= 49.0\n",
      "Q3= 60.0\n",
      "IQR= 21.0\n",
      "up_lmt= 91.5\n",
      "low_lmt= 7.5\n",
      "outliers =  [7.0, 92.0]\n"
     ]
    }
   ],
   "source": [
    "# handling outliers of 'penalties_conversion_rate'\n",
    "Q1=data['penalties_conversion_rate'].quantile(.25)\n",
    "Q2=data['penalties_conversion_rate'].quantile(.50)\n",
    "Q3=data['penalties_conversion_rate'].quantile(.75)\n",
    "print('Q1=',Q1)\n",
    "print('Q2=',Q2)\n",
    "print('Q3=',Q3)\n",
    "\n",
    "IQR = Q3-Q1\n",
    "print('IQR=',IQR)\n",
    "\n",
    "up_lmt=Q3+1.5*IQR\n",
    "low_lmt=Q1-1.5*IQR\n",
    "print('up_lmt=',up_lmt)\n",
    "print('low_lmt=',low_lmt)\n",
    "\n",
    "outlier=[]\n",
    "for x in data['penalties_conversion_rate']:\n",
    "    if (x<low_lmt) or (x>up_lmt):\n",
    "        outlier.append(x)\n",
    "print('outliers = ',outlier)\n"
   ]
  },
  {
   "cell_type": "code",
   "execution_count": 38,
   "id": "9ce38ee9",
   "metadata": {},
   "outputs": [
    {
     "name": "stdout",
     "output_type": "stream",
     "text": [
      "Initial rows and columns: (13994, 30)\n",
      "After dropping,count of rows and columns: (13992, 30)\n"
     ]
    }
   ],
   "source": [
    "data1=data[(data['penalties_conversion_rate']>low_lmt) & (data['penalties_conversion_rate']< up_lmt)]\n",
    "print(\"Initial rows and columns:\", data.shape)\n",
    "print(\"After dropping,count of rows and columns:\",data1.shape)"
   ]
  },
  {
   "cell_type": "code",
   "execution_count": 39,
   "id": "9b78e2ef",
   "metadata": {},
   "outputs": [
    {
     "name": "stdout",
     "output_type": "stream",
     "text": [
      "Q1= 49.0\n",
      "Q2= 58.0\n",
      "Q3= 65.0\n",
      "IQR= 16.0\n",
      "up_lmt= 89.0\n",
      "low_lmt= 25.0\n",
      "outliers =  [24.0, 23.0, 17.0, 24.0, 22.0, 20.0, 23.0, 24.0, 20.0, 21.0, 13.0, 19.0, 90.0, 24.0, 24.0, 91.0, 22.0, 22.0, 21.0, 12.0, 23.0, 24.0, 21.0, 23.0, 24.0, 22.0, 22.0, 19.0, 20.0, 22.0, 18.0, 19.0, 24.0, 21.0, 24.0, 15.0, 18.0, 21.0, 23.0, 24.0, 21.0, 15.0, 22.0, 24.0, 24.0, 21.0, 91.0, 19.0, 21.0, 18.0, 19.0, 22.0, 21.0, 14.0, 21.0, 22.0, 21.0, 20.0, 22.0, 21.0, 23.0, 24.0, 17.0, 23.0, 24.0, 14.0, 20.0, 23.0, 19.0, 24.0, 21.0, 14.0, 23.0, 20.0, 14.0, 20.0, 19.0, 23.0, 24.0, 14.0, 17.0, 22.0, 18.0, 22.0, 24.0, 20.0, 22.0, 24.0, 20.0, 20.0, 19.0, 19.0, 24.0, 22.0, 24.0, 18.0, 17.0, 92.0, 24.0, 22.0, 20.0, 22.0, 9.0, 20.0, 22.0, 11.0, 22.0, 23.0, 23.0, 18.0, 23.0, 22.0, 15.0, 24.0, 22.0, 23.0, 20.0, 23.0, 22.0, 19.0, 24.0, 24.0, 23.0, 23.0, 23.0, 22.0, 91.0, 24.0, 19.0, 24.0, 20.0, 15.0, 21.0, 24.0, 90.0, 16.0, 17.0, 21.0, 22.0, 23.0, 23.0, 24.0, 22.0, 15.0, 24.0, 23.0, 22.0, 23.0, 21.0, 20.0, 19.0, 17.0, 24.0, 19.0, 23.0, 22.0, 24.0, 24.0, 20.0, 22.0, 22.0, 18.0, 21.0, 22.0, 22.0, 23.0, 22.0, 21.0, 23.0, 22.0, 20.0, 24.0, 11.0, 21.0, 20.0, 23.0, 23.0, 22.0, 23.0, 23.0, 21.0, 24.0, 23.0, 22.0, 21.0]\n"
     ]
    }
   ],
   "source": [
    "# handling outliers of 'mental_strength'\n",
    "Q1=data['mental_strength'].quantile(.25)\n",
    "Q2=data['mental_strength'].quantile(.50)\n",
    "Q3=data['mental_strength'].quantile(.75)\n",
    "print('Q1=',Q1)\n",
    "print('Q2=',Q2)\n",
    "print('Q3=',Q3)\n",
    "\n",
    "IQR = Q3-Q1\n",
    "print('IQR=',IQR)\n",
    "\n",
    "up_lmt=Q3+1.5*IQR\n",
    "low_lmt=Q1-1.5*IQR\n",
    "print('up_lmt=',up_lmt)\n",
    "print('low_lmt=',low_lmt)\n",
    "\n",
    "outlier=[]\n",
    "for x in data['mental_strength']:\n",
    "    if (x<low_lmt) or (x>up_lmt):\n",
    "        outlier.append(x)\n",
    "print('outliers = ',outlier)\n"
   ]
  },
  {
   "cell_type": "code",
   "execution_count": 40,
   "id": "ac0d2918",
   "metadata": {},
   "outputs": [
    {
     "name": "stdout",
     "output_type": "stream",
     "text": [
      "Initial rows and columns: (13994, 30)\n",
      "After dropping,count of rows and columns: (13776, 30)\n"
     ]
    }
   ],
   "source": [
    "data1=data[(data['mental_strength']>low_lmt) & (data['mental_strength']< up_lmt)]\n",
    "print(\"Initial rows and columns:\", data.shape)\n",
    "print(\"After dropping,count of rows and columns:\",data1.shape)"
   ]
  },
  {
   "cell_type": "code",
   "execution_count": 41,
   "id": "c622d89d",
   "metadata": {},
   "outputs": [
    {
     "name": "stdout",
     "output_type": "stream",
     "text": [
      "Q1= 10.0\n",
      "Q2= 11.0\n",
      "Q3= 12.0\n",
      "IQR= 2.0\n",
      "up_lmt= 15.0\n",
      "low_lmt= 7.0\n",
      "outliers =  [3.0, 80.0, 50.0, 58.0, 52.0, 68.0, 3.0, 78.0, 56.0, 55.0, 54.0, 76.0, 57.0, 69.0, 48.0, 67.0, 68.0, 61.0, 57.0, 67.0, 57.0, 57.0, 16.0, 59.0, 4.0, 5.0, 70.0, 57.0, 69.0, 55.0, 62.0, 51.0, 63.0, 59.0, 60.0, 52.0, 69.0, 59.0, 71.0, 57.0, 3.0, 71.0, 57.0, 67.0, 71.0, 51.0, 58.0, 53.0, 55.0, 61.0, 64.0, 70.0, 68.0, 68.0, 5.0, 61.0, 53.0, 69.0, 79.0, 60.0, 69.0, 67.0, 49.0, 81.0, 74.0, 67.0, 61.0, 62.0, 59.0, 50.0, 16.0, 48.0, 66.0, 54.0, 66.0, 58.0, 59.0, 62.0, 72.0, 76.0, 68.0, 57.0, 4.0, 69.0, 54.0, 77.0, 48.0, 58.0, 73.0, 5.0, 66.0, 5.0, 68.0, 64.0, 56.0, 68.0, 72.0, 57.0, 54.0, 73.0, 69.0, 72.0, 71.0, 68.0, 55.0, 16.0, 52.0, 87.0, 68.0, 54.0, 65.0, 69.0, 74.0, 80.0, 72.0, 63.0, 65.0, 62.0, 56.0, 61.0, 70.0, 70.0, 54.0, 59.0, 54.0, 56.0, 52.0, 57.0, 68.0, 71.0, 62.0, 68.0, 50.0, 70.0, 64.0, 63.0, 58.0, 62.0, 59.0, 56.0, 64.0, 61.0, 69.0, 63.0, 4.0, 66.0, 66.0, 68.0, 81.0, 56.0, 59.0, 65.0, 69.0, 53.0, 53.0, 65.0, 63.0, 71.0, 51.0, 66.0, 58.0, 67.0, 68.0, 62.0, 50.0, 57.0, 59.0, 71.0, 66.0, 67.0, 66.0, 49.0, 65.0, 61.0, 6.0, 68.0, 55.0, 4.0, 65.0, 1.0, 76.0, 60.0, 60.0, 54.0, 61.0, 60.0, 54.0, 67.0, 68.0, 63.0, 61.0, 55.0, 61.0, 56.0, 66.0, 61.0, 55.0, 70.0, 69.0, 75.0, 64.0, 57.0, 74.0, 56.0, 57.0, 71.0, 59.0, 63.0, 66.0, 49.0, 62.0, 54.0, 77.0, 61.0, 78.0, 56.0, 76.0, 53.0, 71.0, 54.0, 67.0, 61.0, 61.0, 68.0, 60.0, 72.0, 69.0, 68.0, 57.0, 4.0, 69.0, 58.0, 73.0, 58.0, 63.0, 63.0, 59.0, 56.0, 62.0, 4.0, 57.0, 79.0, 63.0, 70.0, 75.0, 58.0, 51.0, 55.0, 52.0, 68.0, 54.0, 64.0, 63.0, 55.0, 71.0, 61.0, 56.0, 51.0, 51.0, 67.0, 3.0, 65.0, 54.0, 51.0, 53.0, 66.0, 63.0, 60.0, 69.0, 53.0, 1.0, 6.0, 1.0, 80.0, 61.0, 68.0, 66.0, 57.0, 62.0, 60.0, 68.0, 62.0, 61.0, 59.0, 70.0, 76.0, 63.0, 75.0, 69.0, 66.0, 55.0, 60.0, 65.0, 60.0, 64.0, 54.0, 51.0, 59.0, 53.0, 56.0, 62.0, 62.0, 62.0, 53.0, 76.0, 69.0, 74.0, 64.0, 55.0, 54.0, 62.0, 50.0, 63.0, 6.0, 73.0, 55.0, 58.0, 63.0, 55.0, 60.0, 63.0, 69.0, 60.0, 65.0, 81.0, 55.0, 68.0, 4.0, 4.0, 51.0, 68.0, 63.0, 62.0, 1.0, 63.0, 65.0, 24.0, 58.0, 4.0, 49.0, 5.0, 70.0, 59.0, 72.0, 66.0, 64.0, 54.0, 58.0, 61.0, 72.0, 62.0, 74.0, 68.0, 60.0, 75.0, 59.0, 62.0, 56.0, 4.0, 61.0, 59.0, 54.0, 82.0, 54.0, 64.0, 78.0, 59.0, 56.0, 77.0, 49.0, 71.0, 73.0, 51.0, 57.0, 62.0, 53.0, 32.0, 63.0, 69.0, 69.0, 65.0, 57.0, 51.0, 53.0, 57.0, 55.0, 6.0, 67.0, 62.0, 60.0, 64.0, 58.0, 66.0, 68.0, 69.0, 55.0, 51.0, 54.0, 63.0, 67.0, 63.0, 61.0, 68.0, 59.0, 78.0, 68.0, 66.0, 50.0, 69.0, 17.0, 5.0, 70.0, 61.0, 74.0, 72.0, 78.0, 68.0, 58.0, 65.0, 62.0, 72.0, 66.0, 52.0, 61.0, 65.0, 5.0, 73.0, 77.0, 68.0, 51.0, 68.0, 75.0, 64.0, 51.0, 58.0, 59.0, 55.0, 63.0, 82.0, 61.0, 63.0, 64.0, 6.0, 53.0, 65.0, 62.0, 64.0, 59.0, 70.0, 73.0, 63.0, 51.0, 64.0, 59.0, 60.0, 56.0, 60.0, 5.0, 60.0, 67.0, 72.0, 80.0, 73.0, 31.0, 55.0, 55.0, 52.0, 55.0, 65.0, 80.0, 66.0, 57.0, 64.0, 61.0, 67.0, 73.0, 64.0, 52.0, 57.0, 49.0, 73.0, 65.0, 62.0, 60.0, 58.0, 79.0, 66.0, 64.0, 71.0, 4.0, 63.0, 68.0, 52.0, 62.0, 67.0, 59.0, 68.0, 50.0, 52.0, 2.0, 70.0, 76.0, 1.0, 66.0, 58.0, 77.0, 16.0, 52.0, 67.0, 57.0, 72.0, 75.0, 72.0, 60.0, 52.0, 57.0, 69.0, 64.0, 61.0, 69.0, 71.0, 49.0, 67.0, 63.0, 53.0, 56.0, 64.0, 62.0, 74.0, 65.0, 71.0, 53.0, 61.0, 59.0, 63.0, 65.0, 53.0, 55.0, 50.0, 60.0, 63.0, 4.0, 59.0, 64.0, 74.0, 52.0, 71.0, 80.0, 54.0, 70.0, 73.0, 61.0, 62.0, 66.0, 69.0, 53.0, 66.0, 63.0, 72.0, 52.0, 62.0, 1.0, 71.0, 67.0, 53.0, 64.0, 72.0, 68.0, 59.0, 58.0, 62.0, 66.0, 69.0, 64.0, 6.0, 88.0, 54.0, 52.0, 67.0, 67.0, 51.0, 64.0, 72.0, 68.0, 67.0, 68.0, 62.0, 60.0, 56.0, 65.0, 4.0, 62.0, 54.0, 68.0, 73.0, 57.0, 66.0, 68.0, 62.0, 63.0, 64.0, 72.0, 64.0, 58.0, 59.0, 50.0, 60.0, 1.0, 65.0, 65.0, 71.0, 69.0, 59.0, 64.0, 52.0, 57.0, 59.0, 67.0, 61.0, 65.0, 65.0, 64.0, 75.0, 4.0, 53.0, 67.0, 69.0, 72.0, 56.0, 49.0, 53.0, 56.0, 63.0, 16.0, 70.0, 58.0, 66.0, 58.0, 64.0, 59.0, 70.0, 56.0, 59.0, 66.0, 70.0, 65.0, 59.0, 65.0, 60.0, 62.0, 75.0, 67.0, 54.0, 62.0, 50.0, 59.0, 61.0, 52.0, 71.0, 63.0, 68.0, 59.0, 66.0, 55.0, 1.0, 57.0, 67.0, 62.0, 57.0, 72.0, 71.0, 58.0, 54.0, 57.0, 55.0, 55.0, 67.0, 62.0, 61.0, 65.0, 59.0, 64.0, 59.0, 51.0, 58.0, 61.0, 62.0, 77.0, 56.0, 66.0, 72.0, 84.0, 54.0, 63.0, 73.0, 61.0, 58.0, 53.0, 56.0, 55.0, 52.0, 69.0, 58.0, 74.0, 55.0, 72.0, 53.0, 71.0, 54.0, 69.0, 61.0, 59.0, 73.0, 52.0, 53.0, 1.0, 55.0, 56.0, 67.0, 63.0, 53.0, 65.0, 64.0, 73.0, 63.0, 59.0, 55.0, 70.0, 6.0, 57.0, 60.0, 71.0, 63.0, 60.0, 68.0, 61.0, 68.0, 57.0, 68.0, 56.0, 65.0, 67.0, 67.0, 64.0, 61.0, 66.0, 61.0, 61.0, 66.0, 67.0, 60.0, 57.0, 57.0, 63.0, 69.0, 66.0, 67.0, 76.0, 56.0, 60.0, 68.0, 28.0, 67.0, 66.0, 61.0, 52.0, 58.0, 61.0, 57.0, 55.0, 68.0, 68.0, 67.0, 68.0, 17.0, 53.0, 76.0, 65.0, 72.0, 3.0, 71.0, 63.0, 68.0, 68.0, 50.0, 68.0, 62.0, 68.0, 73.0, 54.0, 62.0, 70.0, 72.0, 70.0, 71.0, 64.0, 59.0, 62.0, 61.0, 63.0, 64.0, 59.0, 57.0, 71.0, 60.0, 60.0, 73.0, 50.0, 68.0, 19.0, 65.0, 3.0, 65.0, 65.0, 57.0, 62.0, 61.0, 68.0, 52.0, 69.0, 66.0, 67.0, 59.0, 57.0, 59.0, 54.0, 72.0, 58.0, 28.0, 56.0, 34.0, 77.0, 52.0, 68.0, 54.0, 63.0, 66.0, 5.0, 75.0, 51.0, 59.0, 69.0, 56.0, 64.0, 75.0, 76.0, 16.0, 60.0, 68.0, 61.0, 68.0, 59.0, 63.0, 72.0, 60.0, 59.0, 49.0, 73.0, 61.0, 61.0, 54.0, 6.0, 53.0, 58.0, 63.0, 5.0, 66.0, 75.0, 53.0, 62.0, 63.0, 60.0, 51.0, 19.0, 79.0, 71.0, 62.0, 60.0, 60.0, 68.0, 64.0, 78.0, 67.0, 16.0, 53.0, 53.0, 56.0, 63.0, 66.0, 66.0, 54.0, 73.0, 64.0, 65.0, 60.0, 63.0, 58.0, 53.0, 60.0, 65.0, 5.0, 83.0, 61.0, 77.0, 60.0, 2.0, 59.0, 66.0, 73.0, 56.0, 62.0, 51.0, 67.0, 61.0, 66.0, 59.0, 65.0, 53.0, 57.0, 65.0, 53.0, 54.0, 54.0, 70.0, 60.0, 53.0, 58.0, 65.0, 64.0, 64.0, 68.0, 53.0, 53.0, 71.0, 68.0, 67.0, 51.0, 65.0, 70.0, 3.0, 64.0, 75.0, 64.0, 73.0, 51.0, 62.0, 71.0, 55.0, 68.0, 59.0, 64.0, 5.0, 51.0, 55.0, 49.0, 58.0, 76.0, 58.0, 67.0, 1.0, 61.0, 73.0, 71.0, 72.0, 61.0, 61.0, 63.0, 65.0, 65.0, 63.0, 55.0, 70.0, 79.0, 59.0, 55.0, 52.0, 63.0, 63.0, 54.0, 65.0, 67.0, 60.0, 55.0, 57.0, 53.0, 64.0, 71.0, 63.0, 55.0, 67.0, 64.0, 69.0, 68.0, 55.0, 68.0, 46.0, 56.0, 66.0, 63.0, 70.0, 61.0, 53.0, 69.0, 73.0, 62.0, 66.0, 52.0, 60.0, 61.0, 58.0, 60.0, 75.0, 68.0, 79.0, 62.0, 61.0, 61.0, 68.0, 60.0, 62.0, 53.0, 69.0, 6.0, 64.0, 54.0, 48.0, 58.0, 67.0, 54.0, 52.0, 1.0, 67.0, 61.0, 60.0, 71.0, 62.0, 69.0, 55.0, 75.0, 55.0, 75.0, 52.0, 65.0, 65.0, 59.0, 71.0, 62.0, 67.0, 61.0, 61.0, 61.0, 61.0, 58.0, 79.0, 66.0, 68.0, 69.0, 69.0, 61.0, 62.0, 71.0, 73.0, 62.0, 72.0, 60.0, 1.0, 52.0, 69.0, 59.0, 60.0, 63.0, 59.0, 60.0, 75.0, 81.0, 60.0, 74.0, 5.0, 57.0, 56.0, 63.0, 74.0, 82.0, 52.0, 78.0, 59.0, 62.0, 71.0, 71.0, 59.0, 64.0, 57.0, 65.0, 74.0, 54.0, 55.0, 59.0, 54.0, 61.0, 58.0, 62.0, 67.0, 49.0, 17.0, 68.0, 72.0, 71.0, 70.0, 69.0, 63.0, 66.0, 5.0, 58.0, 65.0, 72.0, 78.0, 67.0, 70.0, 1.0, 63.0, 60.0, 4.0, 71.0, 72.0, 50.0, 60.0, 74.0, 54.0, 63.0, 61.0, 68.0, 1.0, 74.0, 63.0, 77.0, 53.0, 62.0, 1.0, 59.0, 68.0, 63.0, 61.0, 56.0, 55.0, 52.0, 58.0, 71.0, 72.0, 55.0, 51.0, 61.0, 63.0, 72.0, 63.0, 1.0, 62.0, 57.0, 60.0, 70.0, 62.0, 62.0, 53.0, 70.0, 60.0, 71.0, 64.0, 73.0, 55.0, 66.0, 65.0, 66.0, 72.0, 54.0, 65.0, 77.0, 62.0, 59.0, 57.0, 53.0, 57.0, 84.0, 55.0, 62.0, 60.0, 71.0, 57.0, 65.0, 48.0, 61.0, 69.0, 59.0, 63.0, 60.0, 59.0, 67.0, 64.0, 59.0, 5.0, 72.0, 54.0, 63.0, 4.0, 69.0, 64.0, 51.0, 64.0, 67.0, 63.0, 65.0, 67.0, 5.0, 59.0, 57.0, 64.0, 51.0, 61.0, 60.0, 65.0, 65.0, 56.0, 75.0, 62.0, 56.0, 63.0, 57.0, 60.0, 56.0, 68.0, 4.0, 66.0, 55.0, 57.0, 56.0, 63.0, 61.0, 87.0, 59.0, 51.0, 66.0, 70.0, 57.0, 64.0, 55.0, 68.0, 73.0, 66.0, 60.0, 73.0, 63.0, 71.0, 56.0, 3.0, 59.0, 52.0, 17.0, 66.0, 68.0, 59.0, 55.0, 73.0, 3.0, 59.0, 72.0, 62.0, 74.0, 66.0, 65.0, 67.0, 61.0, 75.0, 70.0, 52.0, 70.0, 75.0, 69.0, 65.0, 69.0, 68.0, 69.0, 63.0, 52.0, 63.0, 16.0, 58.0, 58.0, 56.0, 58.0, 4.0, 65.0, 58.0, 67.0, 51.0, 61.0, 56.0, 5.0, 74.0, 64.0, 57.0, 60.0, 52.0, 65.0, 61.0, 61.0, 63.0, 72.0, 63.0, 53.0, 67.0, 56.0, 67.0, 56.0, 67.0, 49.0, 67.0, 64.0, 68.0, 64.0, 61.0, 59.0, 60.0, 63.0, 65.0, 62.0, 68.0, 70.0, 63.0, 63.0, 58.0, 80.0, 64.0, 65.0, 65.0, 68.0, 56.0, 4.0, 65.0, 60.0, 61.0, 59.0, 66.0, 51.0, 60.0, 58.0, 78.0, 59.0, 58.0, 65.0, 62.0, 66.0, 53.0, 68.0, 56.0, 50.0, 61.0, 55.0, 53.0, 58.0, 76.0, 71.0, 61.0, 60.0, 58.0, 72.0, 62.0, 4.0, 60.0, 54.0, 64.0, 72.0, 61.0, 65.0, 66.0, 75.0, 63.0, 55.0, 66.0, 66.0, 64.0, 54.0, 69.0, 69.0, 65.0, 72.0, 49.0, 63.0, 16.0, 53.0, 53.0, 71.0, 59.0, 59.0, 71.0, 63.0, 68.0, 4.0, 64.0, 78.0, 51.0, 73.0, 64.0, 76.0, 74.0, 60.0, 80.0, 53.0, 55.0, 70.0, 67.0, 59.0, 75.0, 62.0, 72.0, 59.0, 72.0, 3.0, 71.0, 66.0, 58.0, 67.0, 75.0, 70.0, 48.0, 59.0, 55.0, 66.0, 64.0, 53.0, 67.0, 63.0, 58.0, 65.0, 68.0, 65.0, 67.0, 60.0, 70.0, 59.0, 63.0, 66.0, 5.0, 80.0, 64.0, 56.0, 62.0, 70.0, 69.0, 76.0, 64.0, 62.0, 66.0, 64.0, 67.0, 51.0, 65.0, 56.0, 72.0, 60.0, 52.0, 68.0, 65.0, 65.0, 1.0, 67.0, 56.0, 70.0, 59.0, 71.0, 63.0, 64.0, 66.0, 53.0, 51.0, 66.0, 60.0, 61.0, 67.0, 60.0, 65.0, 58.0, 61.0, 68.0, 76.0, 55.0, 60.0, 59.0, 68.0, 71.0, 81.0, 79.0, 62.0, 72.0, 65.0, 69.0, 70.0, 62.0, 65.0, 64.0, 73.0, 61.0, 71.0, 58.0, 55.0, 75.0, 64.0, 73.0, 57.0, 64.0, 67.0, 72.0, 71.0, 64.0, 60.0, 64.0, 69.0, 56.0, 73.0, 64.0, 54.0, 66.0, 64.0, 63.0, 65.0, 5.0, 64.0, 2.0, 76.0, 52.0, 52.0, 61.0, 72.0, 67.0, 69.0, 56.0, 58.0, 55.0, 68.0, 54.0, 59.0, 71.0, 66.0, 62.0, 50.0, 4.0, 71.0, 53.0, 64.0, 54.0, 55.0, 23.0, 56.0, 53.0, 60.0, 63.0, 54.0, 4.0, 69.0, 67.0, 59.0, 6.0, 63.0, 67.0, 18.0, 74.0, 63.0, 64.0, 3.0, 3.0, 67.0, 64.0, 57.0, 61.0, 55.0, 74.0, 78.0, 68.0, 54.0, 58.0, 70.0, 16.0, 73.0, 66.0, 16.0, 66.0, 65.0, 71.0, 56.0, 58.0, 71.0, 63.0, 66.0, 63.0, 60.0, 6.0, 71.0, 53.0, 63.0, 73.0, 48.0, 61.0, 65.0, 55.0, 81.0, 61.0, 75.0, 59.0, 63.0, 67.0, 66.0, 66.0, 69.0, 69.0, 60.0, 61.0, 57.0, 58.0, 55.0, 59.0, 67.0, 68.0, 17.0, 63.0, 79.0, 59.0, 66.0, 1.0, 6.0, 67.0, 62.0, 64.0, 70.0, 67.0, 57.0, 68.0, 66.0, 60.0, 61.0, 72.0, 63.0, 52.0, 3.0, 69.0, 52.0, 5.0, 55.0, 66.0, 17.0, 6.0, 56.0, 68.0, 4.0, 54.0, 70.0, 52.0, 68.0, 69.0, 68.0, 18.0, 16.0, 62.0, 62.0, 59.0, 54.0, 60.0, 78.0, 77.0, 63.0, 64.0, 52.0, 61.0, 54.0, 59.0, 60.0, 69.0, 50.0, 57.0, 65.0, 66.0, 71.0, 72.0, 6.0, 65.0, 52.0, 64.0, 59.0, 66.0, 53.0, 61.0, 3.0, 64.0, 67.0, 76.0, 53.0, 72.0, 52.0, 66.0, 57.0, 53.0, 79.0, 54.0, 61.0, 61.0, 75.0, 74.0, 64.0, 6.0]\n"
     ]
    }
   ],
   "source": [
    "# handling outliers of 'goalkeeping_skills'\n",
    "Q1=data['goalkeeping_skills'].quantile(.25)\n",
    "Q2=data['goalkeeping_skills'].quantile(.50)\n",
    "Q3=data['goalkeeping_skills'].quantile(.75)\n",
    "print('Q1=',Q1)\n",
    "print('Q2=',Q2)\n",
    "print('Q3=',Q3)\n",
    "\n",
    "IQR = Q3-Q1\n",
    "print('IQR=',IQR)\n",
    "\n",
    "up_lmt=Q3+1.5*IQR\n",
    "low_lmt=Q1-1.5*IQR\n",
    "print('up_lmt=',up_lmt)\n",
    "print('low_lmt=',low_lmt)\n",
    "\n",
    "outlier=[]\n",
    "for x in data['goalkeeping_skills']:\n",
    "    if (x<low_lmt) or (x>up_lmt):\n",
    "        outlier.append(x)\n",
    "print('outliers = ',outlier)\n"
   ]
  },
  {
   "cell_type": "code",
   "execution_count": 42,
   "id": "962a32be",
   "metadata": {},
   "outputs": [
    {
     "name": "stdout",
     "output_type": "stream",
     "text": [
      "Initial rows and columns: (13994, 30)\n",
      "After dropping,count of rows and columns: (12099, 30)\n"
     ]
    }
   ],
   "source": [
    "data1=data[(data['goalkeeping_skills']>low_lmt) & (data['goalkeeping_skills']< up_lmt)]\n",
    "print(\"Initial rows and columns:\", data.shape)\n",
    "print(\"After dropping,count of rows and columns:\",data1.shape)"
   ]
  },
  {
   "cell_type": "code",
   "execution_count": 43,
   "id": "f534ac13",
   "metadata": {},
   "outputs": [
    {
     "name": "stdout",
     "output_type": "stream",
     "text": [
      "Q1= 36.0\n",
      "Q2= 52.0\n",
      "Q3= 61.0\n",
      "IQR= 25.0\n",
      "up_lmt= 98.5\n",
      "low_lmt= -1.5\n",
      "outliers =  []\n"
     ]
    }
   ],
   "source": [
    "# handling outliers of 'defending_skills'\n",
    "Q1=data['defending_skills'].quantile(.25)\n",
    "Q2=data['defending_skills'].quantile(.50)\n",
    "Q3=data['defending_skills'].quantile(.75)\n",
    "print('Q1=',Q1)\n",
    "print('Q2=',Q2)\n",
    "print('Q3=',Q3)\n",
    "\n",
    "IQR = Q3-Q1\n",
    "print('IQR=',IQR)\n",
    "\n",
    "up_lmt=Q3+1.5*IQR\n",
    "low_lmt=Q1-1.5*IQR\n",
    "print('up_lmt=',up_lmt)\n",
    "print('low_lmt=',low_lmt)\n",
    "\n",
    "outlier=[]\n",
    "for x in data['defending_skills']:\n",
    "    if (x<low_lmt) or (x>up_lmt):\n",
    "        outlier.append(x)\n",
    "print('outliers = ',outlier)\n"
   ]
  },
  {
   "cell_type": "code",
   "execution_count": 44,
   "id": "97dc7e2e",
   "metadata": {},
   "outputs": [
    {
     "name": "stdout",
     "output_type": "stream",
     "text": [
      "Initial rows and columns: (13994, 30)\n",
      "After dropping,count of rows and columns: (13994, 30)\n"
     ]
    }
   ],
   "source": [
    "data1=data[(data['defending_skills']>low_lmt) & (data['defending_skills']< up_lmt)]\n",
    "print(\"Initial rows and columns:\", data.shape)\n",
    "print(\"After dropping,count of rows and columns:\",data1.shape)"
   ]
  },
  {
   "cell_type": "code",
   "execution_count": 45,
   "id": "99f2c921",
   "metadata": {},
   "outputs": [
    {
     "name": "stdout",
     "output_type": "stream",
     "text": [
      "Q1= 45.0\n",
      "Q2= 56.0\n",
      "Q3= 63.0\n",
      "IQR= 18.0\n",
      "up_lmt= 90.0\n",
      "low_lmt= 18.0\n",
      "outliers =  [15.0, 17.0, 15.0, 17.0, 16.0, 17.0, 17.0, 16.0, 16.0, 17.0, 17.0, 15.0, 15.0, 15.0, 16.0, 14.0, 14.0, 14.0, 16.0, 17.0, 17.0, 16.0, 14.0, 13.0, 16.0, 14.0, 16.0, 16.0, 17.0, 16.0, 17.0, 17.0, 16.0, 16.0, 16.0, 16.0, 16.0, 17.0, 17.0, 16.0, 16.0, 17.0, 16.0]\n"
     ]
    }
   ],
   "source": [
    "# handling outliers of 'passing_skills'\n",
    "Q1=data['passing_skills'].quantile(.25)\n",
    "Q2=data['passing_skills'].quantile(.50)\n",
    "Q3=data['passing_skills'].quantile(.75)\n",
    "print('Q1=',Q1)\n",
    "print('Q2=',Q2)\n",
    "print('Q3=',Q3)\n",
    "\n",
    "IQR = Q3-Q1\n",
    "print('IQR=',IQR)\n",
    "\n",
    "up_lmt=Q3+1.5*IQR\n",
    "low_lmt=Q1-1.5*IQR\n",
    "print('up_lmt=',up_lmt)\n",
    "print('low_lmt=',low_lmt)\n",
    "\n",
    "outlier=[]\n",
    "for x in data['passing_skills']:\n",
    "    if (x<low_lmt) or (x>up_lmt):\n",
    "        outlier.append(x)\n",
    "print('outliers = ',outlier)\n"
   ]
  },
  {
   "cell_type": "code",
   "execution_count": 46,
   "id": "39d4e5d9",
   "metadata": {},
   "outputs": [
    {
     "name": "stdout",
     "output_type": "stream",
     "text": [
      "Initial rows and columns: (13994, 30)\n",
      "After dropping,count of rows and columns: (13895, 30)\n"
     ]
    }
   ],
   "source": [
    "data1=data[(data['passing_skills']>low_lmt) & (data['passing_skills']< up_lmt)]\n",
    "print(\"Initial rows and columns:\", data.shape)\n",
    "print(\"After dropping,count of rows and columns:\",data1.shape)"
   ]
  },
  {
   "cell_type": "code",
   "execution_count": 47,
   "id": "7a53585b",
   "metadata": {},
   "outputs": [
    {
     "name": "stdout",
     "output_type": "stream",
     "text": [
      "Q1= 25.0\n",
      "Q2= 31.0\n",
      "Q3= 35.0\n",
      "IQR= 10.0\n",
      "up_lmt= 50.0\n",
      "low_lmt= 10.0\n",
      "outliers =  [8.0, 8.0, 8.0, 8.0, 4.0, 3.0, 6.0, 5.0, 8.0, 8.0, 8.0, 6.0, 6.0, 4.0, 7.0, 9.0, 8.0, 6.0, 9.0, 8.0, 6.0, 6.0, 4.0, 8.0, 4.0, 7.0, 7.0, 6.0, 8.0, 6.0, 9.0, 4.0, 8.0, 4.0, 6.0, 5.0, 2.0, 8.0, 6.0, 6.0, 6.0, 8.0, 6.0, 8.0, 6.0, 6.0, 6.0, 6.0, 7.0, 8.0, 7.0, 7.0, 5.0, 5.0, 8.0, 8.0, 6.0, 8.0, 8.0, 6.0, 6.0, 8.0, 8.0, 8.0, 6.0, 5.0, 6.0, 4.0, 8.0, 7.0, 8.0, 6.0, 5.0, 9.0, 6.0, 8.0, 6.0, 8.0, 8.0, 3.0, 7.0, 8.0, 8.0, 6.0, 6.0, 4.0, 5.0, 6.0, 4.0, 8.0, 6.0, 7.0, 4.0, 5.0, 3.0, 9.0, 8.0, 8.0, 4.0, 6.0, 8.0, 6.0, 2.0, 8.0, 4.0, 6.0, 5.0, 6.0, 6.0, 8.0, 6.0, 6.0, 6.0, 6.0, 8.0, 4.0, 6.0, 8.0, 7.0, 8.0, 9.0, 6.0, 6.0, 8.0, 4.0, 7.0, 6.0, 6.0, 8.0, 4.0, 8.0, 6.0, 6.0, 8.0, 8.0, 3.0, 8.0, 7.0, 6.0, 8.0, 7.0, 3.0, 6.0, 6.0, 4.0, 3.0, 8.0, 8.0, 8.0, 8.0, 3.0, 6.0, 6.0, 7.0, 5.0, 6.0, 4.0, 8.0, 4.0, 7.0, 8.0, 8.0, 8.0, 9.0, 9.0, 8.0, 8.0, 6.0, 6.0, 3.0, 8.0, 7.0, 7.0, 9.0, 8.0, 4.0, 7.0, 6.0, 8.0, 4.0, 4.0, 4.0, 7.0, 6.0, 6.0, 6.0, 3.0, 4.0, 6.0, 6.0, 8.0, 5.0, 6.0, 7.0, 6.0, 6.0, 3.0, 6.0, 9.0, 6.0, 4.0, 6.0, 8.0, 6.0, 4.0, 6.0, 6.0, 6.0, 8.0, 4.0, 8.0, 9.0, 7.0, 7.0, 6.0, 7.0, 4.0, 6.0, 4.0, 5.0, 4.0, 8.0, 4.0, 5.0, 6.0, 7.0, 6.0, 4.0, 6.0, 6.0, 4.0, 8.0, 6.0, 8.0, 8.0, 8.0, 6.0, 7.0, 9.0, 4.0, 5.0, 7.0, 4.0, 6.0, 8.0, 6.0, 7.0, 7.0, 6.0, 8.0, 9.0, 7.0, 6.0, 8.0, 6.0, 8.0, 6.0, 4.0, 7.0, 6.0, 5.0, 8.0, 6.0, 8.0, 8.0, 8.0, 7.0, 9.0, 3.0, 7.0, 8.0, 5.0, 7.0, 4.0, 7.0, 8.0, 6.0, 2.0, 4.0, 7.0, 8.0, 7.0, 7.0, 6.0, 7.0, 6.0, 6.0, 6.0, 8.0, 4.0, 8.0, 8.0, 6.0, 6.0, 8.0, 6.0, 9.0, 5.0, 8.0, 6.0, 6.0, 6.0, 9.0, 2.0, 6.0, 4.0, 6.0, 7.0, 8.0, 6.0, 8.0, 5.0, 8.0, 9.0, 7.0, 6.0, 6.0, 7.0, 8.0, 8.0, 8.0, 7.0, 7.0, 6.0, 7.0, 6.0, 6.0, 3.0, 7.0, 6.0, 7.0, 7.0, 6.0, 6.0, 8.0, 6.0, 7.0, 8.0, 5.0, 8.0, 6.0, 6.0, 4.0, 4.0, 8.0, 8.0, 3.0, 6.0, 4.0, 7.0, 7.0, 8.0, 6.0, 3.0, 6.0, 8.0, 8.0, 9.0, 5.0, 7.0, 8.0, 6.0, 6.0, 5.0, 5.0, 6.0, 3.0, 6.0, 9.0, 8.0, 6.0, 4.0, 5.0, 8.0, 7.0, 4.0, 6.0, 6.0, 7.0, 8.0, 4.0, 8.0, 6.0, 4.0, 8.0, 8.0, 6.0, 6.0, 8.0, 6.0, 9.0, 6.0, 8.0, 8.0, 4.0, 9.0, 6.0, 8.0, 6.0, 6.0, 8.0, 5.0, 6.0, 4.0, 6.0, 6.0, 8.0, 8.0, 5.0, 6.0, 8.0, 8.0, 6.0, 7.0, 7.0, 8.0, 6.0, 6.0, 6.0, 7.0, 5.0, 6.0, 7.0, 5.0, 7.0, 7.0, 6.0, 4.0, 6.0, 8.0, 8.0, 8.0, 4.0, 6.0, 6.0, 4.0, 6.0, 6.0, 6.0, 6.0, 6.0, 8.0, 6.0, 6.0, 6.0, 6.0, 8.0, 6.0, 5.0, 7.0, 6.0, 4.0, 8.0, 8.0, 8.0, 8.0, 9.0, 5.0, 9.0, 6.0, 8.0, 6.0, 7.0, 7.0, 6.0, 7.0, 8.0, 6.0, 5.0, 6.0, 6.0, 6.0, 8.0, 9.0, 6.0, 8.0, 8.0, 4.0, 4.0, 8.0, 6.0, 6.0, 8.0, 6.0, 8.0, 6.0, 8.0, 6.0, 6.0, 6.0, 5.0, 7.0, 8.0, 6.0, 6.0, 8.0, 6.0, 3.0, 7.0, 7.0, 7.0, 6.0, 9.0, 5.0, 4.0, 9.0, 8.0, 5.0, 7.0, 5.0, 6.0, 8.0, 9.0, 6.0, 8.0, 5.0, 7.0, 6.0, 7.0, 7.0, 6.0, 4.0, 6.0, 5.0, 4.0, 8.0, 7.0, 6.0, 5.0, 6.0, 7.0, 6.0, 6.0, 8.0, 6.0, 8.0, 6.0, 8.0, 8.0, 6.0, 6.0, 9.0, 8.0, 9.0, 8.0, 6.0, 6.0, 8.0, 6.0, 7.0, 4.0, 8.0, 3.0, 4.0, 6.0, 8.0, 8.0, 6.0, 6.0, 5.0, 4.0, 7.0, 6.0, 6.0, 9.0, 6.0, 4.0, 8.0, 8.0, 8.0, 6.0, 8.0, 6.0, 6.0, 8.0, 6.0, 6.0, 6.0, 8.0, 6.0, 9.0, 8.0, 6.0, 8.0, 8.0, 8.0, 7.0, 6.0, 9.0, 3.0, 6.0, 8.0, 8.0, 7.0, 8.0, 9.0, 8.0, 9.0, 7.0, 6.0, 4.0, 8.0, 6.0, 9.0, 6.0, 8.0, 6.0, 6.0, 4.0, 6.0, 6.0, 8.0, 7.0, 3.0, 9.0, 5.0, 4.0, 8.0, 4.0, 6.0, 9.0, 8.0, 8.0, 6.0, 6.0, 6.0, 6.0, 8.0, 6.0, 9.0, 8.0, 6.0, 8.0, 6.0, 6.0, 8.0, 6.0, 4.0, 8.0, 9.0, 8.0, 6.0, 8.0, 6.0, 7.0, 7.0, 8.0, 4.0, 8.0, 6.0, 8.0, 6.0, 8.0, 4.0, 8.0, 6.0, 8.0, 6.0, 5.0, 8.0, 4.0, 8.0, 8.0, 8.0, 8.0, 8.0, 3.0, 7.0, 8.0, 6.0, 8.0, 5.0, 4.0, 6.0, 6.0, 5.0, 8.0, 4.0, 6.0, 8.0, 6.0, 6.0, 4.0, 3.0, 5.0, 8.0, 6.0, 7.0, 6.0, 8.0, 6.0, 7.0, 8.0, 8.0, 6.0, 6.0, 8.0, 6.0, 7.0, 6.0, 6.0, 6.0, 6.0, 9.0, 6.0, 4.0, 8.0, 6.0, 8.0, 8.0, 7.0, 8.0, 7.0, 6.0, 6.0, 7.0, 6.0, 8.0, 4.0, 8.0, 6.0, 6.0, 6.0, 7.0, 7.0, 8.0, 8.0, 6.0, 7.0, 6.0, 6.0, 4.0, 8.0, 7.0, 6.0, 6.0, 6.0, 9.0, 6.0, 4.0, 6.0, 8.0, 7.0, 4.0, 8.0, 8.0, 8.0, 8.0, 9.0, 7.0, 9.0, 9.0, 6.0, 8.0, 6.0, 8.0, 7.0, 6.0, 9.0, 6.0, 8.0, 5.0, 6.0, 6.0, 4.0, 7.0, 7.0, 7.0, 6.0, 6.0, 6.0, 5.0, 6.0, 8.0, 8.0, 7.0, 8.0, 8.0, 9.0, 6.0, 6.0, 8.0, 8.0, 7.0, 7.0, 8.0, 8.0, 6.0, 8.0, 4.0, 6.0, 8.0, 6.0, 8.0, 7.0, 8.0, 4.0, 8.0, 6.0, 6.0, 4.0, 8.0, 8.0, 8.0, 8.0, 6.0, 6.0, 6.0, 7.0, 3.0, 7.0, 6.0, 9.0, 7.0, 6.0, 6.0, 6.0, 5.0, 7.0, 8.0, 8.0, 4.0, 5.0, 6.0, 8.0, 7.0, 6.0, 7.0, 6.0, 6.0, 7.0, 7.0, 8.0, 7.0, 8.0, 6.0, 8.0, 8.0, 8.0, 7.0, 7.0, 6.0, 8.0, 6.0, 6.0, 8.0, 6.0, 5.0, 6.0, 6.0, 6.0, 7.0, 4.0, 8.0, 5.0, 8.0, 6.0, 6.0, 6.0, 7.0, 8.0, 7.0, 6.0, 4.0, 8.0, 4.0, 6.0, 6.0, 7.0, 6.0, 8.0, 8.0, 7.0, 8.0, 8.0, 7.0, 8.0, 6.0, 4.0, 6.0, 8.0, 7.0, 6.0, 6.0, 4.0, 8.0, 6.0, 6.0, 6.0, 8.0, 5.0, 8.0, 8.0, 7.0, 6.0, 7.0, 8.0, 6.0, 8.0, 6.0, 8.0, 6.0, 6.0, 7.0, 8.0, 8.0, 4.0, 6.0, 7.0, 6.0, 6.0, 6.0, 6.0, 6.0, 6.0, 6.0, 8.0, 7.0, 6.0, 8.0, 9.0, 4.0, 8.0, 9.0, 9.0, 6.0, 8.0, 6.0, 6.0, 7.0, 4.0, 7.0, 5.0, 8.0, 7.0, 7.0, 7.0, 8.0, 6.0, 7.0, 9.0, 4.0, 6.0, 8.0, 6.0, 4.0, 6.0, 6.0, 8.0, 8.0, 6.0, 8.0, 4.0, 8.0, 9.0, 7.0, 8.0, 8.0, 8.0, 6.0, 5.0, 6.0, 6.0, 6.0, 6.0, 6.0, 8.0, 6.0, 6.0, 6.0, 8.0, 8.0, 6.0, 8.0, 6.0, 4.0, 8.0, 7.0, 4.0, 6.0, 6.0, 6.0, 7.0, 4.0, 6.0, 9.0, 6.0, 9.0, 8.0, 7.0, 6.0, 4.0, 7.0, 7.0, 6.0, 6.0, 6.0, 6.0, 6.0, 8.0, 7.0, 6.0, 6.0, 8.0, 9.0, 6.0, 4.0, 4.0, 8.0, 7.0, 8.0, 4.0, 6.0, 4.0, 7.0, 6.0, 8.0, 3.0, 6.0, 5.0, 5.0, 8.0, 6.0, 5.0, 7.0, 6.0, 6.0, 6.0, 6.0, 4.0, 9.0, 8.0, 7.0, 8.0, 8.0, 8.0, 8.0, 7.0, 8.0, 7.0, 6.0, 8.0, 6.0, 5.0, 4.0, 6.0, 8.0, 6.0, 6.0, 8.0, 4.0, 3.0, 8.0, 6.0, 6.0, 4.0, 8.0, 6.0, 8.0, 7.0, 6.0, 7.0, 8.0, 6.0, 7.0, 6.0, 8.0, 4.0, 8.0, 9.0, 4.0, 6.0, 8.0, 6.0, 8.0, 7.0, 5.0, 6.0, 6.0, 8.0, 7.0, 6.0, 9.0, 9.0, 8.0, 7.0, 6.0, 5.0, 6.0, 6.0, 7.0, 6.0, 6.0, 8.0, 4.0, 8.0, 7.0, 8.0, 7.0, 3.0, 8.0, 6.0, 4.0, 6.0, 9.0, 7.0, 4.0, 8.0, 8.0, 6.0, 6.0, 8.0, 4.0, 6.0, 6.0, 6.0, 8.0, 8.0, 4.0, 8.0, 9.0, 9.0, 6.0, 6.0, 4.0, 7.0, 8.0, 6.0, 8.0, 7.0, 6.0, 5.0, 8.0, 4.0, 6.0, 7.0, 6.0, 8.0, 4.0, 4.0, 6.0, 6.0, 6.0, 8.0, 6.0, 8.0, 8.0, 6.0, 8.0, 6.0, 7.0, 8.0, 4.0, 8.0, 8.0, 4.0, 8.0, 6.0, 6.0, 9.0, 6.0, 9.0, 6.0, 6.0, 9.0, 8.0, 4.0, 6.0, 4.0, 8.0, 8.0, 6.0, 6.0, 8.0, 7.0, 7.0, 4.0, 4.0, 8.0, 6.0, 4.0, 6.0, 6.0, 4.0, 7.0, 6.0, 7.0, 8.0, 8.0, 8.0, 5.0, 6.0, 6.0, 6.0, 9.0, 8.0, 6.0, 8.0, 7.0, 8.0, 6.0, 6.0, 6.0, 8.0, 9.0, 9.0, 8.0, 8.0, 9.0, 8.0, 7.0, 7.0, 6.0, 6.0, 6.0, 4.0, 5.0, 3.0, 8.0, 8.0, 8.0, 6.0, 7.0, 8.0, 6.0, 6.0, 6.0, 6.0, 8.0, 7.0, 6.0, 7.0, 8.0, 8.0, 7.0, 4.0, 4.0, 5.0, 9.0, 7.0, 8.0, 4.0, 8.0, 8.0, 9.0, 6.0, 6.0, 8.0, 6.0, 6.0, 6.0, 6.0, 6.0, 9.0, 7.0, 6.0, 4.0, 6.0, 6.0, 8.0, 7.0, 2.0, 9.0, 4.0, 8.0, 6.0, 8.0, 6.0, 7.0, 6.0, 6.0, 6.0, 6.0, 8.0, 7.0, 8.0, 6.0, 8.0, 5.0, 8.0, 8.0, 8.0]\n"
     ]
    }
   ],
   "source": [
    "# handling outliers of 'dribbling_skills'\n",
    "Q1=data['dribbling_skills'].quantile(.25)\n",
    "Q2=data['dribbling_skills'].quantile(.50)\n",
    "Q3=data['dribbling_skills'].quantile(.75)\n",
    "print('Q1=',Q1)\n",
    "print('Q2=',Q2)\n",
    "print('Q3=',Q3)\n",
    "\n",
    "IQR = Q3-Q1\n",
    "print('IQR=',IQR)\n",
    "\n",
    "up_lmt=Q3+1.5*IQR\n",
    "low_lmt=Q1-1.5*IQR\n",
    "print('up_lmt=',up_lmt)\n",
    "print('low_lmt=',low_lmt)\n",
    "\n",
    "outlier=[]\n",
    "for x in data['dribbling_skills']:\n",
    "    if (x<low_lmt) or (x>up_lmt):\n",
    "        outlier.append(x)\n",
    "print('outliers = ',outlier)\n"
   ]
  },
  {
   "cell_type": "code",
   "execution_count": 48,
   "id": "4c48bb06",
   "metadata": {},
   "outputs": [
    {
     "name": "stdout",
     "output_type": "stream",
     "text": [
      "Initial rows and columns: (13994, 30)\n",
      "After dropping,count of rows and columns: (12504, 30)\n"
     ]
    }
   ],
   "source": [
    "data1=data[(data['dribbling_skills']>low_lmt) & (data['dribbling_skills']< up_lmt)]\n",
    "print(\"Initial rows and columns:\", data.shape)\n",
    "print(\"After dropping,count of rows and columns:\",data1.shape)"
   ]
  },
  {
   "cell_type": "code",
   "execution_count": 49,
   "id": "89bfdb6c",
   "metadata": {},
   "outputs": [
    {
     "name": "stdout",
     "output_type": "stream",
     "text": [
      "Q1= 39.0\n",
      "Q2= 50.0\n",
      "Q3= 58.0\n",
      "IQR= 19.0\n",
      "up_lmt= 86.5\n",
      "low_lmt= 10.5\n",
      "outliers =  [10.0, 10.0, 10.0, 10.0, 10.0, 10.0, 10.0, 10.0, 10.0, 10.0, 10.0, 10.0, 9.0, 10.0, 10.0, 10.0, 10.0, 10.0, 10.0, 10.0, 10.0, 10.0, 10.0, 10.0, 10.0, 10.0, 9.0, 10.0, 10.0, 10.0, 10.0, 10.0, 10.0, 10.0, 10.0, 9.0, 8.0, 10.0, 10.0, 10.0, 7.0, 10.0, 10.0, 10.0, 10.0, 10.0, 10.0, 10.0, 10.0, 10.0, 10.0, 10.0, 10.0, 9.0, 9.0, 10.0, 10.0, 10.0, 10.0, 10.0, 10.0, 10.0, 10.0, 10.0, 10.0, 10.0, 10.0, 10.0, 10.0, 10.0, 10.0, 10.0, 10.0, 10.0, 10.0, 10.0, 10.0, 10.0, 10.0, 8.0, 10.0, 10.0, 8.0, 10.0, 10.0, 10.0, 10.0, 10.0, 9.0, 10.0, 10.0, 9.0, 10.0, 10.0, 10.0, 10.0, 10.0, 10.0, 9.0, 10.0, 10.0]\n"
     ]
    }
   ],
   "source": [
    "# handling outliers of 'shot_accuracy'\n",
    "Q1=data['shot_accuracy'].quantile(.25)\n",
    "Q2=data['shot_accuracy'].quantile(.50)\n",
    "Q3=data['shot_accuracy'].quantile(.75)\n",
    "print('Q1=',Q1)\n",
    "print('Q2=',Q2)\n",
    "print('Q3=',Q3)\n",
    "\n",
    "IQR = Q3-Q1\n",
    "print('IQR=',IQR)\n",
    "\n",
    "up_lmt=Q3+1.5*IQR\n",
    "low_lmt=Q1-1.5*IQR\n",
    "print('up_lmt=',up_lmt)\n",
    "print('low_lmt=',low_lmt)\n",
    "\n",
    "outlier=[]\n",
    "for x in data['shot_accuracy']:\n",
    "    if (x<low_lmt) or (x>up_lmt):\n",
    "        outlier.append(x)\n",
    "print('outliers = ',outlier)\n"
   ]
  },
  {
   "cell_type": "code",
   "execution_count": 50,
   "id": "27900407",
   "metadata": {},
   "outputs": [
    {
     "name": "stdout",
     "output_type": "stream",
     "text": [
      "Initial rows and columns: (13994, 30)\n",
      "After dropping,count of rows and columns: (13893, 30)\n"
     ]
    }
   ],
   "source": [
    "data1=data[(data['shot_accuracy']>low_lmt) & (data['shot_accuracy']< up_lmt)]\n",
    "print(\"Initial rows and columns:\", data.shape)\n",
    "print(\"After dropping,count of rows and columns:\",data1.shape)"
   ]
  },
  {
   "cell_type": "code",
   "execution_count": 51,
   "id": "b9c4e0ab",
   "metadata": {},
   "outputs": [
    {
     "name": "stdout",
     "output_type": "stream",
     "text": [
      "Q1= 56.0\n",
      "Q2= 64.0\n",
      "Q3= 71.0\n",
      "IQR= 15.0\n",
      "up_lmt= 93.5\n",
      "low_lmt= 33.5\n",
      "outliers =  [28.0, 30.0, 26.0, 30.0, 30.0, 32.0, 33.0, 32.0, 28.0, 33.0, 33.0, 33.0, 33.0, 30.0, 32.0, 23.0, 28.0, 32.0, 32.0, 30.0, 32.0, 31.0, 32.0, 29.0, 32.0, 32.0, 32.0, 32.0, 24.0, 26.0, 26.0, 32.0, 33.0, 30.0, 28.0, 30.0, 32.0, 31.0, 32.0, 31.0, 30.0, 28.0, 29.0, 26.0, 33.0, 30.0, 31.0, 32.0, 28.0, 24.0, 30.0, 25.0, 32.0, 32.0, 31.0, 32.0, 31.0, 30.0, 33.0, 32.0, 33.0, 30.0, 28.0, 32.0, 29.0, 32.0, 32.0, 31.0, 32.0, 32.0, 28.0, 28.0, 32.0, 32.0, 27.0, 32.0, 20.0, 29.0, 32.0, 31.0, 33.0, 26.0, 32.0, 28.0, 31.0, 30.0, 28.0, 30.0, 30.0, 30.0, 30.0, 32.0, 24.0, 33.0, 33.0, 31.0, 33.0, 33.0, 30.0, 30.0, 28.0, 30.0, 32.0, 27.0, 28.0, 31.0, 28.0, 22.0, 15.0, 32.0, 20.0, 32.0, 24.0, 32.0, 28.0, 31.0, 32.0, 33.0, 32.0, 31.0, 33.0, 31.0, 32.0, 32.0, 30.0, 30.0, 29.0, 30.0, 26.0, 24.0, 32.0, 32.0, 32.0, 27.0, 32.0, 30.0, 30.0, 28.0, 28.0, 25.0, 28.0, 32.0, 26.0, 33.0, 32.0, 31.0, 30.0, 30.0, 27.0, 31.0, 28.0, 31.0, 32.0, 30.0, 32.0, 32.0, 33.0, 31.0, 32.0, 32.0, 31.0, 30.0, 33.0, 29.0, 24.0, 29.0, 32.0, 32.0, 32.0, 31.0, 32.0, 28.0, 33.0]\n"
     ]
    }
   ],
   "source": [
    "# handling outliers of 'body_strength_stamina'\n",
    "Q1=data['body_strength_stamina'].quantile(.25)\n",
    "Q2=data['body_strength_stamina'].quantile(.50)\n",
    "Q3=data['body_strength_stamina'].quantile(.75)\n",
    "print('Q1=',Q1)\n",
    "print('Q2=',Q2)\n",
    "print('Q3=',Q3)\n",
    "\n",
    "IQR = Q3-Q1\n",
    "print('IQR=',IQR)\n",
    "\n",
    "up_lmt=Q3+1.5*IQR\n",
    "low_lmt=Q1-1.5*IQR\n",
    "print('up_lmt=',up_lmt)\n",
    "print('low_lmt=',low_lmt)\n",
    "\n",
    "outlier=[]\n",
    "for x in data['body_strength_stamina']:\n",
    "    if (x<low_lmt) or (x>up_lmt):\n",
    "        outlier.append(x)\n",
    "print('outliers = ',outlier)\n"
   ]
  },
  {
   "cell_type": "code",
   "execution_count": 52,
   "id": "336a2596",
   "metadata": {},
   "outputs": [
    {
     "name": "stdout",
     "output_type": "stream",
     "text": [
      "Initial rows and columns: (13994, 30)\n",
      "After dropping,count of rows and columns: (13821, 30)\n"
     ]
    }
   ],
   "source": [
    "data1=data[(data['body_strength_stamina']>low_lmt) & (data['body_strength_stamina']< up_lmt)]\n",
    "print(\"Initial rows and columns:\", data.shape)\n",
    "print(\"After dropping,count of rows and columns:\",data1.shape)"
   ]
  },
  {
   "cell_type": "code",
   "execution_count": 53,
   "id": "29cd3c6b",
   "metadata": {},
   "outputs": [
    {
     "name": "stdout",
     "output_type": "stream",
     "text": [
      "Q1= 21.1\n",
      "Q2= 24.6\n",
      "Q3= 27.1\n",
      "IQR= 6.0\n",
      "up_lmt= 36.1\n",
      "low_lmt= 12.100000000000001\n",
      "outliers =  [10.8, 6.6, 12.1, 11.2, 8.2, 12.1, 10.1, 10.6, 11.9, 7.3, 12.1, 7.6, 7.8, 8.7, 8.0, 7.6, 10.1, 9.6, 12.1, 10.1, 10.6, 8.0, 11.5, 9.9, 7.6, 8.7, 11.0, 10.3, 10.6, 9.9, 8.4, 9.1, 6.9, 6.9, 9.6, 10.8, 11.9, 6.9, 9.6, 11.2, 8.9, 7.1, 11.4, 10.6, 10.8, 8.9, 11.4, 12.1, 11.9, 11.9, 10.3, 8.5, 11.4, 10.3, 7.8, 8.4, 11.4, 11.7, 11.0, 11.5, 12.1, 8.5, 9.6, 8.9, 10.1, 10.5, 11.4, 11.4, 10.8, 8.5, 11.2, 10.1, 11.4, 9.4, 9.4, 11.0, 11.9, 10.1, 11.0, 8.9, 11.0, 10.5, 8.5, 9.8, 12.1, 8.4, 9.2, 9.9, 10.6, 8.4, 11.7, 9.2, 9.1, 10.5, 11.2, 9.2, 10.8, 8.2, 12.1, 8.2, 11.5, 10.5, 11.2, 9.1, 8.5, 11.2, 11.9, 9.8, 11.9, 9.2, 9.8, 7.5, 7.3, 9.8, 12.1, 11.2, 11.7, 11.0, 7.8, 11.2, 9.1, 11.7, 8.5, 9.2, 9.6, 10.1, 8.7, 9.9, 9.6, 11.2, 9.9, 9.9, 9.8, 11.7, 11.0, 7.5, 8.4, 10.5, 7.1, 11.0, 9.2, 11.7, 8.4, 10.6, 9.2, 9.4, 9.8, 11.5, 8.5, 7.6, 9.9, 9.9, 8.7, 9.4, 10.3, 10.3, 10.6, 11.0, 9.4, 11.9, 9.4, 9.8, 11.9, 10.6, 11.5, 11.5, 10.5, 7.1, 7.5, 7.1, 10.6, 9.6, 10.1, 11.9, 11.4, 11.0, 11.9, 11.7, 9.4, 9.4, 10.8, 11.9, 11.4, 10.6, 11.9, 9.2, 9.2, 8.5, 7.5, 9.6, 11.5, 11.5, 9.2, 11.4, 11.2, 11.0, 10.3, 9.1, 9.4, 8.7, 11.5, 8.4, 10.8, 6.9, 8.2, 11.7, 10.1, 11.9, 10.3, 8.7, 9.4, 7.6, 9.1, 8.2, 11.5, 10.1, 7.1, 11.9, 8.0, 10.3, 6.9, 11.4, 9.8, 10.8, 9.9, 11.9, 8.4, 11.0, 7.6, 11.5, 9.6, 10.6, 10.6, 11.4, 11.9, 9.1, 11.2, 11.7, 8.5, 12.1, 10.6, 7.8, 11.2, 11.9, 7.5, 6.1, 8.5, 11.5, 11.7, 12.1, 8.4, 9.9, 9.2, 9.6, 5.9, 8.2, 9.6, 9.6, 11.9, 8.7, 10.1, 8.7, 9.4, 8.9, 5.4, 7.5, 9.1, 7.5, 11.5, 10.5, 8.7, 6.4, 11.7, 6.6, 9.6, 10.5, 12.1, 11.7, 9.9, 9.4, 7.6, 8.4, 8.4, 6.9, 8.2, 8.0, 7.6, 9.6, 9.2, 9.9, 9.9, 11.7, 10.8, 11.2, 8.2, 11.9, 11.9, 9.1, 10.3, 11.4, 12.1, 10.3, 10.8, 11.2, 9.6, 7.8, 11.0, 7.3, 12.1, 11.0, 9.2, 7.5, 9.6, 11.4, 8.2, 8.9, 8.0, 8.2, 10.1, 12.1, 11.0, 11.7, 11.9, 11.0, 10.8, 9.6, 11.5, 9.4, 10.3, 9.6, 11.2, 11.2, 11.5, 9.9, 11.5, 12.1, 9.2, 9.4, 10.1, 9.2, 11.4, 12.1, 11.5, 7.6, 8.9, 6.6, 9.4, 8.9, 11.0, 8.9, 10.5, 10.5, 10.1, 10.6, 9.4, 8.9, 9.8, 7.6, 8.5, 7.8, 10.1, 9.2, 10.5, 10.5, 9.8, 9.4, 9.2, 8.7, 10.6, 12.1, 9.8, 10.3, 11.4, 9.2, 10.3, 8.4, 8.5, 9.8, 12.1, 9.9, 10.3, 11.7, 6.9, 11.4, 12.1, 11.2, 7.6, 10.3, 9.6, 10.8, 7.6, 9.2, 11.2, 11.2, 10.1, 9.6, 9.8, 6.9, 8.7, 8.0, 9.4, 7.3, 7.5, 8.7, 8.5, 9.9, 9.2, 9.6, 11.2, 6.8, 9.1, 10.8, 6.8, 9.2, 11.7, 8.2, 8.7, 11.4, 11.9, 8.7, 9.6, 11.9, 9.4, 11.2, 7.5, 11.7, 8.7, 8.7, 9.4, 12.1, 10.1, 8.9, 6.9, 11.2, 6.6, 11.9, 11.9, 11.9, 11.4, 5.4, 10.1, 10.8, 10.3, 8.7, 10.5, 6.9, 9.9, 8.7, 10.6, 10.3, 10.6, 6.2, 10.3, 10.8, 11.9, 9.2, 8.5, 10.3, 8.7, 8.2, 9.6, 9.6, 12.1, 9.9, 9.8, 11.9, 8.2, 11.7, 9.4, 7.8, 11.4, 9.6, 9.9, 9.8, 9.2, 11.0, 9.6, 11.9, 7.3, 10.5, 11.7, 10.8, 7.6, 12.1, 10.3, 6.4, 11.7, 6.9, 12.1, 11.0, 11.9, 8.5, 8.9, 11.2, 11.0, 7.3, 11.5, 10.3, 11.5, 8.4, 11.5, 9.2, 11.5, 11.2, 11.5, 11.7, 12.1, 10.8, 12.1, 10.3, 8.0, 11.5, 11.2, 11.4, 12.1, 9.9, 9.9, 11.7, 11.7, 7.5, 8.4, 12.1, 11.4, 8.2, 10.1, 9.8, 7.1, 11.5, 11.7, 7.1, 12.1, 11.9, 7.5, 11.4, 10.5, 10.5, 12.1, 9.2, 8.7, 9.2, 9.6, 9.4, 11.4, 11.9, 11.4, 11.2, 8.5, 9.8, 7.6, 11.2, 11.7, 9.2, 11.7, 11.7, 8.7, 10.8, 12.1, 8.9, 9.1, 8.5, 11.7, 9.9, 10.6, 11.9, 8.4, 10.6, 8.7, 11.5, 11.7, 8.9, 7.3, 9.1, 7.8, 11.9]\n"
     ]
    }
   ],
   "source": [
    "# handling outliers of 'max_running_speed'\n",
    "Q1=data['max_running_speed'].quantile(.25)\n",
    "Q2=data['max_running_speed'].quantile(.50)\n",
    "Q3=data['max_running_speed'].quantile(.75)\n",
    "print('Q1=',Q1)\n",
    "print('Q2=',Q2)\n",
    "print('Q3=',Q3)\n",
    "\n",
    "IQR = Q3-Q1\n",
    "print('IQR=',IQR)\n",
    "\n",
    "up_lmt=Q3+1.5*IQR\n",
    "low_lmt=Q1-1.5*IQR\n",
    "print('up_lmt=',up_lmt)\n",
    "print('low_lmt=',low_lmt)\n",
    "\n",
    "outlier=[]\n",
    "for x in data['max_running_speed']:\n",
    "    if (x<low_lmt) or (x>up_lmt):\n",
    "        outlier.append(x)\n",
    "print('outliers = ',outlier)\n"
   ]
  },
  {
   "cell_type": "code",
   "execution_count": 54,
   "id": "36c72ca3",
   "metadata": {},
   "outputs": [
    {
     "name": "stdout",
     "output_type": "stream",
     "text": [
      "Initial rows and columns: (13994, 30)\n",
      "After dropping,count of rows and columns: (13420, 30)\n"
     ]
    }
   ],
   "source": [
    "data1=data[(data['max_running_speed']>low_lmt) & (data['max_running_speed']< up_lmt)]\n",
    "print(\"Initial rows and columns:\", data.shape)\n",
    "print(\"After dropping,count of rows and columns:\",data1.shape)"
   ]
  },
  {
   "cell_type": "code",
   "execution_count": 55,
   "id": "08670696",
   "metadata": {},
   "outputs": [
    {
     "name": "stdout",
     "output_type": "stream",
     "text": [
      "Q1= 5.1\n",
      "Q2= 5.9\n",
      "Q3= 6.5\n",
      "IQR= 1.4000000000000004\n",
      "up_lmt= 8.600000000000001\n",
      "low_lmt= 2.999999999999999\n",
      "outliers =  [2.9, 2.3, 2.7, 2.8, 2.4, 8.7, 2.7, 2.9, 9.3, 2.9, 8.7, 2.8, 8.9, 2.3, 8.7, 8.7, 2.4, 8.7, 2.6, 2.8, 2.9, 8.7, 2.7, 2.9, 8.7, 8.9, 2.8, 8.7, 9.4, 9.4, 2.8, 2.7, 2.7, 2.7, 2.9, 2.9, 2.8, 2.3, 8.8, 2.3, 2.4, 8.7, 8.8, 2.9, 9.5, 8.7, 8.8, 2.4, 8.9, 2.6, 2.4, 2.1, 8.7, 9.4, 2.8, 2.4, 8.7, 2.8, 2.4, 2.3, 2.9, 2.9, 8.7, 9.0, 2.9, 8.7, 2.7, 8.7, 2.7, 2.7, 2.4, 2.7, 2.2, 2.7, 2.8, 2.7, 2.7, 9.4, 2.9, 9.0, 2.8, 2.8, 2.8, 8.9, 2.4, 8.7, 2.7, 2.9, 2.8, 2.9, 2.7, 2.8, 9.0, 2.4, 2.2, 8.8, 9.8, 9.0, 2.4, 2.9, 8.7, 2.4, 2.7, 2.6, 2.3, 8.8, 2.9, 8.8, 2.1, 2.4, 2.7, 2.8, 8.9, 8.9, 2.9, 2.8, 8.8, 2.9, 9.0, 2.9, 2.4, 8.7, 2.3, 2.1, 8.7, 2.3, 2.9, 2.9, 2.3, 2.4, 2.8, 9.3, 9.6, 8.8, 2.8, 2.7, 2.7, 8.9, 8.9, 2.1, 2.6, 2.6]\n"
     ]
    }
   ],
   "source": [
    "# handling outliers of 'behaviour_rating'\n",
    "Q1=data['behaviour_rating'].quantile(.25)\n",
    "Q2=data['behaviour_rating'].quantile(.50)\n",
    "Q3=data['behaviour_rating'].quantile(.75)\n",
    "print('Q1=',Q1)\n",
    "print('Q2=',Q2)\n",
    "print('Q3=',Q3)\n",
    "\n",
    "IQR = Q3-Q1\n",
    "print('IQR=',IQR)\n",
    "\n",
    "up_lmt=Q3+1.5*IQR\n",
    "low_lmt=Q1-1.5*IQR\n",
    "print('up_lmt=',up_lmt)\n",
    "print('low_lmt=',low_lmt)\n",
    "\n",
    "outlier=[]\n",
    "for x in data['behaviour_rating']:\n",
    "    if (x<low_lmt) or (x>up_lmt):\n",
    "        outlier.append(x)\n",
    "print('outliers = ',outlier)\n"
   ]
  },
  {
   "cell_type": "code",
   "execution_count": 56,
   "id": "9bb61263",
   "metadata": {},
   "outputs": [
    {
     "name": "stdout",
     "output_type": "stream",
     "text": [
      "Initial rows and columns: (13994, 30)\n",
      "After dropping,count of rows and columns: (13852, 30)\n"
     ]
    }
   ],
   "source": [
    "data1=data[(data['behaviour_rating']>low_lmt) & (data['behaviour_rating']< up_lmt)]\n",
    "print(\"Initial rows and columns:\", data.shape)\n",
    "print(\"After dropping,count of rows and columns:\",data1.shape)"
   ]
  },
  {
   "cell_type": "code",
   "execution_count": 57,
   "id": "dec09d94",
   "metadata": {},
   "outputs": [
    {
     "name": "stdout",
     "output_type": "stream",
     "text": [
      "Q1= 0.0\n",
      "Q2= 0.0\n",
      "Q3= 1.0\n",
      "IQR= 1.0\n",
      "up_lmt= 2.5\n",
      "low_lmt= -1.5\n",
      "outliers =  [113.0, 39.0, 38.0, 75.0, 37.0, 36.0, 37.0, 39.0, 39.0, 37.0, 39.0, 38.0, 37.0, 39.0, 38.0, 36.0, 39.0, 39.0, 39.0, 36.0, 39.0, 36.0, 37.0, 38.0, 37.0, 39.0, 76.0, 36.0, 38.0, 38.0, 38.0, 39.0, 39.0, 37.0, 39.0, 75.0, 39.0, 37.0, 38.0, 37.0, 74.0, 39.0, 75.0, 73.0, 38.0, 36.0, 75.0, 73.0, 76.0, 39.0, 38.0, 76.0, 150.0, 39.0, 76.0, 38.0, 37.0, 39.0, 39.0, 74.0, 113.0, 36.0, 38.0, 37.0, 74.0, 38.0, 76.0, 39.0, 75.0, 37.0, 74.0, 37.0, 36.0, 75.0, 74.0, 39.0, 38.0, 37.0, 37.0, 39.0, 39.0, 75.0, 39.0, 39.0, 36.0, 76.0, 73.0, 76.0, 39.0, 76.0, 38.0, 39.0, 36.0, 39.0, 73.0, 75.0, 39.0, 39.0, 39.0, 37.0, 38.0, 39.0, 74.0, 37.0, 37.0, 39.0, 37.0, 74.0, 39.0, 38.0, 36.0, 36.0, 39.0, 38.0, 36.0, 38.0, 39.0, 76.0, 39.0, 38.0, 38.0, 37.0, 38.0, 36.0, 38.0, 74.0, 37.0, 37.0, 36.0, 38.0, 74.0, 76.0, 36.0, 112.0, 37.0, 36.0, 39.0, 112.0, 37.0, 36.0, 37.0, 38.0, 74.0, 39.0, 39.0, 36.0, 38.0, 39.0, 74.0, 73.0, 38.0, 39.0, 38.0, 38.0, 37.0, 38.0, 76.0, 73.0, 37.0, 76.0, 37.0, 39.0, 39.0, 39.0, 38.0, 76.0, 112.0, 39.0, 37.0, 36.0, 38.0, 36.0, 75.0, 36.0, 36.0, 37.0, 38.0, 76.0, 39.0, 75.0, 39.0, 38.0, 37.0, 75.0, 38.0, 39.0, 39.0, 37.0, 37.0, 38.0, 36.0, 36.0, 38.0, 36.0, 39.0, 38.0, 39.0, 36.0, 75.0, 37.0, 39.0, 37.0, 39.0, 37.0, 38.0, 38.0, 39.0, 36.0, 38.0, 39.0, 38.0, 74.0, 38.0, 37.0, 113.0, 76.0, 37.0, 36.0, 39.0, 74.0, 36.0, 76.0, 37.0, 36.0, 37.0, 36.0, 38.0, 74.0, 36.0, 36.0, 38.0, 112.0, 39.0, 73.0, 38.0, 36.0, 75.0, 38.0, 39.0, 39.0, 36.0, 76.0, 75.0, 37.0, 36.0, 36.0, 38.0, 39.0, 74.0, 36.0, 74.0, 37.0, 37.0, 37.0, 37.0, 37.0, 39.0, 38.0, 38.0, 39.0, 39.0, 39.0, 73.0, 38.0, 38.0, 36.0, 73.0, 37.0, 37.0, 75.0, 37.0, 37.0, 38.0, 36.0, 37.0, 75.0, 36.0, 36.0, 39.0, 37.0, 38.0, 75.0, 76.0, 75.0, 38.0, 36.0, 38.0, 38.0, 36.0, 37.0, 38.0, 74.0, 39.0, 38.0, 38.0, 36.0, 149.0, 76.0, 36.0, 36.0, 37.0, 37.0, 36.0, 37.0, 36.0, 36.0, 39.0, 36.0, 36.0, 76.0, 37.0, 37.0, 39.0, 75.0, 75.0, 37.0, 37.0, 38.0, 73.0, 38.0, 36.0, 37.0, 39.0, 37.0, 37.0, 39.0, 36.0, 39.0, 39.0, 39.0, 110.0, 38.0, 73.0, 73.0, 38.0, 36.0, 36.0, 38.0, 74.0, 36.0, 39.0, 36.0, 37.0, 37.0, 76.0, 39.0, 39.0, 37.0, 76.0, 36.0, 36.0, 37.0, 38.0, 36.0, 37.0, 37.0, 74.0, 37.0, 37.0, 37.0, 36.0, 151.0, 39.0, 74.0, 36.0, 36.0, 36.0, 39.0, 36.0, 39.0, 37.0, 111.0, 38.0, 39.0, 38.0, 36.0, 36.0, 38.0, 39.0, 37.0, 39.0, 75.0, 39.0, 38.0, 37.0, 36.0, 36.0, 75.0, 36.0, 37.0, 38.0, 37.0, 38.0, 37.0, 38.0, 39.0, 37.0, 38.0, 37.0, 74.0, 39.0, 38.0, 74.0, 38.0, 39.0, 36.0, 38.0, 38.0, 76.0, 39.0, 39.0, 36.0, 36.0, 36.0, 39.0, 39.0, 36.0, 36.0, 38.0, 38.0, 38.0, 36.0, 76.0, 37.0, 37.0, 76.0, 39.0, 39.0, 37.0, 36.0, 36.0, 75.0, 39.0, 37.0, 37.0, 73.0, 37.0, 36.0, 37.0, 38.0, 113.0, 39.0, 38.0, 38.0, 110.0, 37.0, 36.0, 38.0, 39.0, 36.0, 75.0, 113.0, 37.0, 37.0, 36.0, 38.0, 38.0, 37.0, 36.0, 74.0, 36.0, 37.0, 73.0, 37.0, 36.0, 36.0, 76.0, 113.0, 37.0, 36.0, 73.0, 39.0, 74.0, 38.0, 36.0, 39.0, 39.0, 39.0, 37.0, 38.0, 38.0, 36.0, 36.0, 36.0, 37.0, 39.0, 37.0, 36.0, 37.0, 37.0, 76.0, 38.0, 39.0, 36.0, 38.0, 75.0, 74.0, 75.0, 37.0, 37.0, 73.0, 36.0, 73.0, 73.0, 36.0, 38.0, 36.0, 39.0, 75.0, 37.0, 38.0, 37.0, 38.0, 36.0, 39.0, 37.0, 75.0, 36.0, 76.0, 37.0, 36.0, 37.0, 36.0, 38.0, 37.0, 38.0, 37.0, 73.0, 36.0, 38.0, 75.0, 39.0, 39.0, 38.0, 37.0, 36.0, 37.0, 36.0, 36.0, 39.0, 38.0, 39.0, 36.0, 37.0, 38.0, 38.0, 37.0, 39.0, 36.0, 37.0, 38.0, 36.0, 37.0, 39.0, 36.0, 110.0, 38.0, 36.0, 39.0, 37.0, 37.0, 38.0, 37.0, 74.0, 39.0, 38.0, 37.0, 38.0, 39.0, 74.0, 37.0, 38.0, 37.0, 36.0, 75.0, 76.0, 113.0, 37.0, 36.0, 76.0, 75.0, 37.0, 38.0, 38.0, 38.0, 38.0, 73.0, 110.0, 39.0, 38.0, 36.0, 74.0, 73.0, 38.0, 74.0, 38.0, 39.0, 39.0, 76.0, 38.0, 39.0, 37.0, 74.0, 37.0, 38.0, 39.0, 38.0, 39.0, 39.0, 36.0, 38.0, 75.0, 38.0, 38.0, 36.0, 37.0, 37.0, 37.0, 39.0, 36.0, 39.0, 39.0, 37.0, 36.0, 39.0, 36.0, 39.0, 39.0, 39.0, 37.0, 39.0, 110.0, 74.0, 37.0, 38.0, 39.0, 39.0, 36.0, 37.0, 76.0, 36.0, 36.0, 36.0, 36.0, 75.0, 73.0, 76.0, 36.0, 37.0, 36.0, 39.0, 39.0, 37.0, 36.0, 37.0, 73.0, 39.0, 37.0, 38.0, 38.0, 76.0, 36.0, 37.0, 39.0, 39.0, 36.0, 75.0, 38.0, 37.0, 38.0, 39.0, 36.0, 39.0, 38.0, 37.0, 37.0, 76.0, 75.0, 73.0, 39.0, 36.0, 74.0, 39.0, 36.0, 38.0, 38.0, 36.0, 36.0, 39.0, 37.0, 73.0, 76.0, 39.0, 37.0, 36.0, 39.0, 37.0, 75.0, 36.0, 36.0, 37.0, 37.0, 73.0, 36.0, 75.0, 36.0, 75.0, 75.0, 37.0, 37.0, 37.0, 37.0, 36.0, 76.0, 36.0, 37.0, 37.0, 39.0, 36.0, 39.0, 36.0, 75.0, 38.0, 36.0, 38.0, 37.0, 36.0, 37.0, 39.0, 73.0, 39.0, 113.0, 36.0, 36.0, 36.0, 36.0, 73.0, 38.0, 37.0, 38.0, 37.0, 148.0, 36.0, 39.0, 76.0, 37.0, 39.0, 39.0, 38.0, 37.0, 38.0, 38.0, 36.0, 37.0, 73.0, 39.0, 36.0, 74.0, 39.0, 37.0, 111.0, 74.0, 37.0, 36.0, 36.0, 37.0, 38.0, 36.0, 37.0, 39.0, 39.0, 38.0, 75.0, 39.0, 39.0, 36.0, 37.0, 39.0, 110.0, 39.0, 76.0, 36.0, 73.0, 37.0, 112.0, 39.0, 37.0, 39.0, 38.0, 36.0, 75.0, 36.0, 37.0, 38.0, 37.0, 73.0, 37.0, 37.0, 37.0, 37.0, 36.0, 38.0, 36.0, 37.0, 36.0, 39.0, 36.0, 39.0, 76.0, 37.0, 37.0, 39.0, 39.0, 36.0, 39.0, 37.0, 38.0, 36.0, 73.0, 37.0, 39.0, 39.0, 38.0, 76.0, 38.0, 38.0, 38.0, 39.0, 36.0, 37.0, 38.0, 38.0, 74.0, 37.0, 38.0, 74.0, 110.0, 38.0, 38.0, 37.0, 110.0, 38.0, 38.0, 39.0, 36.0, 39.0, 38.0, 37.0, 36.0, 38.0, 38.0, 36.0, 38.0, 37.0, 36.0, 38.0, 74.0, 38.0, 36.0, 37.0, 39.0, 39.0, 113.0, 38.0, 74.0, 38.0, 37.0, 39.0, 39.0, 38.0, 36.0, 39.0, 38.0, 36.0, 38.0, 73.0, 110.0, 36.0, 37.0, 36.0, 36.0, 39.0, 75.0, 39.0, 38.0, 39.0, 37.0, 38.0, 39.0, 39.0, 37.0, 37.0, 76.0, 39.0, 75.0, 37.0, 36.0, 74.0, 38.0, 36.0, 36.0, 39.0, 39.0, 36.0, 36.0, 37.0, 113.0, 38.0, 37.0, 38.0, 76.0, 37.0, 110.0, 75.0, 37.0, 36.0, 73.0, 38.0, 37.0, 37.0, 36.0, 39.0, 75.0, 37.0, 38.0, 36.0, 38.0, 37.0, 36.0, 37.0, 36.0, 36.0, 36.0, 37.0, 36.0, 37.0, 76.0, 38.0, 38.0, 39.0, 38.0, 37.0, 38.0, 37.0, 38.0, 38.0, 37.0, 37.0, 37.0, 38.0, 73.0, 39.0, 39.0, 36.0, 36.0, 36.0, 74.0, 36.0, 39.0, 73.0, 38.0, 37.0, 37.0, 39.0, 37.0, 36.0, 37.0, 38.0, 36.0, 36.0, 36.0, 110.0, 39.0, 38.0, 36.0, 73.0, 38.0, 37.0, 36.0, 113.0, 37.0, 37.0, 37.0, 37.0, 38.0, 39.0, 39.0, 76.0, 37.0, 39.0, 38.0, 39.0, 39.0, 36.0, 37.0, 74.0, 38.0, 37.0, 39.0, 75.0, 39.0, 37.0, 37.0, 36.0, 39.0, 76.0, 39.0, 75.0, 39.0, 39.0, 38.0, 36.0, 37.0, 38.0, 36.0, 39.0, 37.0, 36.0, 75.0, 39.0, 76.0, 76.0, 39.0, 39.0, 73.0, 37.0, 36.0, 38.0, 38.0, 73.0, 73.0, 36.0, 38.0, 39.0, 36.0, 37.0, 39.0, 36.0, 73.0, 39.0, 39.0, 39.0, 74.0, 73.0, 37.0, 38.0, 39.0, 38.0, 74.0, 113.0, 37.0, 36.0, 36.0, 39.0, 76.0]\n"
     ]
    }
   ],
   "source": [
    "# handling outliers of 'matches_played'\n",
    "Q1=data['matches_played'].quantile(.25)\n",
    "Q2=data['matches_played'].quantile(.50)\n",
    "Q3=data['matches_played'].quantile(.75)\n",
    "print('Q1=',Q1)\n",
    "print('Q2=',Q2)\n",
    "print('Q3=',Q3)\n",
    "\n",
    "IQR = Q3-Q1\n",
    "print('IQR=',IQR)\n",
    "\n",
    "up_lmt=Q3+1.5*IQR\n",
    "low_lmt=Q1-1.5*IQR\n",
    "print('up_lmt=',up_lmt)\n",
    "print('low_lmt=',low_lmt)\n",
    "\n",
    "outlier=[]\n",
    "for x in data['matches_played']:\n",
    "    if (x<low_lmt) or (x>up_lmt):\n",
    "        outlier.append(x)\n",
    "print('outliers = ',outlier)\n"
   ]
  },
  {
   "cell_type": "code",
   "execution_count": 58,
   "id": "8420d7bf",
   "metadata": {},
   "outputs": [
    {
     "name": "stdout",
     "output_type": "stream",
     "text": [
      "Initial rows and columns: (13994, 30)\n",
      "After dropping,count of rows and columns: (12939, 30)\n"
     ]
    }
   ],
   "source": [
    "data1=data[(data['matches_played']>low_lmt) & (data['matches_played']< up_lmt)]\n",
    "print(\"Initial rows and columns:\", data.shape)\n",
    "print(\"After dropping,count of rows and columns:\",data1.shape)"
   ]
  },
  {
   "cell_type": "code",
   "execution_count": 59,
   "id": "c1b8cefc",
   "metadata": {},
   "outputs": [
    {
     "name": "stdout",
     "output_type": "stream",
     "text": [
      "Q1= 5.7\n",
      "Q2= 6.8\n",
      "Q3= 7.5\n",
      "IQR= 1.7999999999999998\n",
      "up_lmt= 10.2\n",
      "low_lmt= 3.0000000000000004\n",
      "outliers =  [2.1, 1.9, 2.6, 2.3, 1.5, 1.5, 2.4, 2.1, 2.4, 2.8, 3.0, 2.3, 1.5, 2.9, 2.5, 2.1, 2.0, 1.4, 2.0, 2.4, 2.1, 2.9, 1.6, 1.9, 2.6, 2.1, 2.9, 2.7, 3.0, 2.9, 1.9, 2.8, 1.6, 2.8, 2.0, 3.0, 2.4, 2.7, 2.9, 2.9, 2.3, 1.8, 1.9, 2.9, 3.0, 3.0, 1.3, 2.4, 2.8, 1.9, 2.4, 2.4, 2.9, 2.9, 2.0, 2.2, 2.9, 2.3, 2.4, 2.3, 2.7, 3.0, 2.0, 2.2, 2.7, 2.3, 2.8, 1.5, 2.0, 2.4, 2.5, 1.6, 2.8, 2.1, 3.0, 2.1, 1.6, 2.0, 2.7, 2.8, 2.2, 1.9, 2.3, 3.0, 2.4, 2.5, 1.9, 2.5, 3.0, 3.0, 2.7, 2.4, 2.1, 3.0, 2.0, 2.6, 2.3, 2.2, 2.0, 1.9, 1.8, 2.7, 2.0, 2.1, 1.8, 1.4, 2.4, 1.9, 3.0, 2.8, 2.7, 2.9, 2.5, 2.7, 3.0, 3.0, 2.3, 1.4, 1.5, 2.9, 2.7, 3.0, 2.4, 2.3, 2.1, 2.7, 1.5, 1.6, 2.9, 1.4, 2.3, 2.8, 2.9, 2.5, 2.7, 1.4, 1.9, 2.8, 1.5, 1.6, 2.7, 2.2, 1.5, 2.9, 1.4, 1.6, 2.1, 2.4, 2.4, 1.4, 2.8, 1.5, 2.0, 2.5, 2.1, 1.6, 2.8, 2.9, 2.6, 2.3, 2.5, 1.4, 2.4, 2.9, 3.0, 2.4, 2.5, 1.8, 1.8, 2.0, 2.0, 2.3, 1.9, 2.2, 2.5, 1.6, 2.8, 2.0, 2.0, 3.0, 2.4, 2.7, 2.6, 2.9, 2.2, 2.2, 2.8, 2.7, 2.8, 2.4, 1.6, 2.9, 3.0, 2.6, 2.5, 1.9, 2.1, 1.9, 2.2, 2.7, 2.8, 2.2, 3.0, 2.9, 2.2, 2.6, 2.5, 1.9, 2.7, 2.5, 2.0, 2.1, 2.8, 2.4, 2.5, 1.9, 1.9, 1.5, 2.9, 1.2, 1.8, 2.9, 2.3, 2.1, 2.1, 2.4, 2.0, 1.9, 2.1, 1.8, 2.7, 2.3, 2.9, 2.7, 2.4, 2.7, 2.7, 2.9, 3.0, 2.6, 2.2, 3.0, 1.6, 3.0, 2.4, 2.9, 1.8, 2.6, 2.9, 1.8, 2.9, 2.8, 1.5, 2.8, 1.4, 3.0, 2.6, 2.8, 2.5, 2.8, 2.2, 2.1, 2.3, 1.5, 3.0, 2.6, 1.9, 2.6, 3.0, 2.1, 2.1, 2.1, 1.5, 2.7, 3.0, 1.5, 1.4, 1.6, 2.9, 2.0, 2.4, 2.4, 2.2, 2.3, 1.5, 2.3, 2.2, 2.9, 1.9, 1.9, 2.2, 2.9, 3.0, 2.9, 2.9, 2.2, 2.2, 1.8, 2.3, 2.2, 2.3, 2.1, 2.7, 3.0, 2.7, 2.0, 2.5, 2.4, 3.0, 2.9, 2.7, 2.0, 2.8, 2.7, 2.3, 2.5, 2.0, 3.0, 1.6, 2.9, 2.8, 1.4, 2.3, 2.7, 1.8, 2.2, 2.7, 2.6, 1.6, 1.9, 2.8, 2.4, 2.5, 1.8, 2.8, 2.5, 2.6, 2.2, 2.1, 3.0, 2.4, 2.4, 3.0, 2.7, 1.6, 2.0, 2.1, 2.7, 2.4, 2.7, 2.7, 2.4, 2.8, 1.5, 2.3, 1.2, 2.3, 2.0, 2.4, 2.4, 2.7, 2.7, 1.6, 2.7, 2.2, 2.3, 2.6, 1.6, 2.7, 2.7, 2.2, 2.9, 2.9, 2.5, 1.5, 2.5, 2.4, 2.7, 2.2, 2.9, 2.1, 2.9, 2.4, 2.7, 2.1, 2.9, 2.0, 1.4, 2.6, 1.9, 2.6, 1.6, 2.3, 2.2, 2.4, 2.5, 2.6, 1.5, 2.9, 2.0, 1.9, 1.8, 1.9, 1.5, 2.4, 2.3, 2.8, 1.5, 2.7, 2.0, 2.4, 2.5, 3.0, 2.0, 2.8, 2.2, 3.0, 2.9, 3.0, 1.4, 1.9, 2.7, 2.3, 1.4, 1.5, 3.0, 2.5, 2.5, 2.6, 2.4, 3.0, 2.6, 2.8, 1.8, 1.8, 1.9, 2.8, 2.6, 2.9, 1.8, 3.0, 2.7, 2.7, 2.7, 2.2, 1.4, 2.1, 1.9, 3.0, 3.0, 3.0, 2.2, 2.0, 1.4, 2.9, 1.9, 1.5, 2.6, 2.4, 2.3, 2.9, 2.9, 2.5, 2.1, 3.0, 2.0, 2.6, 2.1, 2.9, 2.1, 1.6, 1.5, 2.7, 2.9, 2.9, 2.1, 2.4, 2.9, 2.1, 2.5, 1.9, 2.9, 2.6, 2.8, 2.7, 2.5, 2.9, 1.5, 1.8, 2.9, 2.6, 2.2, 2.6, 2.7, 2.6, 2.6, 2.7, 2.9, 1.9, 1.5, 2.4, 2.6, 2.9, 2.4, 2.6, 2.9, 1.0, 2.2, 2.6, 1.6, 2.6, 1.5, 2.5, 2.8, 2.3, 1.9, 2.6, 2.6, 2.3, 2.6, 1.8, 2.4, 1.4, 3.0, 2.6, 2.1, 2.7, 2.9, 2.3, 1.5, 2.1, 1.6, 2.2, 2.8, 1.4, 1.6, 1.4, 2.6, 2.7, 2.1, 3.0, 3.0, 2.4, 2.9, 1.8, 2.2, 2.4, 1.9, 2.7, 2.7, 2.3, 3.0, 2.3, 2.3, 2.9, 2.4, 2.7, 2.4, 2.5, 2.5, 2.6, 2.4, 1.2, 2.1, 2.2, 1.6, 3.0, 2.5, 2.3, 2.6, 2.2, 2.5, 2.8, 1.2, 2.9, 1.5, 2.5, 3.0, 2.3, 2.5, 2.5, 1.9, 2.2, 2.3, 2.1, 3.0, 1.5, 2.4, 2.1, 2.4, 1.8, 2.8, 3.0, 2.7, 2.7, 2.8, 1.8, 2.7, 3.0, 2.7, 2.0, 2.9, 2.9, 1.3, 2.6, 2.4, 1.9, 2.2, 2.4, 2.7, 2.7, 1.8, 1.6, 2.2, 3.0, 2.5, 2.0, 2.5, 2.2, 2.7, 2.8, 2.4, 1.9, 2.5, 2.9, 1.9, 3.0, 2.6, 2.7, 2.7, 2.3, 2.5, 2.4, 2.2, 2.1, 2.2, 2.8, 2.7, 3.0, 1.5, 1.9, 2.4, 2.5, 1.6, 2.8, 2.6, 2.9, 3.0, 1.9, 2.8, 2.4, 2.0, 3.0, 1.6, 1.6, 2.2, 2.1, 1.4, 2.7, 2.3, 1.8, 2.3, 2.4, 2.4, 1.1, 2.8, 1.6, 2.1, 2.3, 1.8, 2.0, 2.3, 2.5, 2.9, 2.9, 2.0, 2.8, 1.6, 2.7, 2.3, 2.7, 2.9, 1.4, 1.5, 2.5, 2.9, 2.4, 2.3, 2.9, 2.1, 2.0, 2.3, 1.9, 2.3, 2.5, 2.4, 1.6, 2.9, 2.1, 2.9, 2.5, 2.9, 2.1, 3.0, 2.0, 2.4, 2.3, 2.2, 1.5, 2.4, 1.9, 2.7, 2.0, 1.8, 1.5, 2.6, 2.5, 1.5, 2.4, 2.4, 2.8, 2.6, 2.0, 2.4, 2.9, 2.7, 2.9, 1.8, 3.0, 2.1, 2.3, 2.4, 2.5, 2.1, 2.9, 1.5, 2.2, 2.9, 2.4, 1.8, 2.8, 2.1, 2.4, 1.8, 2.5, 2.6, 2.3, 2.5, 3.0, 2.8, 2.3, 2.9, 2.0, 2.4, 2.4, 2.1, 2.4, 1.6, 2.0, 2.6, 3.0, 2.1, 1.0, 2.1, 2.7, 2.0, 2.3, 3.0, 2.1, 1.4, 2.0, 2.5, 2.1, 2.5, 2.7, 3.0, 2.6, 2.2, 1.9, 3.0, 1.5, 2.7, 2.1, 2.7, 2.2, 1.9, 2.9, 2.0, 1.8, 2.3, 2.7, 2.9, 3.0, 2.0, 2.8, 2.9, 2.9, 3.0, 2.4, 2.1, 1.6, 2.2, 3.0, 2.4, 2.7, 2.9, 3.0, 2.7, 2.7, 2.9, 2.6, 2.6, 2.6, 2.1, 2.6, 1.5, 2.7, 3.0, 2.9, 2.0, 1.2, 2.8, 1.4, 3.0, 2.1, 2.3, 1.9, 2.3, 2.9, 2.6, 3.0, 2.9, 1.8, 2.6, 2.4, 2.6, 2.6, 2.9, 2.3, 3.0, 1.5, 3.0, 1.3, 2.7, 2.9, 2.7, 1.6, 1.3, 1.6, 2.8, 2.9, 2.7, 2.5, 2.2, 2.1, 2.9, 2.3, 2.3, 1.8, 2.7, 2.9, 2.2, 2.0, 1.8, 2.7, 2.6, 1.8, 2.7, 2.1, 1.2, 1.6, 2.3, 2.2, 2.6, 2.9, 2.9, 2.9, 1.9, 2.3, 1.8, 2.9, 2.9, 2.6, 3.0, 1.9, 2.7, 2.4, 2.6, 2.7, 2.7, 3.0, 2.1, 2.8, 3.0, 2.6, 2.5, 2.4, 2.1, 2.8, 3.0, 2.5, 1.4, 2.8, 1.9, 2.2, 2.5, 2.7, 3.0]\n"
     ]
    }
   ],
   "source": [
    "# handling outliers of 'fitness_rating'\n",
    "Q1=data['fitness_rating'].quantile(.25)\n",
    "Q2=data['fitness_rating'].quantile(.50)\n",
    "Q3=data['fitness_rating'].quantile(.75)\n",
    "print('Q1=',Q1)\n",
    "print('Q2=',Q2)\n",
    "print('Q3=',Q3)\n",
    "\n",
    "IQR = Q3-Q1\n",
    "print('IQR=',IQR)\n",
    "\n",
    "up_lmt=Q3+1.5*IQR\n",
    "low_lmt=Q1-1.5*IQR\n",
    "print('up_lmt=',up_lmt)\n",
    "print('low_lmt=',low_lmt)\n",
    "\n",
    "outlier=[]\n",
    "for x in data['fitness_rating']:\n",
    "    if (x<low_lmt) or (x>up_lmt):\n",
    "        outlier.append(x)\n",
    "print('outliers = ',outlier)\n"
   ]
  },
  {
   "cell_type": "code",
   "execution_count": 60,
   "id": "7b8e5408",
   "metadata": {},
   "outputs": [
    {
     "name": "stdout",
     "output_type": "stream",
     "text": [
      "Initial rows and columns: (13994, 30)\n",
      "After dropping,count of rows and columns: (13086, 30)\n"
     ]
    }
   ],
   "source": [
    "data1=data[(data['fitness_rating']>low_lmt) & (data['fitness_rating']< up_lmt)]\n",
    "print(\"Initial rows and columns:\", data.shape)\n",
    "print(\"After dropping,count of rows and columns:\",data1.shape)"
   ]
  },
  {
   "cell_type": "code",
   "execution_count": 61,
   "id": "9593a49f",
   "metadata": {},
   "outputs": [
    {
     "name": "stdout",
     "output_type": "stream",
     "text": [
      "Q1= 2.0\n",
      "Q2= 3.0\n",
      "Q3= 5.0\n",
      "IQR= 3.0\n",
      "up_lmt= 9.5\n",
      "low_lmt= -2.5\n",
      "outliers =  []\n"
     ]
    }
   ],
   "source": [
    "# handling outliers of 'trophies_won'\n",
    "Q1=data['trophies_won'].quantile(.25)\n",
    "Q2=data['trophies_won'].quantile(.50)\n",
    "Q3=data['trophies_won'].quantile(.75)\n",
    "print('Q1=',Q1)\n",
    "print('Q2=',Q2)\n",
    "print('Q3=',Q3)\n",
    "\n",
    "IQR = Q3-Q1\n",
    "print('IQR=',IQR)\n",
    "\n",
    "up_lmt=Q3+1.5*IQR\n",
    "low_lmt=Q1-1.5*IQR\n",
    "print('up_lmt=',up_lmt)\n",
    "print('low_lmt=',low_lmt)\n",
    "\n",
    "outlier=[]\n",
    "for x in data['trophies_won']:\n",
    "    if (x<low_lmt) or (x>up_lmt):\n",
    "        outlier.append(x)\n",
    "print('outliers = ',outlier)\n"
   ]
  },
  {
   "cell_type": "code",
   "execution_count": 62,
   "id": "9abb62f5",
   "metadata": {},
   "outputs": [
    {
     "name": "stdout",
     "output_type": "stream",
     "text": [
      "Initial rows and columns: (13994, 30)\n",
      "After dropping,count of rows and columns: (13994, 30)\n"
     ]
    }
   ],
   "source": [
    "data1=data[(data['trophies_won']>low_lmt) & (data['trophies_won']< up_lmt)]\n",
    "print(\"Initial rows and columns:\", data.shape)\n",
    "print(\"After dropping,count of rows and columns:\",data1.shape)"
   ]
  },
  {
   "cell_type": "code",
   "execution_count": 63,
   "id": "8d657d46",
   "metadata": {},
   "outputs": [
    {
     "name": "stdout",
     "output_type": "stream",
     "text": [
      "Q1= 2.0\n",
      "Q2= 6.0\n",
      "Q3= 10.0\n",
      "IQR= 8.0\n",
      "up_lmt= 22.0\n",
      "low_lmt= -10.0\n",
      "outliers =  [25.0, 25.0, 24.0, 26.0]\n"
     ]
    }
   ],
   "source": [
    "# handling outliers of 'years_of_experience'\n",
    "Q1=data['years_of_experience'].quantile(.25)\n",
    "Q2=data['years_of_experience'].quantile(.50)\n",
    "Q3=data['years_of_experience'].quantile(.75)\n",
    "print('Q1=',Q1)\n",
    "print('Q2=',Q2)\n",
    "print('Q3=',Q3)\n",
    "\n",
    "IQR = Q3-Q1\n",
    "print('IQR=',IQR)\n",
    "\n",
    "up_lmt=Q3+1.5*IQR\n",
    "low_lmt=Q1-1.5*IQR\n",
    "print('up_lmt=',up_lmt)\n",
    "print('low_lmt=',low_lmt)\n",
    "\n",
    "outlier=[]\n",
    "for x in data['years_of_experience']:\n",
    "    if (x<low_lmt) or (x>up_lmt):\n",
    "        outlier.append(x)\n",
    "print('outliers = ',outlier)\n"
   ]
  },
  {
   "cell_type": "code",
   "execution_count": 64,
   "id": "1dff5b31",
   "metadata": {},
   "outputs": [
    {
     "name": "stdout",
     "output_type": "stream",
     "text": [
      "Initial rows and columns: (13994, 30)\n",
      "After dropping,count of rows and columns: (13982, 30)\n"
     ]
    }
   ],
   "source": [
    "data1=data[(data['years_of_experience']>low_lmt) & (data['years_of_experience']< up_lmt)]\n",
    "print(\"Initial rows and columns:\", data.shape)\n",
    "print(\"After dropping,count of rows and columns:\",data1.shape)"
   ]
  },
  {
   "cell_type": "code",
   "execution_count": 66,
   "id": "1d9883fd",
   "metadata": {},
   "outputs": [
    {
     "name": "stdout",
     "output_type": "stream",
     "text": [
      "Q1= 0.0\n",
      "Q2= 0.0\n",
      "Q3= 0.0\n",
      "IQR= 0.0\n",
      "up_lmt= 0.0\n",
      "low_lmt= 0.0\n",
      "outliers =  [16.0, 4.0, 6.0, 5.0, 8.0, 5.0, 6.0, -999.0, 4.0, 4.0, 5.0, 4.0, 6.0, 4.0, 6.0, 5.0, 5.0, 4.0, 6.0, 4.0, 6.0, 5.0, 4.0, 4.0, 5.0, 4.0, 5.0, 4.0, 5.0, 8.0, 5.0, 5.0, 4.0, 6.0, 4.0, 5.0, 4.0, 6.0, -999.0, 5.0, 8.0, 4.0, 5.0, 5.0, 4.0, 9.0, 5.0, 12.0, 8.0, 5.0, 5.0, 12.0, 8.0, 12.0, 6.0, 4.0, 12.0, 18.0, 5.0, 10.0, 4.0, 4.0, -999.0, 4.0, 5.0, 10.0, 18.0, 4.0, 9.0, 4.0, 4.0, 9.0, 5.0, 8.0, 4.0, 12.0, 4.0, 12.0, 4.0, 6.0, -999.0, 8.0, 9.0, 5.0, 4.0, 6.0, 6.0, -999.0, 4.0, -999.0, 4.0, 8.0, 4.0, 6.0, 4.0, 10.0, 8.0, 4.0, 9.0, 5.0, 9.0, 4.0, 6.0, 4.0, 5.0, 10.0, 12.0, 6.0, 4.0, 4.0, 6.0, 4.0, 6.0, 10.0, -999.0, 6.0, 4.0, 5.0, -999.0, 5.0, 9.0, 4.0, 6.0, 4.0, 8.0, 4.0, 6.0, 6.0, 5.0, 6.0, 6.0, 6.0, 12.0, 6.0, 6.0, -999.0, 4.0, 4.0, 6.0, 6.0, 5.0, 9.0, 5.0, 4.0, 5.0, 4.0, 12.0, 10.0, 5.0, 12.0, 5.0, 4.0, 5.0, 12.0, 4.0, 5.0, 4.0, 4.0, 12.0, 4.0, 4.0, 6.0, 4.0, 4.0, 10.0, 9.0, 6.0, -999.0, 4.0, 4.0, 5.0, 4.0, 6.0, 12.0, 9.0, 5.0, 8.0, 6.0, 6.0, 4.0, 4.0, 6.0, 8.0, 4.0, 14.0, 5.0, 5.0, 4.0, 4.0, 4.0, 8.0, 4.0, 5.0, 4.0, 4.0, 9.0, 4.0, -999.0, 9.0, 5.0, 5.0, 4.0, -999.0, 8.0, 5.0, 6.0, 4.0, 6.0, 5.0, 9.0, 5.0, 5.0, 4.0, 4.0, 5.0, 4.0, 4.0, 6.0, 5.0, 6.0, 10.0, -999.0, 5.0, 4.0, -999.0, 6.0, 6.0, 4.0, 4.0, 4.0, 4.0, 4.0, 5.0, 5.0, 4.0, 12.0, 5.0, 4.0, 12.0, 9.0, 4.0, -999.0, 4.0, 6.0, 8.0, 6.0, 9.0, 6.0, 4.0, 4.0, 4.0, 6.0, 12.0, 4.0, 6.0, 4.0, 12.0, 4.0, 12.0, 6.0, 4.0, 12.0, 5.0, 5.0, 4.0, 5.0, 8.0, 10.0, -999.0, -999.0, 4.0, 4.0, 4.0, 6.0, 10.0, 6.0, 9.0, 5.0, 6.0, 5.0, 5.0, 5.0, 4.0, 4.0, 4.0, 4.0, 4.0, 6.0, 9.0, 6.0, 6.0, 4.0, 4.0, 12.0, 5.0, 6.0, 9.0, 5.0, 6.0, 12.0, 4.0, 4.0, 4.0, -999.0, 10.0, 4.0, 4.0, 4.0, 5.0, 4.0, 8.0, 10.0, 10.0, 4.0, 4.0, 4.0, 5.0, 5.0, 4.0, -999.0, 4.0, 6.0, -999.0, 12.0, 5.0, 4.0, 5.0, 4.0, 24.0, 9.0, 4.0, 6.0, 4.0, 4.0, 6.0, 6.0, 5.0, 4.0, 5.0, 6.0, 4.0, 8.0, 4.0, 5.0, 4.0, 10.0, 10.0, 4.0, 5.0, 4.0, 12.0, 5.0, 4.0, 4.0, -999.0, 6.0, 6.0, 4.0, 4.0, 4.0, -999.0, 4.0, 4.0, 4.0, 5.0, 15.0, 4.0, -999.0, 9.0, 4.0, 10.0, 6.0, 5.0, 4.0, 6.0, 12.0, 5.0, 5.0, 4.0, 6.0, -999.0, 4.0, 12.0, 6.0, 6.0, 6.0, 12.0, 4.0, 5.0, 5.0, 4.0, 5.0, 5.0, 6.0, 9.0, 6.0, 4.0, 4.0, 6.0, 6.0, -999.0, 25.0, 6.0, 8.0, 6.0, 4.0, 6.0, 4.0, 4.0, 5.0, 4.0, 12.0, -999.0, 4.0, -999.0, 4.0, 4.0, 5.0, 6.0, 6.0, 5.0, 4.0, 4.0, 8.0, 4.0, 5.0, 6.0, 5.0, 5.0, 6.0, 10.0, 12.0, 4.0, 5.0, 4.0, 4.0, 4.0, 4.0, -999.0, 5.0, 4.0, 6.0, 5.0, 5.0, 5.0, 8.0, 4.0, 4.0, 8.0, 4.0, 4.0, 4.0, 6.0, 4.0, 8.0, 5.0, 6.0, 4.0, 4.0, 5.0, 4.0, 5.0, 6.0, 4.0, 6.0, 6.0, 4.0, 6.0, 8.0, 4.0, 4.0, 9.0, 6.0, 6.0, 6.0, 6.0, 5.0, 4.0, 9.0, 5.0, 4.0, 4.0, 12.0, 5.0, 4.0, 4.0, 5.0, 6.0, 18.0, 4.0, -999.0, 6.0, 4.0, 13.0, 4.0, 6.0, 5.0, 4.0, 4.0, 6.0, 8.0, 18.0, 5.0, 5.0, -999.0, 5.0, 6.0, 6.0, -999.0, 4.0, 4.0, 5.0, 10.0, 6.0, 6.0, 10.0, 6.0, 5.0, 6.0, 12.0, 14.0, 4.0, 4.0, 10.0, 5.0, 8.0, 9.0, 4.0, 4.0, 5.0, 6.0, 4.0, 6.0, 4.0, -999.0, 4.0, 4.0, 4.0, 4.0, 5.0, 6.0, 10.0, 4.0, 5.0, 6.0, 4.0, 10.0, 4.0, 4.0, -999.0, 5.0, 5.0, 10.0, 9.0, 10.0, 10.0, 4.0, 4.0, 8.0, -999.0, 4.0, 8.0, 12.0, 6.0, 6.0, 5.0, 5.0, 12.0, 6.0, 4.0, 5.0, 4.0, 5.0, 4.0, 4.0, 12.0, 6.0, 9.0, 5.0, 4.0, -999.0, 4.0, 4.0, 6.0, 5.0, -999.0, 4.0, 12.0, 4.0, 5.0, 8.0, 4.0, 4.0, 5.0, 8.0, 4.0, 5.0, 5.0, 6.0, 5.0, 5.0, 5.0, 4.0, 5.0, 5.0, 4.0, 4.0, 4.0, -999.0, 4.0, 8.0, 4.0, 4.0, 4.0, 5.0, 4.0, 4.0, 5.0, 4.0, 5.0, 4.0, 4.0, 12.0, 5.0, 4.0, -999.0, 6.0, 6.0, 4.0, 4.0, 4.0, 6.0, 4.0, 8.0, 4.0, 4.0, 4.0, 4.0, 6.0, 5.0, 12.0, 6.0, 5.0, 4.0, 6.0, 9.0, 10.0, 16.0, 4.0, 4.0, 8.0, 12.0, 5.0, 6.0, -999.0, 6.0, 4.0, 4.0, 9.0, 12.0, 4.0, 4.0, 4.0, -999.0, 8.0, 6.0, 9.0, 5.0, 8.0, 5.0, 4.0, 4.0, -999.0, 4.0, 9.0, 4.0, 4.0, 4.0, 10.0, 8.0, -999.0, 4.0, 4.0, 4.0, 5.0, 4.0, 6.0, 4.0, 4.0, 9.0, 6.0, -999.0, 6.0, 6.0, 4.0, 4.0, 4.0, 4.0, 5.0, 6.0, 4.0, 6.0, 5.0, 5.0, 5.0, 5.0, 5.0, 6.0, 4.0, 4.0, 6.0, 13.0, 8.0, 5.0, 6.0, 6.0, 5.0, 5.0, -999.0, 6.0, 10.0, 4.0, 5.0, 5.0, 5.0, 10.0, 12.0, 12.0, 5.0, 6.0, 4.0, 4.0, 4.0, 4.0, 4.0, 6.0, 4.0, 10.0, 8.0, 4.0, 4.0, 4.0, -999.0, 4.0, 10.0, 5.0, 5.0, 5.0, 5.0, 5.0, 10.0, 5.0, 5.0, 4.0, -999.0, 4.0, 4.0, 4.0, 5.0, 5.0, 5.0, 9.0, 10.0, 8.0, 4.0, 5.0, 9.0, 4.0, 5.0, 4.0, 4.0, 4.0, 5.0, 4.0, 5.0, 4.0, 9.0, 9.0, 4.0, 4.0, -999.0, 5.0, 6.0, 6.0, 9.0, 6.0, 5.0, 4.0, 4.0, 4.0, 10.0, 4.0, 10.0, 6.0, 9.0, 5.0, 12.0, 4.0, 6.0, -999.0, 6.0, 4.0, 4.0, 9.0, 4.0, 5.0, 4.0, -999.0, 6.0, 4.0, 4.0, 6.0, 8.0, 4.0, 5.0, 5.0, 5.0, 4.0, 4.0, 4.0, 12.0, 4.0, 18.0, 6.0, 6.0, 6.0, 5.0, 8.0, 5.0, 6.0, 6.0, 4.0, 21.0, -999.0, 6.0, 6.0, 9.0, 4.0, 6.0, -999.0, 5.0, 6.0, 4.0, -999.0, 6.0, 4.0, 6.0, 4.0, 4.0, 8.0, -999.0, 5.0, 6.0, 8.0, 6.0, 4.0, 15.0, 12.0, 5.0, 5.0, 4.0, 4.0, 4.0, 6.0, 6.0, 4.0, 4.0, 4.0, 8.0, 5.0, 5.0, 5.0, 4.0, 4.0, 18.0, 4.0, 12.0, -999.0, 6.0, 8.0, -999.0, 16.0, 5.0, 4.0, 5.0, 4.0, -999.0, -999.0, 10.0, 6.0, 6.0, 4.0, 4.0, 9.0, -999.0, 6.0, 4.0, 5.0, 6.0, 6.0, 4.0, 4.0, 4.0, 6.0, 4.0, 4.0, 4.0, 10.0, 5.0, 4.0, 6.0, 6.0, 4.0, 5.0, 4.0, 4.0, 4.0, -999.0, 10.0, 4.0, -999.0, 4.0, 4.0, 5.0, 12.0, 4.0, 4.0, 6.0, 5.0, 5.0, 4.0, 5.0, 5.0, 8.0, 6.0, 5.0, 9.0, 13.0, 5.0, 4.0, 5.0, 12.0, 6.0, 6.0, 4.0, 5.0, 4.0, 5.0, 5.0, 4.0, 4.0, 10.0, 4.0, 5.0, 4.0, 4.0, 6.0, 6.0, 9.0, 4.0, -999.0, 4.0, 6.0, 4.0, -999.0, 4.0, 16.0, 5.0, 10.0, 4.0, 4.0, 5.0, 4.0, 5.0, 5.0, 5.0, 6.0, 6.0, 4.0, 5.0, 4.0, 12.0, 12.0, 6.0, 4.0, 6.0, 4.0, 5.0, 9.0, 4.0, 4.0, 4.0, 5.0, 4.0, -999.0, 6.0, 6.0, 4.0, 6.0, 12.0, 6.0, 9.0, 4.0, 4.0, 12.0, 5.0, 6.0, 10.0, 4.0, 4.0, 5.0, 6.0, -999.0, 5.0, 12.0, 5.0, 6.0, 6.0, 12.0, 12.0, 5.0, 18.0, 12.0, 4.0, 4.0, -999.0, 6.0, 4.0, 5.0, 5.0, 6.0, 8.0, 5.0, 5.0, 4.0, 5.0, 5.0, 4.0, 4.0, 4.0, 6.0, 4.0, 4.0, 5.0, -999.0, 6.0, 8.0, 10.0, 5.0, 4.0, 4.0, 5.0, 6.0, 4.0, 6.0, 6.0, 4.0, 4.0, 4.0, -999.0, 5.0, 4.0, 8.0, 6.0, 4.0, 4.0, 6.0, 5.0, 9.0, 4.0, 5.0, 8.0, 6.0, 6.0, 5.0, 4.0, -999.0, -999.0, 4.0, 5.0, 5.0, 6.0, 5.0, 4.0, -999.0, 4.0, 4.0, 18.0, 4.0, 4.0, 6.0, 8.0, 6.0, 4.0, 4.0, -999.0, 14.0, 4.0, 6.0, 5.0, 4.0, 4.0, 4.0, 5.0, 10.0, 5.0, 4.0, 8.0, 5.0, 5.0, 6.0, 6.0, 5.0, 6.0, 8.0, 4.0, 4.0, 4.0, 9.0, 4.0, 4.0, -999.0, 6.0, 4.0, 8.0, 9.0, 4.0, 12.0, 4.0, 4.0, 4.0, 6.0, 4.0, 5.0, 6.0, 4.0, 4.0, 4.0, 8.0, 4.0, 9.0, 9.0, 6.0, 4.0, 8.0, 6.0, 6.0, 4.0, 5.0, 10.0, 10.0, 5.0, 5.0, 4.0, 6.0, 5.0, 4.0, 5.0, 10.0, 4.0, 6.0, 5.0, 9.0, 9.0, 5.0, 4.0, 6.0, -999.0, 4.0, 10.0, 18.0, 4.0, 4.0, 4.0, 4.0, 12.0]\n"
     ]
    }
   ],
   "source": [
    "# handling outliers of 'no_of_disqualifications'\n",
    "Q1=data['no_of_disqualifications'].quantile(.25)\n",
    "Q2=data['no_of_disqualifications'].quantile(.50)\n",
    "Q3=data['no_of_disqualifications'].quantile(.75)\n",
    "print('Q1=',Q1)\n",
    "print('Q2=',Q2)\n",
    "print('Q3=',Q3)\n",
    "\n",
    "IQR = Q3-Q1\n",
    "print('IQR=',IQR)\n",
    "\n",
    "up_lmt=Q3+1.5*IQR\n",
    "low_lmt=Q1-1.5*IQR\n",
    "print('up_lmt=',up_lmt)\n",
    "print('low_lmt=',low_lmt)\n",
    "\n",
    "outlier=[]\n",
    "for x in data['no_of_disqualifications']:\n",
    "    if (x<low_lmt) or (x>up_lmt):\n",
    "        outlier.append(x)\n",
    "print('outliers = ',outlier)\n"
   ]
  },
  {
   "cell_type": "code",
   "execution_count": 67,
   "id": "b1b10359",
   "metadata": {},
   "outputs": [
    {
     "name": "stdout",
     "output_type": "stream",
     "text": [
      "Initial rows and columns: (13994, 30)\n",
      "After dropping,count of rows and columns: (0, 30)\n"
     ]
    }
   ],
   "source": [
    "data1=data[(data['no_of_disqualifications']>low_lmt) & (data['no_of_disqualifications']< up_lmt)]\n",
    "print(\"Initial rows and columns:\", data.shape)\n",
    "print(\"After dropping,count of rows and columns:\",data1.shape)"
   ]
  },
  {
   "cell_type": "code",
   "execution_count": 68,
   "id": "6a338f11",
   "metadata": {},
   "outputs": [
    {
     "name": "stdout",
     "output_type": "stream",
     "text": [
      "Q1= 0.0\n",
      "Q2= 1.0\n",
      "Q3= 1.0\n",
      "IQR= 1.0\n",
      "up_lmt= 2.5\n",
      "low_lmt= -1.5\n",
      "outliers =  []\n"
     ]
    }
   ],
   "source": [
    "# handling outliers of 'selection'\n",
    "Q1=data['selection'].quantile(.25)\n",
    "Q2=data['selection'].quantile(.50)\n",
    "Q3=data['selection'].quantile(.75)\n",
    "print('Q1=',Q1)\n",
    "print('Q2=',Q2)\n",
    "print('Q3=',Q3)\n",
    "\n",
    "IQR = Q3-Q1\n",
    "print('IQR=',IQR)\n",
    "\n",
    "up_lmt=Q3+1.5*IQR\n",
    "low_lmt=Q1-1.5*IQR\n",
    "print('up_lmt=',up_lmt)\n",
    "print('low_lmt=',low_lmt)\n",
    "\n",
    "outlier=[]\n",
    "for x in data['selection']:\n",
    "    if (x<low_lmt) or (x>up_lmt):\n",
    "        outlier.append(x)\n",
    "print('outliers = ',outlier)\n"
   ]
  },
  {
   "cell_type": "code",
   "execution_count": 69,
   "id": "b7ef9dac",
   "metadata": {},
   "outputs": [
    {
     "name": "stdout",
     "output_type": "stream",
     "text": [
      "Initial rows and columns: (13994, 30)\n",
      "After dropping,count of rows and columns: (13994, 30)\n"
     ]
    }
   ],
   "source": [
    "data1=data[(data['selection']>low_lmt) & (data['selection']< up_lmt)]\n",
    "print(\"Initial rows and columns:\", data.shape)\n",
    "print(\"After dropping,count of rows and columns:\",data1.shape)"
   ]
  },
  {
   "cell_type": "code",
   "execution_count": 73,
   "id": "49d9df26",
   "metadata": {},
   "outputs": [
    {
     "data": {
      "text/html": [
       "<div>\n",
       "<style scoped>\n",
       "    .dataframe tbody tr th:only-of-type {\n",
       "        vertical-align: middle;\n",
       "    }\n",
       "\n",
       "    .dataframe tbody tr th {\n",
       "        vertical-align: top;\n",
       "    }\n",
       "\n",
       "    .dataframe thead th {\n",
       "        text-align: right;\n",
       "    }\n",
       "</style>\n",
       "<table border=\"1\" class=\"dataframe\">\n",
       "  <thead>\n",
       "    <tr style=\"text-align: right;\">\n",
       "      <th></th>\n",
       "      <th>player_id</th>\n",
       "      <th>name</th>\n",
       "      <th>age</th>\n",
       "      <th>gender</th>\n",
       "      <th>country</th>\n",
       "      <th>height</th>\n",
       "      <th>weight</th>\n",
       "      <th>ball_controlling_skills</th>\n",
       "      <th>body_reflexes</th>\n",
       "      <th>body_balance</th>\n",
       "      <th>...</th>\n",
       "      <th>strong_foot</th>\n",
       "      <th>behaviour_rating</th>\n",
       "      <th>matches_played</th>\n",
       "      <th>fitness_rating</th>\n",
       "      <th>trophies_won</th>\n",
       "      <th>dedication_level</th>\n",
       "      <th>coaching</th>\n",
       "      <th>years_of_experience</th>\n",
       "      <th>no_of_disqualifications</th>\n",
       "      <th>selection</th>\n",
       "    </tr>\n",
       "  </thead>\n",
       "  <tbody>\n",
       "    <tr>\n",
       "      <th>0</th>\n",
       "      <td>PLID_4964</td>\n",
       "      <td>Keva Horan</td>\n",
       "      <td>23</td>\n",
       "      <td>M</td>\n",
       "      <td>Ukraine</td>\n",
       "      <td>6'2</td>\n",
       "      <td>176lbs</td>\n",
       "      <td>77.0</td>\n",
       "      <td>58.0</td>\n",
       "      <td>47.0</td>\n",
       "      <td>...</td>\n",
       "      <td>Right</td>\n",
       "      <td>7.7</td>\n",
       "      <td>0.0</td>\n",
       "      <td>8.1</td>\n",
       "      <td>2.0</td>\n",
       "      <td>High</td>\n",
       "      <td>Talent Hunt</td>\n",
       "      <td>8.0</td>\n",
       "      <td>0.0</td>\n",
       "      <td>1</td>\n",
       "    </tr>\n",
       "    <tr>\n",
       "      <th>1</th>\n",
       "      <td>PLID_11234</td>\n",
       "      <td>Herma Tann</td>\n",
       "      <td>18</td>\n",
       "      <td>M</td>\n",
       "      <td>Russia</td>\n",
       "      <td>5'10</td>\n",
       "      <td>148lbs</td>\n",
       "      <td>54.0</td>\n",
       "      <td>69.0</td>\n",
       "      <td>70.0</td>\n",
       "      <td>...</td>\n",
       "      <td>Any</td>\n",
       "      <td>5.3</td>\n",
       "      <td>0.0</td>\n",
       "      <td>6.8</td>\n",
       "      <td>3.0</td>\n",
       "      <td>Medium</td>\n",
       "      <td>Source</td>\n",
       "      <td>3.0</td>\n",
       "      <td>0.0</td>\n",
       "      <td>0</td>\n",
       "    </tr>\n",
       "    <tr>\n",
       "      <th>2</th>\n",
       "      <td>PLID_19127</td>\n",
       "      <td>Eilene Kizer</td>\n",
       "      <td>16</td>\n",
       "      <td>F</td>\n",
       "      <td>Spain</td>\n",
       "      <td>6'2</td>\n",
       "      <td>172lbs</td>\n",
       "      <td>34.0</td>\n",
       "      <td>43.0</td>\n",
       "      <td>45.0</td>\n",
       "      <td>...</td>\n",
       "      <td>Left</td>\n",
       "      <td>4.7</td>\n",
       "      <td>0.0</td>\n",
       "      <td>6.6</td>\n",
       "      <td>5.0</td>\n",
       "      <td>Low</td>\n",
       "      <td>Academy</td>\n",
       "      <td>2.0</td>\n",
       "      <td>0.0</td>\n",
       "      <td>1</td>\n",
       "    </tr>\n",
       "    <tr>\n",
       "      <th>3</th>\n",
       "      <td>PLID_17467</td>\n",
       "      <td>Andrea Badgett</td>\n",
       "      <td>27</td>\n",
       "      <td>M</td>\n",
       "      <td>Chile</td>\n",
       "      <td>5'11</td>\n",
       "      <td>165lbs</td>\n",
       "      <td>79.0</td>\n",
       "      <td>73.0</td>\n",
       "      <td>76.0</td>\n",
       "      <td>...</td>\n",
       "      <td>Right</td>\n",
       "      <td>8.6</td>\n",
       "      <td>113.0</td>\n",
       "      <td>8.6</td>\n",
       "      <td>6.0</td>\n",
       "      <td>Medium</td>\n",
       "      <td>Academy</td>\n",
       "      <td>13.0</td>\n",
       "      <td>16.0</td>\n",
       "      <td>1</td>\n",
       "    </tr>\n",
       "    <tr>\n",
       "      <th>4</th>\n",
       "      <td>PLID_9661</td>\n",
       "      <td>Jeremiah Bumbalough</td>\n",
       "      <td>19</td>\n",
       "      <td>F</td>\n",
       "      <td>Argentina</td>\n",
       "      <td>5'8</td>\n",
       "      <td>158lbs</td>\n",
       "      <td>47.0</td>\n",
       "      <td>61.0</td>\n",
       "      <td>74.0</td>\n",
       "      <td>...</td>\n",
       "      <td>Right</td>\n",
       "      <td>5.9</td>\n",
       "      <td>0.0</td>\n",
       "      <td>5.7</td>\n",
       "      <td>5.0</td>\n",
       "      <td>Medium</td>\n",
       "      <td>Academy</td>\n",
       "      <td>4.0</td>\n",
       "      <td>0.0</td>\n",
       "      <td>0</td>\n",
       "    </tr>\n",
       "  </tbody>\n",
       "</table>\n",
       "<p>5 rows × 30 columns</p>\n",
       "</div>"
      ],
      "text/plain": [
       "    player_id                 name  age gender    country height  weight  \\\n",
       "0   PLID_4964           Keva Horan   23      M    Ukraine    6'2  176lbs   \n",
       "1  PLID_11234           Herma Tann   18      M     Russia   5'10  148lbs   \n",
       "2  PLID_19127         Eilene Kizer   16      F      Spain    6'2  172lbs   \n",
       "3  PLID_17467       Andrea Badgett   27      M      Chile   5'11  165lbs   \n",
       "4   PLID_9661  Jeremiah Bumbalough   19      F  Argentina    5'8  158lbs   \n",
       "\n",
       "   ball_controlling_skills  body_reflexes  body_balance  ...  strong_foot  \\\n",
       "0                     77.0           58.0          47.0  ...        Right   \n",
       "1                     54.0           69.0          70.0  ...          Any   \n",
       "2                     34.0           43.0          45.0  ...         Left   \n",
       "3                     79.0           73.0          76.0  ...        Right   \n",
       "4                     47.0           61.0          74.0  ...        Right   \n",
       "\n",
       "   behaviour_rating  matches_played  fitness_rating  trophies_won  \\\n",
       "0               7.7             0.0             8.1           2.0   \n",
       "1               5.3             0.0             6.8           3.0   \n",
       "2               4.7             0.0             6.6           5.0   \n",
       "3               8.6           113.0             8.6           6.0   \n",
       "4               5.9             0.0             5.7           5.0   \n",
       "\n",
       "   dedication_level     coaching  years_of_experience  \\\n",
       "0              High  Talent Hunt                  8.0   \n",
       "1            Medium       Source                  3.0   \n",
       "2               Low      Academy                  2.0   \n",
       "3            Medium      Academy                 13.0   \n",
       "4            Medium      Academy                  4.0   \n",
       "\n",
       "   no_of_disqualifications  selection  \n",
       "0                      0.0          1  \n",
       "1                      0.0          0  \n",
       "2                      0.0          1  \n",
       "3                     16.0          1  \n",
       "4                      0.0          0  \n",
       "\n",
       "[5 rows x 30 columns]"
      ]
     },
     "execution_count": 73,
     "metadata": {},
     "output_type": "execute_result"
    }
   ],
   "source": [
    "data.head()"
   ]
  },
  {
   "cell_type": "markdown",
   "id": "355e0b57",
   "metadata": {},
   "source": [
    "ENCODING"
   ]
  },
  {
   "cell_type": "code",
   "execution_count": 78,
   "id": "6e2df721",
   "metadata": {},
   "outputs": [],
   "source": [
    "data1 = pd.get_dummies(data1)"
   ]
  },
  {
   "cell_type": "code",
   "execution_count": 79,
   "id": "a962b73a",
   "metadata": {},
   "outputs": [
    {
     "data": {
      "text/html": [
       "<div>\n",
       "<style scoped>\n",
       "    .dataframe tbody tr th:only-of-type {\n",
       "        vertical-align: middle;\n",
       "    }\n",
       "\n",
       "    .dataframe tbody tr th {\n",
       "        vertical-align: top;\n",
       "    }\n",
       "\n",
       "    .dataframe thead th {\n",
       "        text-align: right;\n",
       "    }\n",
       "</style>\n",
       "<table border=\"1\" class=\"dataframe\">\n",
       "  <thead>\n",
       "    <tr style=\"text-align: right;\">\n",
       "      <th></th>\n",
       "      <th>age</th>\n",
       "      <th>ball_controlling_skills</th>\n",
       "      <th>body_reflexes</th>\n",
       "      <th>body_balance</th>\n",
       "      <th>jumping_skills</th>\n",
       "      <th>penalties_conversion_rate</th>\n",
       "      <th>mental_strength</th>\n",
       "      <th>goalkeeping_skills</th>\n",
       "      <th>defending_skills</th>\n",
       "      <th>passing_skills</th>\n",
       "      <th>...</th>\n",
       "      <th>strong_foot_Left</th>\n",
       "      <th>strong_foot_None</th>\n",
       "      <th>strong_foot_Right</th>\n",
       "      <th>dedication_level_High</th>\n",
       "      <th>dedication_level_Low</th>\n",
       "      <th>dedication_level_Medium</th>\n",
       "      <th>coaching_Academy</th>\n",
       "      <th>coaching_Source</th>\n",
       "      <th>coaching_Talent Hunt</th>\n",
       "      <th>coaching_Unknown</th>\n",
       "    </tr>\n",
       "  </thead>\n",
       "  <tbody>\n",
       "    <tr>\n",
       "      <th>0</th>\n",
       "      <td>23</td>\n",
       "      <td>77.0</td>\n",
       "      <td>58.0</td>\n",
       "      <td>47.0</td>\n",
       "      <td>59.0</td>\n",
       "      <td>41.0</td>\n",
       "      <td>73.0</td>\n",
       "      <td>13.0</td>\n",
       "      <td>69.0</td>\n",
       "      <td>70.0</td>\n",
       "      <td>...</td>\n",
       "      <td>0</td>\n",
       "      <td>0</td>\n",
       "      <td>1</td>\n",
       "      <td>1</td>\n",
       "      <td>0</td>\n",
       "      <td>0</td>\n",
       "      <td>0</td>\n",
       "      <td>0</td>\n",
       "      <td>1</td>\n",
       "      <td>0</td>\n",
       "    </tr>\n",
       "    <tr>\n",
       "      <th>1</th>\n",
       "      <td>18</td>\n",
       "      <td>54.0</td>\n",
       "      <td>69.0</td>\n",
       "      <td>70.0</td>\n",
       "      <td>62.0</td>\n",
       "      <td>53.0</td>\n",
       "      <td>43.0</td>\n",
       "      <td>10.0</td>\n",
       "      <td>30.0</td>\n",
       "      <td>50.0</td>\n",
       "      <td>...</td>\n",
       "      <td>0</td>\n",
       "      <td>0</td>\n",
       "      <td>0</td>\n",
       "      <td>0</td>\n",
       "      <td>0</td>\n",
       "      <td>1</td>\n",
       "      <td>0</td>\n",
       "      <td>1</td>\n",
       "      <td>0</td>\n",
       "      <td>0</td>\n",
       "    </tr>\n",
       "    <tr>\n",
       "      <th>2</th>\n",
       "      <td>16</td>\n",
       "      <td>34.0</td>\n",
       "      <td>43.0</td>\n",
       "      <td>45.0</td>\n",
       "      <td>69.0</td>\n",
       "      <td>49.0</td>\n",
       "      <td>45.0</td>\n",
       "      <td>10.0</td>\n",
       "      <td>57.0</td>\n",
       "      <td>37.0</td>\n",
       "      <td>...</td>\n",
       "      <td>1</td>\n",
       "      <td>0</td>\n",
       "      <td>0</td>\n",
       "      <td>0</td>\n",
       "      <td>1</td>\n",
       "      <td>0</td>\n",
       "      <td>1</td>\n",
       "      <td>0</td>\n",
       "      <td>0</td>\n",
       "      <td>0</td>\n",
       "    </tr>\n",
       "    <tr>\n",
       "      <th>3</th>\n",
       "      <td>27</td>\n",
       "      <td>79.0</td>\n",
       "      <td>73.0</td>\n",
       "      <td>76.0</td>\n",
       "      <td>86.0</td>\n",
       "      <td>81.0</td>\n",
       "      <td>80.0</td>\n",
       "      <td>3.0</td>\n",
       "      <td>85.0</td>\n",
       "      <td>80.0</td>\n",
       "      <td>...</td>\n",
       "      <td>0</td>\n",
       "      <td>0</td>\n",
       "      <td>1</td>\n",
       "      <td>0</td>\n",
       "      <td>0</td>\n",
       "      <td>1</td>\n",
       "      <td>1</td>\n",
       "      <td>0</td>\n",
       "      <td>0</td>\n",
       "      <td>0</td>\n",
       "    </tr>\n",
       "    <tr>\n",
       "      <th>4</th>\n",
       "      <td>19</td>\n",
       "      <td>47.0</td>\n",
       "      <td>61.0</td>\n",
       "      <td>74.0</td>\n",
       "      <td>57.0</td>\n",
       "      <td>49.0</td>\n",
       "      <td>35.0</td>\n",
       "      <td>9.0</td>\n",
       "      <td>60.0</td>\n",
       "      <td>39.0</td>\n",
       "      <td>...</td>\n",
       "      <td>0</td>\n",
       "      <td>0</td>\n",
       "      <td>1</td>\n",
       "      <td>0</td>\n",
       "      <td>0</td>\n",
       "      <td>1</td>\n",
       "      <td>1</td>\n",
       "      <td>0</td>\n",
       "      <td>0</td>\n",
       "      <td>0</td>\n",
       "    </tr>\n",
       "  </tbody>\n",
       "</table>\n",
       "<p>5 rows × 28304 columns</p>\n",
       "</div>"
      ],
      "text/plain": [
       "   age  ball_controlling_skills  body_reflexes  body_balance  jumping_skills  \\\n",
       "0   23                     77.0           58.0          47.0            59.0   \n",
       "1   18                     54.0           69.0          70.0            62.0   \n",
       "2   16                     34.0           43.0          45.0            69.0   \n",
       "3   27                     79.0           73.0          76.0            86.0   \n",
       "4   19                     47.0           61.0          74.0            57.0   \n",
       "\n",
       "   penalties_conversion_rate  mental_strength  goalkeeping_skills  \\\n",
       "0                       41.0             73.0                13.0   \n",
       "1                       53.0             43.0                10.0   \n",
       "2                       49.0             45.0                10.0   \n",
       "3                       81.0             80.0                 3.0   \n",
       "4                       49.0             35.0                 9.0   \n",
       "\n",
       "   defending_skills  passing_skills  ...  strong_foot_Left  strong_foot_None  \\\n",
       "0              69.0            70.0  ...                 0                 0   \n",
       "1              30.0            50.0  ...                 0                 0   \n",
       "2              57.0            37.0  ...                 1                 0   \n",
       "3              85.0            80.0  ...                 0                 0   \n",
       "4              60.0            39.0  ...                 0                 0   \n",
       "\n",
       "   strong_foot_Right  dedication_level_High  dedication_level_Low  \\\n",
       "0                  1                      1                     0   \n",
       "1                  0                      0                     0   \n",
       "2                  0                      0                     1   \n",
       "3                  1                      0                     0   \n",
       "4                  1                      0                     0   \n",
       "\n",
       "   dedication_level_Medium  coaching_Academy  coaching_Source  \\\n",
       "0                        0                 0                0   \n",
       "1                        1                 0                1   \n",
       "2                        0                 1                0   \n",
       "3                        1                 1                0   \n",
       "4                        1                 1                0   \n",
       "\n",
       "   coaching_Talent Hunt  coaching_Unknown  \n",
       "0                     1                 0  \n",
       "1                     0                 0  \n",
       "2                     0                 0  \n",
       "3                     0                 0  \n",
       "4                     0                 0  \n",
       "\n",
       "[5 rows x 28304 columns]"
      ]
     },
     "execution_count": 79,
     "metadata": {},
     "output_type": "execute_result"
    }
   ],
   "source": [
    "data1.head()"
   ]
  },
  {
   "cell_type": "code",
   "execution_count": 84,
   "id": "2ef44587",
   "metadata": {},
   "outputs": [],
   "source": [
    "# Encode categorical variables\n",
    "label_encoder = LabelEncoder()\n",
    "categorical_columns = ['gender','country','height','weight','strong_foot','dedication_level','coaching']\n",
    "for column in categorical_columns:\n",
    "    data[column] = label_encoder.fit_transform(data[column])"
   ]
  },
  {
   "cell_type": "code",
   "execution_count": 85,
   "id": "589c29ff",
   "metadata": {},
   "outputs": [
    {
     "data": {
      "text/html": [
       "<div>\n",
       "<style scoped>\n",
       "    .dataframe tbody tr th:only-of-type {\n",
       "        vertical-align: middle;\n",
       "    }\n",
       "\n",
       "    .dataframe tbody tr th {\n",
       "        vertical-align: top;\n",
       "    }\n",
       "\n",
       "    .dataframe thead th {\n",
       "        text-align: right;\n",
       "    }\n",
       "</style>\n",
       "<table border=\"1\" class=\"dataframe\">\n",
       "  <thead>\n",
       "    <tr style=\"text-align: right;\">\n",
       "      <th></th>\n",
       "      <th>age</th>\n",
       "      <th>ball_controlling_skills</th>\n",
       "      <th>body_reflexes</th>\n",
       "      <th>body_balance</th>\n",
       "      <th>jumping_skills</th>\n",
       "      <th>penalties_conversion_rate</th>\n",
       "      <th>mental_strength</th>\n",
       "      <th>goalkeeping_skills</th>\n",
       "      <th>defending_skills</th>\n",
       "      <th>passing_skills</th>\n",
       "      <th>...</th>\n",
       "      <th>strong_foot_Left</th>\n",
       "      <th>strong_foot_None</th>\n",
       "      <th>strong_foot_Right</th>\n",
       "      <th>dedication_level_High</th>\n",
       "      <th>dedication_level_Low</th>\n",
       "      <th>dedication_level_Medium</th>\n",
       "      <th>coaching_Academy</th>\n",
       "      <th>coaching_Source</th>\n",
       "      <th>coaching_Talent Hunt</th>\n",
       "      <th>coaching_Unknown</th>\n",
       "    </tr>\n",
       "  </thead>\n",
       "  <tbody>\n",
       "    <tr>\n",
       "      <th>0</th>\n",
       "      <td>23</td>\n",
       "      <td>77.0</td>\n",
       "      <td>58.0</td>\n",
       "      <td>47.0</td>\n",
       "      <td>59.0</td>\n",
       "      <td>41.0</td>\n",
       "      <td>73.0</td>\n",
       "      <td>13.0</td>\n",
       "      <td>69.0</td>\n",
       "      <td>70.0</td>\n",
       "      <td>...</td>\n",
       "      <td>0</td>\n",
       "      <td>0</td>\n",
       "      <td>1</td>\n",
       "      <td>1</td>\n",
       "      <td>0</td>\n",
       "      <td>0</td>\n",
       "      <td>0</td>\n",
       "      <td>0</td>\n",
       "      <td>1</td>\n",
       "      <td>0</td>\n",
       "    </tr>\n",
       "    <tr>\n",
       "      <th>1</th>\n",
       "      <td>18</td>\n",
       "      <td>54.0</td>\n",
       "      <td>69.0</td>\n",
       "      <td>70.0</td>\n",
       "      <td>62.0</td>\n",
       "      <td>53.0</td>\n",
       "      <td>43.0</td>\n",
       "      <td>10.0</td>\n",
       "      <td>30.0</td>\n",
       "      <td>50.0</td>\n",
       "      <td>...</td>\n",
       "      <td>0</td>\n",
       "      <td>0</td>\n",
       "      <td>0</td>\n",
       "      <td>0</td>\n",
       "      <td>0</td>\n",
       "      <td>1</td>\n",
       "      <td>0</td>\n",
       "      <td>1</td>\n",
       "      <td>0</td>\n",
       "      <td>0</td>\n",
       "    </tr>\n",
       "    <tr>\n",
       "      <th>2</th>\n",
       "      <td>16</td>\n",
       "      <td>34.0</td>\n",
       "      <td>43.0</td>\n",
       "      <td>45.0</td>\n",
       "      <td>69.0</td>\n",
       "      <td>49.0</td>\n",
       "      <td>45.0</td>\n",
       "      <td>10.0</td>\n",
       "      <td>57.0</td>\n",
       "      <td>37.0</td>\n",
       "      <td>...</td>\n",
       "      <td>1</td>\n",
       "      <td>0</td>\n",
       "      <td>0</td>\n",
       "      <td>0</td>\n",
       "      <td>1</td>\n",
       "      <td>0</td>\n",
       "      <td>1</td>\n",
       "      <td>0</td>\n",
       "      <td>0</td>\n",
       "      <td>0</td>\n",
       "    </tr>\n",
       "    <tr>\n",
       "      <th>3</th>\n",
       "      <td>27</td>\n",
       "      <td>79.0</td>\n",
       "      <td>73.0</td>\n",
       "      <td>76.0</td>\n",
       "      <td>86.0</td>\n",
       "      <td>81.0</td>\n",
       "      <td>80.0</td>\n",
       "      <td>3.0</td>\n",
       "      <td>85.0</td>\n",
       "      <td>80.0</td>\n",
       "      <td>...</td>\n",
       "      <td>0</td>\n",
       "      <td>0</td>\n",
       "      <td>1</td>\n",
       "      <td>0</td>\n",
       "      <td>0</td>\n",
       "      <td>1</td>\n",
       "      <td>1</td>\n",
       "      <td>0</td>\n",
       "      <td>0</td>\n",
       "      <td>0</td>\n",
       "    </tr>\n",
       "    <tr>\n",
       "      <th>4</th>\n",
       "      <td>19</td>\n",
       "      <td>47.0</td>\n",
       "      <td>61.0</td>\n",
       "      <td>74.0</td>\n",
       "      <td>57.0</td>\n",
       "      <td>49.0</td>\n",
       "      <td>35.0</td>\n",
       "      <td>9.0</td>\n",
       "      <td>60.0</td>\n",
       "      <td>39.0</td>\n",
       "      <td>...</td>\n",
       "      <td>0</td>\n",
       "      <td>0</td>\n",
       "      <td>1</td>\n",
       "      <td>0</td>\n",
       "      <td>0</td>\n",
       "      <td>1</td>\n",
       "      <td>1</td>\n",
       "      <td>0</td>\n",
       "      <td>0</td>\n",
       "      <td>0</td>\n",
       "    </tr>\n",
       "  </tbody>\n",
       "</table>\n",
       "<p>5 rows × 28304 columns</p>\n",
       "</div>"
      ],
      "text/plain": [
       "   age  ball_controlling_skills  body_reflexes  body_balance  jumping_skills  \\\n",
       "0   23                     77.0           58.0          47.0            59.0   \n",
       "1   18                     54.0           69.0          70.0            62.0   \n",
       "2   16                     34.0           43.0          45.0            69.0   \n",
       "3   27                     79.0           73.0          76.0            86.0   \n",
       "4   19                     47.0           61.0          74.0            57.0   \n",
       "\n",
       "   penalties_conversion_rate  mental_strength  goalkeeping_skills  \\\n",
       "0                       41.0             73.0                13.0   \n",
       "1                       53.0             43.0                10.0   \n",
       "2                       49.0             45.0                10.0   \n",
       "3                       81.0             80.0                 3.0   \n",
       "4                       49.0             35.0                 9.0   \n",
       "\n",
       "   defending_skills  passing_skills  ...  strong_foot_Left  strong_foot_None  \\\n",
       "0              69.0            70.0  ...                 0                 0   \n",
       "1              30.0            50.0  ...                 0                 0   \n",
       "2              57.0            37.0  ...                 1                 0   \n",
       "3              85.0            80.0  ...                 0                 0   \n",
       "4              60.0            39.0  ...                 0                 0   \n",
       "\n",
       "   strong_foot_Right  dedication_level_High  dedication_level_Low  \\\n",
       "0                  1                      1                     0   \n",
       "1                  0                      0                     0   \n",
       "2                  0                      0                     1   \n",
       "3                  1                      0                     0   \n",
       "4                  1                      0                     0   \n",
       "\n",
       "   dedication_level_Medium  coaching_Academy  coaching_Source  \\\n",
       "0                        0                 0                0   \n",
       "1                        1                 0                1   \n",
       "2                        0                 1                0   \n",
       "3                        1                 1                0   \n",
       "4                        1                 1                0   \n",
       "\n",
       "   coaching_Talent Hunt  coaching_Unknown  \n",
       "0                     1                 0  \n",
       "1                     0                 0  \n",
       "2                     0                 0  \n",
       "3                     0                 0  \n",
       "4                     0                 0  \n",
       "\n",
       "[5 rows x 28304 columns]"
      ]
     },
     "execution_count": 85,
     "metadata": {},
     "output_type": "execute_result"
    }
   ],
   "source": [
    "data1.head()"
   ]
  },
  {
   "cell_type": "markdown",
   "id": "5129eeea",
   "metadata": {},
   "source": [
    "# MODELING"
   ]
  },
  {
   "cell_type": "code",
   "execution_count": 88,
   "id": "a6faa37a",
   "metadata": {},
   "outputs": [],
   "source": [
    "# Prepare the data\n",
    "X = data1.drop(['selection'], axis=1)\n",
    "y =data1['selection']"
   ]
  },
  {
   "cell_type": "code",
   "execution_count": 89,
   "id": "290456b6",
   "metadata": {},
   "outputs": [],
   "source": [
    "from sklearn.model_selection import train_test_split\n",
    "X_train,X_test,y_train,y_test = train_test_split(X,y,test_size=.25,random_state=42)"
   ]
  },
  {
   "cell_type": "markdown",
   "id": "ee31923d",
   "metadata": {},
   "source": [
    "Logistic Regression Model"
   ]
  },
  {
   "cell_type": "code",
   "execution_count": 92,
   "id": "b14b5698",
   "metadata": {},
   "outputs": [
    {
     "name": "stderr",
     "output_type": "stream",
     "text": [
      "C:\\Users\\jbnay\\Downloads\\New folder\\lib\\site-packages\\sklearn\\linear_model\\_logistic.py:458: ConvergenceWarning: lbfgs failed to converge (status=1):\n",
      "STOP: TOTAL NO. of ITERATIONS REACHED LIMIT.\n",
      "\n",
      "Increase the number of iterations (max_iter) or scale the data as shown in:\n",
      "    https://scikit-learn.org/stable/modules/preprocessing.html\n",
      "Please also refer to the documentation for alternative solver options:\n",
      "    https://scikit-learn.org/stable/modules/linear_model.html#logistic-regression\n",
      "  n_iter_i = _check_optimize_result(\n"
     ]
    },
    {
     "data": {
      "text/html": [
       "<style>#sk-container-id-1 {color: black;background-color: white;}#sk-container-id-1 pre{padding: 0;}#sk-container-id-1 div.sk-toggleable {background-color: white;}#sk-container-id-1 label.sk-toggleable__label {cursor: pointer;display: block;width: 100%;margin-bottom: 0;padding: 0.3em;box-sizing: border-box;text-align: center;}#sk-container-id-1 label.sk-toggleable__label-arrow:before {content: \"▸\";float: left;margin-right: 0.25em;color: #696969;}#sk-container-id-1 label.sk-toggleable__label-arrow:hover:before {color: black;}#sk-container-id-1 div.sk-estimator:hover label.sk-toggleable__label-arrow:before {color: black;}#sk-container-id-1 div.sk-toggleable__content {max-height: 0;max-width: 0;overflow: hidden;text-align: left;background-color: #f0f8ff;}#sk-container-id-1 div.sk-toggleable__content pre {margin: 0.2em;color: black;border-radius: 0.25em;background-color: #f0f8ff;}#sk-container-id-1 input.sk-toggleable__control:checked~div.sk-toggleable__content {max-height: 200px;max-width: 100%;overflow: auto;}#sk-container-id-1 input.sk-toggleable__control:checked~label.sk-toggleable__label-arrow:before {content: \"▾\";}#sk-container-id-1 div.sk-estimator input.sk-toggleable__control:checked~label.sk-toggleable__label {background-color: #d4ebff;}#sk-container-id-1 div.sk-label input.sk-toggleable__control:checked~label.sk-toggleable__label {background-color: #d4ebff;}#sk-container-id-1 input.sk-hidden--visually {border: 0;clip: rect(1px 1px 1px 1px);clip: rect(1px, 1px, 1px, 1px);height: 1px;margin: -1px;overflow: hidden;padding: 0;position: absolute;width: 1px;}#sk-container-id-1 div.sk-estimator {font-family: monospace;background-color: #f0f8ff;border: 1px dotted black;border-radius: 0.25em;box-sizing: border-box;margin-bottom: 0.5em;}#sk-container-id-1 div.sk-estimator:hover {background-color: #d4ebff;}#sk-container-id-1 div.sk-parallel-item::after {content: \"\";width: 100%;border-bottom: 1px solid gray;flex-grow: 1;}#sk-container-id-1 div.sk-label:hover label.sk-toggleable__label {background-color: #d4ebff;}#sk-container-id-1 div.sk-serial::before {content: \"\";position: absolute;border-left: 1px solid gray;box-sizing: border-box;top: 0;bottom: 0;left: 50%;z-index: 0;}#sk-container-id-1 div.sk-serial {display: flex;flex-direction: column;align-items: center;background-color: white;padding-right: 0.2em;padding-left: 0.2em;position: relative;}#sk-container-id-1 div.sk-item {position: relative;z-index: 1;}#sk-container-id-1 div.sk-parallel {display: flex;align-items: stretch;justify-content: center;background-color: white;position: relative;}#sk-container-id-1 div.sk-item::before, #sk-container-id-1 div.sk-parallel-item::before {content: \"\";position: absolute;border-left: 1px solid gray;box-sizing: border-box;top: 0;bottom: 0;left: 50%;z-index: -1;}#sk-container-id-1 div.sk-parallel-item {display: flex;flex-direction: column;z-index: 1;position: relative;background-color: white;}#sk-container-id-1 div.sk-parallel-item:first-child::after {align-self: flex-end;width: 50%;}#sk-container-id-1 div.sk-parallel-item:last-child::after {align-self: flex-start;width: 50%;}#sk-container-id-1 div.sk-parallel-item:only-child::after {width: 0;}#sk-container-id-1 div.sk-dashed-wrapped {border: 1px dashed gray;margin: 0 0.4em 0.5em 0.4em;box-sizing: border-box;padding-bottom: 0.4em;background-color: white;}#sk-container-id-1 div.sk-label label {font-family: monospace;font-weight: bold;display: inline-block;line-height: 1.2em;}#sk-container-id-1 div.sk-label-container {text-align: center;}#sk-container-id-1 div.sk-container {/* jupyter's `normalize.less` sets `[hidden] { display: none; }` but bootstrap.min.css set `[hidden] { display: none !important; }` so we also need the `!important` here to be able to override the default hidden behavior on the sphinx rendered scikit-learn.org. See: https://github.com/scikit-learn/scikit-learn/issues/21755 */display: inline-block !important;position: relative;}#sk-container-id-1 div.sk-text-repr-fallback {display: none;}</style><div id=\"sk-container-id-1\" class=\"sk-top-container\"><div class=\"sk-text-repr-fallback\"><pre>LogisticRegression()</pre><b>In a Jupyter environment, please rerun this cell to show the HTML representation or trust the notebook. <br />On GitHub, the HTML representation is unable to render, please try loading this page with nbviewer.org.</b></div><div class=\"sk-container\" hidden><div class=\"sk-item\"><div class=\"sk-estimator sk-toggleable\"><input class=\"sk-toggleable__control sk-hidden--visually\" id=\"sk-estimator-id-1\" type=\"checkbox\" checked><label for=\"sk-estimator-id-1\" class=\"sk-toggleable__label sk-toggleable__label-arrow\">LogisticRegression</label><div class=\"sk-toggleable__content\"><pre>LogisticRegression()</pre></div></div></div></div></div>"
      ],
      "text/plain": [
       "LogisticRegression()"
      ]
     },
     "execution_count": 92,
     "metadata": {},
     "output_type": "execute_result"
    }
   ],
   "source": [
    "from sklearn.linear_model import LogisticRegression\n",
    "logit_reg = LogisticRegression()\n",
    "logit_reg.fit(X_train,y_train)"
   ]
  },
  {
   "cell_type": "code",
   "execution_count": 93,
   "id": "8ffd7f34",
   "metadata": {},
   "outputs": [],
   "source": [
    "# prediction\n",
    "pred = logit_reg.predict(X_test)"
   ]
  },
  {
   "cell_type": "code",
   "execution_count": 94,
   "id": "79a578f3",
   "metadata": {},
   "outputs": [],
   "source": [
    "from sklearn.metrics import confusion_matrix,accuracy_score,precision_score,recall_score,f1_score"
   ]
  },
  {
   "cell_type": "code",
   "execution_count": 95,
   "id": "b6ca5253",
   "metadata": {},
   "outputs": [
    {
     "name": "stdout",
     "output_type": "stream",
     "text": [
      "accuracy = 0.7713632466418977\n",
      "precision = 0.7727359561729497\n",
      "recall = 0.7661418386832055\n",
      "f1_score = 0.7676386132959324\n"
     ]
    },
    {
     "data": {
      "text/plain": [
       "array([[1128,  483],\n",
       "       [ 317, 1571]], dtype=int64)"
      ]
     },
     "execution_count": 95,
     "metadata": {},
     "output_type": "execute_result"
    }
   ],
   "source": [
    "print('accuracy =',accuracy_score(y_test,pred))\n",
    "print('precision =',precision_score(y_test,pred,average='macro'))\n",
    "print('recall =',recall_score(y_test,pred,average='macro'))\n",
    "print('f1_score =',f1_score(y_test,pred,average='macro'))\n",
    "\n",
    "confusion_matrix(y_test,pred)"
   ]
  },
  {
   "cell_type": "markdown",
   "id": "3acd297d",
   "metadata": {},
   "source": [
    "Here, in Logistic Regression model ,got an accuracy of 0.77."
   ]
  }
 ],
 "metadata": {
  "kernelspec": {
   "display_name": "Python 3 (ipykernel)",
   "language": "python",
   "name": "python3"
  },
  "language_info": {
   "codemirror_mode": {
    "name": "ipython",
    "version": 3
   },
   "file_extension": ".py",
   "mimetype": "text/x-python",
   "name": "python",
   "nbconvert_exporter": "python",
   "pygments_lexer": "ipython3",
   "version": "3.10.9"
  }
 },
 "nbformat": 4,
 "nbformat_minor": 5
}
