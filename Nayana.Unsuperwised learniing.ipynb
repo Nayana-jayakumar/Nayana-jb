{
 "cells": [
  {
   "cell_type": "code",
   "execution_count": 1,
   "id": "a8db4729",
   "metadata": {},
   "outputs": [],
   "source": [
    "import numpy as np\n",
    "import pandas as pd\n",
    "import seaborn as sns\n",
    "import matplotlib.pyplot as plt"
   ]
  },
  {
   "cell_type": "code",
   "execution_count": 2,
   "id": "788b1bfc",
   "metadata": {},
   "outputs": [],
   "source": [
    "#pip install--upgrade threadpoolctl"
   ]
  },
  {
   "cell_type": "code",
   "execution_count": 3,
   "id": "fd0107a3",
   "metadata": {},
   "outputs": [],
   "source": [
    "data=pd.read_csv(r\"C:\\Users\\jbnay\\Downloads\\Wine_clust .csv\")"
   ]
  },
  {
   "cell_type": "code",
   "execution_count": 4,
   "id": "867fbc58",
   "metadata": {},
   "outputs": [
    {
     "data": {
      "text/html": [
       "<div>\n",
       "<style scoped>\n",
       "    .dataframe tbody tr th:only-of-type {\n",
       "        vertical-align: middle;\n",
       "    }\n",
       "\n",
       "    .dataframe tbody tr th {\n",
       "        vertical-align: top;\n",
       "    }\n",
       "\n",
       "    .dataframe thead th {\n",
       "        text-align: right;\n",
       "    }\n",
       "</style>\n",
       "<table border=\"1\" class=\"dataframe\">\n",
       "  <thead>\n",
       "    <tr style=\"text-align: right;\">\n",
       "      <th></th>\n",
       "      <th>Alcohol</th>\n",
       "      <th>Malic_Acid</th>\n",
       "      <th>Ash</th>\n",
       "      <th>Ash_Alcanity</th>\n",
       "      <th>Magnesium</th>\n",
       "      <th>Total_Phenols</th>\n",
       "      <th>Flavanoids</th>\n",
       "      <th>Nonflavanoid_Phenols</th>\n",
       "      <th>Proanthocyanins</th>\n",
       "      <th>Color_Intensity</th>\n",
       "      <th>Hue</th>\n",
       "      <th>OD280</th>\n",
       "      <th>Proline</th>\n",
       "    </tr>\n",
       "  </thead>\n",
       "  <tbody>\n",
       "    <tr>\n",
       "      <th>0</th>\n",
       "      <td>14.23</td>\n",
       "      <td>1.71</td>\n",
       "      <td>2.43</td>\n",
       "      <td>15.6</td>\n",
       "      <td>127</td>\n",
       "      <td>2.80</td>\n",
       "      <td>3.06</td>\n",
       "      <td>0.28</td>\n",
       "      <td>2.29</td>\n",
       "      <td>5.64</td>\n",
       "      <td>1.04</td>\n",
       "      <td>3.92</td>\n",
       "      <td>1065</td>\n",
       "    </tr>\n",
       "    <tr>\n",
       "      <th>1</th>\n",
       "      <td>13.20</td>\n",
       "      <td>1.78</td>\n",
       "      <td>2.14</td>\n",
       "      <td>11.2</td>\n",
       "      <td>100</td>\n",
       "      <td>2.65</td>\n",
       "      <td>2.76</td>\n",
       "      <td>0.26</td>\n",
       "      <td>1.28</td>\n",
       "      <td>4.38</td>\n",
       "      <td>1.05</td>\n",
       "      <td>3.40</td>\n",
       "      <td>1050</td>\n",
       "    </tr>\n",
       "    <tr>\n",
       "      <th>2</th>\n",
       "      <td>13.16</td>\n",
       "      <td>2.36</td>\n",
       "      <td>2.67</td>\n",
       "      <td>18.6</td>\n",
       "      <td>101</td>\n",
       "      <td>2.80</td>\n",
       "      <td>3.24</td>\n",
       "      <td>0.30</td>\n",
       "      <td>2.81</td>\n",
       "      <td>5.68</td>\n",
       "      <td>1.03</td>\n",
       "      <td>3.17</td>\n",
       "      <td>1185</td>\n",
       "    </tr>\n",
       "    <tr>\n",
       "      <th>3</th>\n",
       "      <td>14.37</td>\n",
       "      <td>1.95</td>\n",
       "      <td>2.50</td>\n",
       "      <td>16.8</td>\n",
       "      <td>113</td>\n",
       "      <td>3.85</td>\n",
       "      <td>3.49</td>\n",
       "      <td>0.24</td>\n",
       "      <td>2.18</td>\n",
       "      <td>7.80</td>\n",
       "      <td>0.86</td>\n",
       "      <td>3.45</td>\n",
       "      <td>1480</td>\n",
       "    </tr>\n",
       "    <tr>\n",
       "      <th>4</th>\n",
       "      <td>13.24</td>\n",
       "      <td>2.59</td>\n",
       "      <td>2.87</td>\n",
       "      <td>21.0</td>\n",
       "      <td>118</td>\n",
       "      <td>2.80</td>\n",
       "      <td>2.69</td>\n",
       "      <td>0.39</td>\n",
       "      <td>1.82</td>\n",
       "      <td>4.32</td>\n",
       "      <td>1.04</td>\n",
       "      <td>2.93</td>\n",
       "      <td>735</td>\n",
       "    </tr>\n",
       "  </tbody>\n",
       "</table>\n",
       "</div>"
      ],
      "text/plain": [
       "   Alcohol  Malic_Acid   Ash  Ash_Alcanity  Magnesium  Total_Phenols  \\\n",
       "0    14.23        1.71  2.43          15.6        127           2.80   \n",
       "1    13.20        1.78  2.14          11.2        100           2.65   \n",
       "2    13.16        2.36  2.67          18.6        101           2.80   \n",
       "3    14.37        1.95  2.50          16.8        113           3.85   \n",
       "4    13.24        2.59  2.87          21.0        118           2.80   \n",
       "\n",
       "   Flavanoids  Nonflavanoid_Phenols  Proanthocyanins  Color_Intensity   Hue  \\\n",
       "0        3.06                  0.28             2.29             5.64  1.04   \n",
       "1        2.76                  0.26             1.28             4.38  1.05   \n",
       "2        3.24                  0.30             2.81             5.68  1.03   \n",
       "3        3.49                  0.24             2.18             7.80  0.86   \n",
       "4        2.69                  0.39             1.82             4.32  1.04   \n",
       "\n",
       "   OD280  Proline  \n",
       "0   3.92     1065  \n",
       "1   3.40     1050  \n",
       "2   3.17     1185  \n",
       "3   3.45     1480  \n",
       "4   2.93      735  "
      ]
     },
     "execution_count": 4,
     "metadata": {},
     "output_type": "execute_result"
    }
   ],
   "source": [
    "data.head()"
   ]
  },
  {
   "cell_type": "code",
   "execution_count": 5,
   "id": "7efe3194",
   "metadata": {},
   "outputs": [],
   "source": [
    "X=data.iloc[:,[0,12]].values"
   ]
  },
  {
   "cell_type": "code",
   "execution_count": 6,
   "id": "63d39b47",
   "metadata": {},
   "outputs": [
    {
     "data": {
      "text/plain": [
       "numpy.ndarray"
      ]
     },
     "execution_count": 6,
     "metadata": {},
     "output_type": "execute_result"
    }
   ],
   "source": [
    "type(X)"
   ]
  },
  {
   "cell_type": "code",
   "execution_count": 7,
   "id": "1002f4bc",
   "metadata": {},
   "outputs": [
    {
     "data": {
      "text/plain": [
       "pandas.core.frame.DataFrame"
      ]
     },
     "execution_count": 7,
     "metadata": {},
     "output_type": "execute_result"
    }
   ],
   "source": [
    "type(data)"
   ]
  },
  {
   "cell_type": "code",
   "execution_count": 8,
   "id": "f098f6c5",
   "metadata": {},
   "outputs": [
    {
     "data": {
      "text/plain": [
       "(178, 13)"
      ]
     },
     "execution_count": 8,
     "metadata": {},
     "output_type": "execute_result"
    }
   ],
   "source": [
    "data.shape"
   ]
  },
  {
   "cell_type": "code",
   "execution_count": 9,
   "id": "8bd955e9",
   "metadata": {},
   "outputs": [
    {
     "data": {
      "text/plain": [
       "Alcohol                 float64\n",
       "Malic_Acid              float64\n",
       "Ash                     float64\n",
       "Ash_Alcanity            float64\n",
       "Magnesium                 int64\n",
       "Total_Phenols           float64\n",
       "Flavanoids              float64\n",
       "Nonflavanoid_Phenols    float64\n",
       "Proanthocyanins         float64\n",
       "Color_Intensity         float64\n",
       "Hue                     float64\n",
       "OD280                   float64\n",
       "Proline                   int64\n",
       "dtype: object"
      ]
     },
     "execution_count": 9,
     "metadata": {},
     "output_type": "execute_result"
    }
   ],
   "source": [
    "data.dtypes"
   ]
  },
  {
   "cell_type": "code",
   "execution_count": 10,
   "id": "ec2ef124",
   "metadata": {},
   "outputs": [
    {
     "data": {
      "text/plain": [
       "Alcohol                 0\n",
       "Malic_Acid              0\n",
       "Ash                     0\n",
       "Ash_Alcanity            0\n",
       "Magnesium               0\n",
       "Total_Phenols           0\n",
       "Flavanoids              0\n",
       "Nonflavanoid_Phenols    0\n",
       "Proanthocyanins         0\n",
       "Color_Intensity         0\n",
       "Hue                     0\n",
       "OD280                   0\n",
       "Proline                 0\n",
       "dtype: int64"
      ]
     },
     "execution_count": 10,
     "metadata": {},
     "output_type": "execute_result"
    }
   ],
   "source": [
    "data.isna().sum()"
   ]
  },
  {
   "cell_type": "markdown",
   "id": "16878423",
   "metadata": {},
   "source": [
    "# Outlier handling"
   ]
  },
  {
   "cell_type": "code",
   "execution_count": 11,
   "id": "11369105",
   "metadata": {},
   "outputs": [
    {
     "data": {
      "text/plain": [
       "Index(['Alcohol', 'Malic_Acid', 'Ash', 'Ash_Alcanity', 'Magnesium',\n",
       "       'Total_Phenols', 'Flavanoids', 'Nonflavanoid_Phenols',\n",
       "       'Proanthocyanins', 'Color_Intensity', 'Hue', 'OD280', 'Proline'],\n",
       "      dtype='object')"
      ]
     },
     "execution_count": 11,
     "metadata": {},
     "output_type": "execute_result"
    }
   ],
   "source": [
    "data.columns"
   ]
  },
  {
   "cell_type": "code",
   "execution_count": 12,
   "id": "afd59ddf",
   "metadata": {},
   "outputs": [
    {
     "data": {
      "image/png": "[encoded data removed]",
      "text/plain": [
       "<Figure size 640x480 with 1 Axes>"
      ]
     },
     "metadata": {},
     "output_type": "display_data"
    },
    {
     "data": {
      "image/png": "[encoded data removed]",
      "text/plain": [
       "<Figure size 640x480 with 1 Axes>"
      ]
     },
     "metadata": {},
     "output_type": "display_data"
    },
    {
     "data": {
      "image/png": "[encoded data removed]",
      "text/plain": [
       "<Figure size 640x480 with 1 Axes>"
      ]
     },
     "metadata": {},
     "output_type": "display_data"
    },
    {
     "data": {
      "image/png": "[encoded data removed]",
      "text/plain": [
       "<Figure size 640x480 with 1 Axes>"
      ]
     },
     "metadata": {},
     "output_type": "display_data"
    },
    {
     "data": {
      "image/png": "[encoded data removed]",
      "text/plain": [
       "<Figure size 640x480 with 1 Axes>"
      ]
     },
     "metadata": {},
     "output_type": "display_data"
    },
    {
     "data": {
      "image/png": "[encoded data removed]",
      "text/plain": [
       "<Figure size 640x480 with 1 Axes>"
      ]
     },
     "metadata": {},
     "output_type": "display_data"
    },
    {
     "data": {
      "image/png": "[encoded data removed]",
      "text/plain": [
       "<Figure size 640x480 with 1 Axes>"
      ]
     },
     "metadata": {},
     "output_type": "display_data"
    },
    {
     "data": {
      "image/png": "[encoded data removed]",
      "text/plain": [
       "<Figure size 640x480 with 1 Axes>"
      ]
     },
     "metadata": {},
     "output_type": "display_data"
    },
    {
     "data": {
      "image/png": "[encoded data removed]",
      "text/plain": [
       "<Figure size 640x480 with 1 Axes>"
      ]
     },
     "metadata": {},
     "output_type": "display_data"
    },
    {
     "data": {
      "image/png": "[encoded data removed]",
      "text/plain": [
       "<Figure size 640x480 with 1 Axes>"
      ]
     },
     "metadata": {},
     "output_type": "display_data"
    },
    {
     "data": {
      "image/png": "[encoded data removed]",
      "text/plain": [
       "<Figure size 640x480 with 1 Axes>"
      ]
     },
     "metadata": {},
     "output_type": "display_data"
    },
    {
     "data": {
      "image/png": "[encoded data removed]",
      "text/plain": [
       "<Figure size 640x480 with 1 Axes>"
      ]
     },
     "metadata": {},
     "output_type": "display_data"
    },
    {
     "data": {
      "image/png": "[encoded data removed]",
      "text/plain": [
       "<Figure size 640x480 with 1 Axes>"
      ]
     },
     "metadata": {},
     "output_type": "display_data"
    }
   ],
   "source": [
    "col = ['Alcohol', 'Malic_Acid', 'Ash', 'Ash_Alcanity', 'Magnesium',\n",
    "       'Total_Phenols', 'Flavanoids', 'Nonflavanoid_Phenols',\n",
    "       'Proanthocyanins', 'Color_Intensity', 'Hue', 'OD280', 'Proline']\n",
    "for i in col:\n",
    "    plt.boxplot(data[i])\n",
    "    plt.title(i)\n",
    "    plt.show()\n"
   ]
  },
  {
   "cell_type": "code",
   "execution_count": 13,
   "id": "292b0ed4",
   "metadata": {},
   "outputs": [
    {
     "name": "stdout",
     "output_type": "stream",
     "text": [
      "Q1=  1.6025\n",
      "Q2=  1.8650000000000002\n",
      "Q3=  3.0825\n",
      "IQR=  1.48\n",
      "Upper limit=  5.3025\n",
      "Lower limit=  -0.6174999999999997\n",
      "Outlier=  [5.8, 5.51, 5.65]\n"
     ]
    }
   ],
   "source": [
    "#outlier handling of 'Malic acid' column\n",
    "Q1_malic = data['Malic_Acid'].quantile(0.25)\n",
    "Q2_malic = data['Malic_Acid'].quantile(0.50)\n",
    "Q3_malic = data['Malic_Acid'].quantile(0.75)\n",
    "\n",
    "print('Q1= ',Q1_malic)\n",
    "print('Q2= ',Q2_malic)\n",
    "print('Q3= ',Q3_malic)\n",
    "\n",
    "IQR_malic = Q3_malic-Q1_malic\n",
    "print('IQR= ',IQR_malic)\n",
    "\n",
    "up_lim_malic = Q3_malic+1.5*IQR_malic\n",
    "low_lim_malic = Q1_malic-1.5*IQR_malic\n",
    "\n",
    "print('Upper limit= ',up_lim_malic)\n",
    "print('Lower limit= ',low_lim_malic)\n",
    "\n",
    "outlier_malic = []\n",
    "for i in data['Malic_Acid']:\n",
    "    if (i>up_lim_malic) or (i<low_lim_malic):\n",
    "        outlier_malic.append(i)\n",
    "\n",
    "print('Outlier= ',outlier_malic)\n"
   ]
  },
  {
   "cell_type": "code",
   "execution_count": 14,
   "id": "ed753828",
   "metadata": {},
   "outputs": [],
   "source": [
    "data['Malic_Acid'] = np.where(data['Malic_Acid']>up_lim_malic,up_lim_malic,\n",
    "                              np.where(data['Malic_Acid']<low_lim_malic,low_lim_malic,data['Malic_Acid']))\n"
   ]
  },
  {
   "cell_type": "code",
   "execution_count": 15,
   "id": "619ec054",
   "metadata": {},
   "outputs": [
    {
     "name": "stdout",
     "output_type": "stream",
     "text": [
      "Q1=  2.21\n",
      "Q2=  2.36\n",
      "Q3=  2.5575\n",
      "IQR=  0.34750000000000014\n",
      "Upper limit=  3.0787500000000003\n",
      "Lower limit=  1.6887499999999998\n",
      "Outlier=  [3.22, 1.36, 3.23]\n"
     ]
    }
   ],
   "source": [
    "#outlier handling of 'Ash' column\n",
    "Q1_Ash = data['Ash'].quantile(0.25)\n",
    "Q2_Ash = data['Ash'].quantile(0.50)\n",
    "Q3_Ash = data['Ash'].quantile(0.75)\n",
    "\n",
    "print('Q1= ',Q1_Ash)\n",
    "print('Q2= ',Q2_Ash)\n",
    "print('Q3= ',Q3_Ash)\n",
    "\n",
    "IQR_Ash = Q3_Ash-Q1_Ash\n",
    "print('IQR= ',IQR_Ash)\n",
    "\n",
    "up_lim_Ash = Q3_Ash+1.5*IQR_Ash\n",
    "low_lim_Ash = Q1_Ash-1.5*IQR_Ash\n",
    "\n",
    "print('Upper limit= ',up_lim_Ash)\n",
    "print('Lower limit= ',low_lim_Ash)\n",
    "\n",
    "outlier_Ash = []\n",
    "for i in data['Ash']:\n",
    "    if (i>up_lim_Ash) or (i<low_lim_Ash):\n",
    "        outlier_Ash.append(i)\n",
    "\n",
    "print('Outlier= ',outlier_Ash)"
   ]
  },
  {
   "cell_type": "code",
   "execution_count": 16,
   "id": "bf640146",
   "metadata": {},
   "outputs": [],
   "source": [
    "data['Ash'] = np.where(data['Ash']>up_lim_Ash,up_lim_Ash,\n",
    "                              np.where(data['Ash']<low_lim_Ash,low_lim_Ash,data['Ash']))\n"
   ]
  },
  {
   "cell_type": "code",
   "execution_count": 17,
   "id": "2454da70",
   "metadata": {},
   "outputs": [
    {
     "name": "stdout",
     "output_type": "stream",
     "text": [
      "Q1=  17.2\n",
      "Q2=  19.5\n",
      "Q3=  21.5\n",
      "IQR=  4.300000000000001\n",
      "Upper limit=  27.950000000000003\n",
      "Lower limit=  10.749999999999998\n",
      "Outlier=  [10.6, 30.0, 28.5, 28.5]\n"
     ]
    }
   ],
   "source": [
    "#outlier handling of 'Ash_Alcanity' column\n",
    "Q1_alc = data['Ash_Alcanity'].quantile(0.25)\n",
    "Q2_alc = data['Ash_Alcanity'].quantile(0.50)\n",
    "Q3_alc = data['Ash_Alcanity'].quantile(0.75)\n",
    "\n",
    "print('Q1= ',Q1_alc)\n",
    "print('Q2= ',Q2_alc)\n",
    "print('Q3= ',Q3_alc)\n",
    "\n",
    "IQR_alc = Q3_alc-Q1_alc\n",
    "print('IQR= ',IQR_alc)\n",
    "\n",
    "up_lim_alc = Q3_alc+1.5*IQR_alc\n",
    "low_lim_alc = Q1_alc-1.5*IQR_alc\n",
    "\n",
    "print('Upper limit= ',up_lim_alc)\n",
    "print('Lower limit= ',low_lim_alc)\n",
    "\n",
    "outlier_alc= []\n",
    "for i in data['Ash_Alcanity']:\n",
    "    if (i>up_lim_alc) or (i<low_lim_alc):\n",
    "        outlier_alc.append(i)\n",
    "\n",
    "print('Outlier= ',outlier_alc)"
   ]
  },
  {
   "cell_type": "code",
   "execution_count": 18,
   "id": "91664a31",
   "metadata": {},
   "outputs": [],
   "source": [
    "data['Ash_Alcanity'] = np.where(data['Ash_Alcanity']>up_lim_alc,up_lim_alc,\n",
    "                              np.where(data['Ash_Alcanity']<low_lim_alc,low_lim_alc,data['Ash_Alcanity']))\n"
   ]
  },
  {
   "cell_type": "code",
   "execution_count": 19,
   "id": "0debb0bb",
   "metadata": {},
   "outputs": [
    {
     "name": "stdout",
     "output_type": "stream",
     "text": [
      "Q1=  88.0\n",
      "Q2=  98.0\n",
      "Q3=  107.0\n",
      "IQR=  19.0\n",
      "Upper limit=  135.5\n",
      "Lower limit=  59.5\n",
      "Outlier=  [151, 139, 136, 162]\n"
     ]
    }
   ],
   "source": [
    "#outlier handling of 'Magnesium' column\n",
    "Q1_Mag = data['Magnesium'].quantile(0.25)\n",
    "Q2_Mag = data['Magnesium'].quantile(0.50)\n",
    "Q3_Mag = data['Magnesium'].quantile(0.75)\n",
    "\n",
    "print('Q1= ',Q1_Mag)\n",
    "print('Q2= ',Q2_Mag)\n",
    "print('Q3= ',Q3_Mag)\n",
    "\n",
    "IQR_Mag = Q3_Mag-Q1_Mag\n",
    "print('IQR= ',IQR_Mag)\n",
    "\n",
    "up_lim_Mag = Q3_Mag+1.5*IQR_Mag\n",
    "low_lim_Mag = Q1_Mag-1.5*IQR_Mag\n",
    "\n",
    "print('Upper limit= ',up_lim_Mag)\n",
    "print('Lower limit= ',low_lim_Mag)\n",
    "\n",
    "outlier_Mag= []\n",
    "for i in data['Magnesium']:\n",
    "    if (i>up_lim_Mag) or (i<low_lim_Mag):\n",
    "        outlier_Mag.append(i)\n",
    "\n",
    "print('Outlier= ',outlier_Mag)"
   ]
  },
  {
   "cell_type": "code",
   "execution_count": 20,
   "id": "c90f9b1c",
   "metadata": {},
   "outputs": [],
   "source": [
    "data['Magnesium'] = np.where(data['Magnesium']>up_lim_Mag,up_lim_Mag,\n",
    "                              np.where(data['Magnesium']<low_lim_Mag,low_lim_Mag,data['Magnesium']))"
   ]
  },
  {
   "cell_type": "code",
   "execution_count": 21,
   "id": "7a844a06",
   "metadata": {},
   "outputs": [
    {
     "name": "stdout",
     "output_type": "stream",
     "text": [
      "Q1=  1.25\n",
      "Q2=  1.5550000000000002\n",
      "Q3=  1.95\n",
      "IQR=  0.7\n",
      "Upper limit=  3.0\n",
      "Lower limit=  0.20000000000000018\n",
      "Outlier=  [3.28, 3.58]\n"
     ]
    }
   ],
   "source": [
    "#outlier handling of 'Proanthocyanins' column\n",
    "Q1_pro = data['Proanthocyanins'].quantile(0.25)\n",
    "Q2_pro = data['Proanthocyanins'].quantile(0.50)\n",
    "Q3_pro = data['Proanthocyanins'].quantile(0.75)\n",
    "\n",
    "print('Q1= ',Q1_pro)\n",
    "print('Q2= ',Q2_pro)\n",
    "print('Q3= ',Q3_pro)\n",
    "\n",
    "IQR_pro = Q3_pro-Q1_pro\n",
    "print('IQR= ',IQR_pro)\n",
    "\n",
    "up_lim_pro = Q3_pro+1.5*IQR_pro\n",
    "low_lim_pro = Q1_pro-1.5*IQR_pro\n",
    "\n",
    "print('Upper limit= ',up_lim_pro)\n",
    "print('Lower limit= ',low_lim_pro)\n",
    "\n",
    "outlier_pro= []\n",
    "for i in data['Proanthocyanins']:\n",
    "    if (i>up_lim_pro) or (i<low_lim_pro):\n",
    "        outlier_pro.append(i)\n",
    "\n",
    "print('Outlier= ',outlier_pro)"
   ]
  },
  {
   "cell_type": "code",
   "execution_count": 22,
   "id": "ff463e5e",
   "metadata": {},
   "outputs": [],
   "source": [
    "data['Proanthocyanins'] = np.where(data['Proanthocyanins']>up_lim_pro,up_lim_pro,\n",
    "                              np.where(data['Proanthocyanins']<low_lim_pro,low_lim_pro,data['Proanthocyanins']))"
   ]
  },
  {
   "cell_type": "code",
   "execution_count": 23,
   "id": "607c9e16",
   "metadata": {},
   "outputs": [
    {
     "name": "stdout",
     "output_type": "stream",
     "text": [
      "Q1=  3.2199999999999998\n",
      "Q2=  4.6899999999999995\n",
      "Q3=  6.2\n",
      "IQR=  2.9800000000000004\n",
      "Upper limit=  10.670000000000002\n",
      "Lower limit=  -1.2500000000000009\n",
      "Outlier=  [10.8, 13.0, 11.75, 10.68]\n"
     ]
    }
   ],
   "source": [
    "#outlier handling of 'Color_Intensity' column\n",
    "Q1_color = data['Color_Intensity'].quantile(0.25)\n",
    "Q2_color = data['Color_Intensity'].quantile(0.50)\n",
    "Q3_color = data['Color_Intensity'].quantile(0.75)\n",
    "\n",
    "print('Q1= ',Q1_color)\n",
    "print('Q2= ',Q2_color)\n",
    "print('Q3= ',Q3_color)\n",
    "\n",
    "IQR_color = Q3_color-Q1_color\n",
    "print('IQR= ',IQR_color)\n",
    "\n",
    "up_lim_color = Q3_color+1.5*IQR_color\n",
    "low_lim_color = Q1_color-1.5*IQR_color\n",
    "\n",
    "print('Upper limit= ',up_lim_color)\n",
    "print('Lower limit= ',low_lim_color)\n",
    "\n",
    "outlier_color= []\n",
    "for i in data['Color_Intensity']:\n",
    "    if (i>up_lim_color) or (i<low_lim_color):\n",
    "        outlier_color.append(i)\n",
    "\n",
    "print('Outlier= ',outlier_color)"
   ]
  },
  {
   "cell_type": "code",
   "execution_count": 24,
   "id": "8d1e6871",
   "metadata": {},
   "outputs": [],
   "source": [
    "data['Color_Intensity'] = np.where(data['Color_Intensity']>up_lim_color,up_lim_color,\n",
    "                              np.where(data['Color_Intensity']<low_lim_color,low_lim_color,data['Color_Intensity']))\n"
   ]
  },
  {
   "cell_type": "code",
   "execution_count": 25,
   "id": "82d59428",
   "metadata": {},
   "outputs": [
    {
     "name": "stdout",
     "output_type": "stream",
     "text": [
      "Q1=  0.7825\n",
      "Q2=  0.965\n",
      "Q3=  1.12\n",
      "IQR=  0.33750000000000013\n",
      "Upper limit=  1.6262500000000002\n",
      "Lower limit=  0.2762499999999998\n",
      "Outlier=  [1.71]\n"
     ]
    }
   ],
   "source": [
    "#outlier handling of 'Hue' column\n",
    "Q1_Hue = data['Hue'].quantile(0.25)\n",
    "Q2_Hue = data['Hue'].quantile(0.50)\n",
    "Q3_Hue = data['Hue'].quantile(0.75)\n",
    "\n",
    "print('Q1= ',Q1_Hue)\n",
    "print('Q2= ',Q2_Hue)\n",
    "print('Q3= ',Q3_Hue)\n",
    "\n",
    "IQR_Hue = Q3_Hue-Q1_Hue\n",
    "print('IQR= ',IQR_Hue)\n",
    "\n",
    "up_lim_Hue = Q3_Hue+1.5*IQR_Hue\n",
    "low_lim_Hue = Q1_Hue-1.5*IQR_Hue\n",
    "\n",
    "print('Upper limit= ',up_lim_Hue)\n",
    "print('Lower limit= ',low_lim_Hue)\n",
    "\n",
    "outlier_Hue= []\n",
    "for i in data['Hue']:\n",
    "    if (i>up_lim_Hue) or (i<low_lim_Hue):\n",
    "        outlier_Hue.append(i)\n",
    "\n",
    "print('Outlier= ',outlier_Hue)"
   ]
  },
  {
   "cell_type": "code",
   "execution_count": 26,
   "id": "555a5bdf",
   "metadata": {},
   "outputs": [],
   "source": [
    "data['Hue'] = np.where(data['Hue']>up_lim_Hue,up_lim_Hue,\n",
    "                              np.where(data['Hue']<low_lim_Hue,low_lim_Hue,data['Hue']))"
   ]
  },
  {
   "cell_type": "code",
   "execution_count": 27,
   "id": "e8088a18",
   "metadata": {},
   "outputs": [
    {
     "data": {
      "text/html": [
       "<div>\n",
       "<style scoped>\n",
       "    .dataframe tbody tr th:only-of-type {\n",
       "        vertical-align: middle;\n",
       "    }\n",
       "\n",
       "    .dataframe tbody tr th {\n",
       "        vertical-align: top;\n",
       "    }\n",
       "\n",
       "    .dataframe thead th {\n",
       "        text-align: right;\n",
       "    }\n",
       "</style>\n",
       "<table border=\"1\" class=\"dataframe\">\n",
       "  <thead>\n",
       "    <tr style=\"text-align: right;\">\n",
       "      <th></th>\n",
       "      <th>Alcohol</th>\n",
       "      <th>Malic_Acid</th>\n",
       "      <th>Ash</th>\n",
       "      <th>Ash_Alcanity</th>\n",
       "      <th>Magnesium</th>\n",
       "      <th>Total_Phenols</th>\n",
       "      <th>Flavanoids</th>\n",
       "      <th>Nonflavanoid_Phenols</th>\n",
       "      <th>Proanthocyanins</th>\n",
       "      <th>Color_Intensity</th>\n",
       "      <th>Hue</th>\n",
       "      <th>OD280</th>\n",
       "      <th>Proline</th>\n",
       "    </tr>\n",
       "  </thead>\n",
       "  <tbody>\n",
       "    <tr>\n",
       "      <th>count</th>\n",
       "      <td>178.000000</td>\n",
       "      <td>178.000000</td>\n",
       "      <td>178.000000</td>\n",
       "      <td>178.000000</td>\n",
       "      <td>178.000000</td>\n",
       "      <td>178.000000</td>\n",
       "      <td>178.000000</td>\n",
       "      <td>178.000000</td>\n",
       "      <td>178.000000</td>\n",
       "      <td>178.000000</td>\n",
       "      <td>178.000000</td>\n",
       "      <td>178.000000</td>\n",
       "      <td>178.000000</td>\n",
       "    </tr>\n",
       "    <tr>\n",
       "      <th>mean</th>\n",
       "      <td>13.000618</td>\n",
       "      <td>2.330435</td>\n",
       "      <td>2.366721</td>\n",
       "      <td>19.478090</td>\n",
       "      <td>99.483146</td>\n",
       "      <td>2.295112</td>\n",
       "      <td>2.029270</td>\n",
       "      <td>0.361854</td>\n",
       "      <td>1.586067</td>\n",
       "      <td>5.038146</td>\n",
       "      <td>0.956979</td>\n",
       "      <td>2.611685</td>\n",
       "      <td>746.893258</td>\n",
       "    </tr>\n",
       "    <tr>\n",
       "      <th>std</th>\n",
       "      <td>0.811827</td>\n",
       "      <td>1.100173</td>\n",
       "      <td>0.263705</td>\n",
       "      <td>3.287757</td>\n",
       "      <td>13.414186</td>\n",
       "      <td>0.625851</td>\n",
       "      <td>0.998859</td>\n",
       "      <td>0.124453</td>\n",
       "      <td>0.558153</td>\n",
       "      <td>2.260881</td>\n",
       "      <td>0.227095</td>\n",
       "      <td>0.709990</td>\n",
       "      <td>314.907474</td>\n",
       "    </tr>\n",
       "    <tr>\n",
       "      <th>min</th>\n",
       "      <td>11.030000</td>\n",
       "      <td>0.740000</td>\n",
       "      <td>1.688750</td>\n",
       "      <td>10.750000</td>\n",
       "      <td>70.000000</td>\n",
       "      <td>0.980000</td>\n",
       "      <td>0.340000</td>\n",
       "      <td>0.130000</td>\n",
       "      <td>0.410000</td>\n",
       "      <td>1.280000</td>\n",
       "      <td>0.480000</td>\n",
       "      <td>1.270000</td>\n",
       "      <td>278.000000</td>\n",
       "    </tr>\n",
       "    <tr>\n",
       "      <th>25%</th>\n",
       "      <td>12.362500</td>\n",
       "      <td>1.602500</td>\n",
       "      <td>2.210000</td>\n",
       "      <td>17.200000</td>\n",
       "      <td>88.000000</td>\n",
       "      <td>1.742500</td>\n",
       "      <td>1.205000</td>\n",
       "      <td>0.270000</td>\n",
       "      <td>1.250000</td>\n",
       "      <td>3.220000</td>\n",
       "      <td>0.782500</td>\n",
       "      <td>1.937500</td>\n",
       "      <td>500.500000</td>\n",
       "    </tr>\n",
       "    <tr>\n",
       "      <th>50%</th>\n",
       "      <td>13.050000</td>\n",
       "      <td>1.865000</td>\n",
       "      <td>2.360000</td>\n",
       "      <td>19.500000</td>\n",
       "      <td>98.000000</td>\n",
       "      <td>2.355000</td>\n",
       "      <td>2.135000</td>\n",
       "      <td>0.340000</td>\n",
       "      <td>1.555000</td>\n",
       "      <td>4.690000</td>\n",
       "      <td>0.965000</td>\n",
       "      <td>2.780000</td>\n",
       "      <td>673.500000</td>\n",
       "    </tr>\n",
       "    <tr>\n",
       "      <th>75%</th>\n",
       "      <td>13.677500</td>\n",
       "      <td>3.082500</td>\n",
       "      <td>2.557500</td>\n",
       "      <td>21.500000</td>\n",
       "      <td>107.000000</td>\n",
       "      <td>2.800000</td>\n",
       "      <td>2.875000</td>\n",
       "      <td>0.437500</td>\n",
       "      <td>1.950000</td>\n",
       "      <td>6.200000</td>\n",
       "      <td>1.120000</td>\n",
       "      <td>3.170000</td>\n",
       "      <td>985.000000</td>\n",
       "    </tr>\n",
       "    <tr>\n",
       "      <th>max</th>\n",
       "      <td>14.830000</td>\n",
       "      <td>5.302500</td>\n",
       "      <td>3.078750</td>\n",
       "      <td>27.950000</td>\n",
       "      <td>135.500000</td>\n",
       "      <td>3.880000</td>\n",
       "      <td>5.080000</td>\n",
       "      <td>0.660000</td>\n",
       "      <td>3.000000</td>\n",
       "      <td>10.670000</td>\n",
       "      <td>1.626250</td>\n",
       "      <td>4.000000</td>\n",
       "      <td>1680.000000</td>\n",
       "    </tr>\n",
       "  </tbody>\n",
       "</table>\n",
       "</div>"
      ],
      "text/plain": [
       "          Alcohol  Malic_Acid         Ash  Ash_Alcanity   Magnesium  \\\n",
       "count  178.000000  178.000000  178.000000    178.000000  178.000000   \n",
       "mean    13.000618    2.330435    2.366721     19.478090   99.483146   \n",
       "std      0.811827    1.100173    0.263705      3.287757   13.414186   \n",
       "min     11.030000    0.740000    1.688750     10.750000   70.000000   \n",
       "25%     12.362500    1.602500    2.210000     17.200000   88.000000   \n",
       "50%     13.050000    1.865000    2.360000     19.500000   98.000000   \n",
       "75%     13.677500    3.082500    2.557500     21.500000  107.000000   \n",
       "max     14.830000    5.302500    3.078750     27.950000  135.500000   \n",
       "\n",
       "       Total_Phenols  Flavanoids  Nonflavanoid_Phenols  Proanthocyanins  \\\n",
       "count     178.000000  178.000000            178.000000       178.000000   \n",
       "mean        2.295112    2.029270              0.361854         1.586067   \n",
       "std         0.625851    0.998859              0.124453         0.558153   \n",
       "min         0.980000    0.340000              0.130000         0.410000   \n",
       "25%         1.742500    1.205000              0.270000         1.250000   \n",
       "50%         2.355000    2.135000              0.340000         1.555000   \n",
       "75%         2.800000    2.875000              0.437500         1.950000   \n",
       "max         3.880000    5.080000              0.660000         3.000000   \n",
       "\n",
       "       Color_Intensity         Hue       OD280      Proline  \n",
       "count       178.000000  178.000000  178.000000   178.000000  \n",
       "mean          5.038146    0.956979    2.611685   746.893258  \n",
       "std           2.260881    0.227095    0.709990   314.907474  \n",
       "min           1.280000    0.480000    1.270000   278.000000  \n",
       "25%           3.220000    0.782500    1.937500   500.500000  \n",
       "50%           4.690000    0.965000    2.780000   673.500000  \n",
       "75%           6.200000    1.120000    3.170000   985.000000  \n",
       "max          10.670000    1.626250    4.000000  1680.000000  "
      ]
     },
     "execution_count": 27,
     "metadata": {},
     "output_type": "execute_result"
    }
   ],
   "source": [
    "data.describe()"
   ]
  },
  {
   "cell_type": "code",
   "execution_count": 28,
   "id": "75f2e491",
   "metadata": {},
   "outputs": [
    {
     "data": {
      "text/html": [
       "<div>\n",
       "<style scoped>\n",
       "    .dataframe tbody tr th:only-of-type {\n",
       "        vertical-align: middle;\n",
       "    }\n",
       "\n",
       "    .dataframe tbody tr th {\n",
       "        vertical-align: top;\n",
       "    }\n",
       "\n",
       "    .dataframe thead th {\n",
       "        text-align: right;\n",
       "    }\n",
       "</style>\n",
       "<table border=\"1\" class=\"dataframe\">\n",
       "  <thead>\n",
       "    <tr style=\"text-align: right;\">\n",
       "      <th></th>\n",
       "      <th>Alcohol</th>\n",
       "      <th>Malic_Acid</th>\n",
       "      <th>Ash</th>\n",
       "      <th>Ash_Alcanity</th>\n",
       "      <th>Magnesium</th>\n",
       "      <th>Total_Phenols</th>\n",
       "      <th>Flavanoids</th>\n",
       "      <th>Nonflavanoid_Phenols</th>\n",
       "      <th>Proanthocyanins</th>\n",
       "      <th>Color_Intensity</th>\n",
       "      <th>Hue</th>\n",
       "      <th>OD280</th>\n",
       "      <th>Proline</th>\n",
       "    </tr>\n",
       "  </thead>\n",
       "  <tbody>\n",
       "    <tr>\n",
       "      <th>count</th>\n",
       "      <td>1.780000e+02</td>\n",
       "      <td>1.780000e+02</td>\n",
       "      <td>1.780000e+02</td>\n",
       "      <td>1.780000e+02</td>\n",
       "      <td>1.780000e+02</td>\n",
       "      <td>178.000000</td>\n",
       "      <td>1.780000e+02</td>\n",
       "      <td>1.780000e+02</td>\n",
       "      <td>1.780000e+02</td>\n",
       "      <td>1.780000e+02</td>\n",
       "      <td>1.780000e+02</td>\n",
       "      <td>1.780000e+02</td>\n",
       "      <td>1.780000e+02</td>\n",
       "    </tr>\n",
       "    <tr>\n",
       "      <th>mean</th>\n",
       "      <td>-8.382808e-16</td>\n",
       "      <td>2.395088e-16</td>\n",
       "      <td>-4.478315e-16</td>\n",
       "      <td>-3.592632e-16</td>\n",
       "      <td>-7.983626e-17</td>\n",
       "      <td>0.000000</td>\n",
       "      <td>-3.991813e-16</td>\n",
       "      <td>3.592632e-16</td>\n",
       "      <td>2.395088e-16</td>\n",
       "      <td>-4.989766e-17</td>\n",
       "      <td>-7.983626e-17</td>\n",
       "      <td>3.193450e-16</td>\n",
       "      <td>-1.596725e-16</td>\n",
       "    </tr>\n",
       "    <tr>\n",
       "      <th>std</th>\n",
       "      <td>1.002821e+00</td>\n",
       "      <td>1.002821e+00</td>\n",
       "      <td>1.002821e+00</td>\n",
       "      <td>1.002821e+00</td>\n",
       "      <td>1.002821e+00</td>\n",
       "      <td>1.002821</td>\n",
       "      <td>1.002821e+00</td>\n",
       "      <td>1.002821e+00</td>\n",
       "      <td>1.002821e+00</td>\n",
       "      <td>1.002821e+00</td>\n",
       "      <td>1.002821e+00</td>\n",
       "      <td>1.002821e+00</td>\n",
       "      <td>1.002821e+00</td>\n",
       "    </tr>\n",
       "    <tr>\n",
       "      <th>min</th>\n",
       "      <td>-2.434235e+00</td>\n",
       "      <td>-1.449701e+00</td>\n",
       "      <td>-2.578195e+00</td>\n",
       "      <td>-2.662213e+00</td>\n",
       "      <td>-2.204108e+00</td>\n",
       "      <td>-2.107246</td>\n",
       "      <td>-1.695971e+00</td>\n",
       "      <td>-1.868234e+00</td>\n",
       "      <td>-2.113014e+00</td>\n",
       "      <td>-1.666938e+00</td>\n",
       "      <td>-2.106273e+00</td>\n",
       "      <td>-1.895054e+00</td>\n",
       "      <td>-1.493188e+00</td>\n",
       "    </tr>\n",
       "    <tr>\n",
       "      <th>25%</th>\n",
       "      <td>-7.882448e-01</td>\n",
       "      <td>-6.635217e-01</td>\n",
       "      <td>-5.959788e-01</td>\n",
       "      <td>-6.948555e-01</td>\n",
       "      <td>-8.584597e-01</td>\n",
       "      <td>-0.885468</td>\n",
       "      <td>-8.275393e-01</td>\n",
       "      <td>-7.401412e-01</td>\n",
       "      <td>-6.038048e-01</td>\n",
       "      <td>-8.064445e-01</td>\n",
       "      <td>-7.704749e-01</td>\n",
       "      <td>-9.522483e-01</td>\n",
       "      <td>-7.846378e-01</td>\n",
       "    </tr>\n",
       "    <tr>\n",
       "      <th>50%</th>\n",
       "      <td>6.099988e-02</td>\n",
       "      <td>-4.242499e-01</td>\n",
       "      <td>-2.555683e-02</td>\n",
       "      <td>6.682950e-03</td>\n",
       "      <td>-1.108774e-01</td>\n",
       "      <td>0.095960</td>\n",
       "      <td>1.061497e-01</td>\n",
       "      <td>-1.760948e-01</td>\n",
       "      <td>-5.581813e-02</td>\n",
       "      <td>-1.544213e-01</td>\n",
       "      <td>3.541993e-02</td>\n",
       "      <td>2.377348e-01</td>\n",
       "      <td>-2.337204e-01</td>\n",
       "    </tr>\n",
       "    <tr>\n",
       "      <th>75%</th>\n",
       "      <td>8.361286e-01</td>\n",
       "      <td>6.855158e-01</td>\n",
       "      <td>7.254987e-01</td>\n",
       "      <td>6.167164e-01</td>\n",
       "      <td>5.619467e-01</td>\n",
       "      <td>0.808997</td>\n",
       "      <td>8.490851e-01</td>\n",
       "      <td>6.095413e-01</td>\n",
       "      <td>6.538695e-01</td>\n",
       "      <td>5.153441e-01</td>\n",
       "      <td>7.198786e-01</td>\n",
       "      <td>7.885875e-01</td>\n",
       "      <td>7.582494e-01</td>\n",
       "    </tr>\n",
       "    <tr>\n",
       "      <th>max</th>\n",
       "      <td>2.259772e+00</td>\n",
       "      <td>2.709072e+00</td>\n",
       "      <td>2.707715e+00</td>\n",
       "      <td>2.584074e+00</td>\n",
       "      <td>2.692556e+00</td>\n",
       "      <td>2.539515</td>\n",
       "      <td>3.062832e+00</td>\n",
       "      <td>2.402403e+00</td>\n",
       "      <td>2.540381e+00</td>\n",
       "      <td>2.498027e+00</td>\n",
       "      <td>2.955409e+00</td>\n",
       "      <td>1.960915e+00</td>\n",
       "      <td>2.971473e+00</td>\n",
       "    </tr>\n",
       "  </tbody>\n",
       "</table>\n",
       "</div>"
      ],
      "text/plain": [
       "            Alcohol    Malic_Acid           Ash  Ash_Alcanity     Magnesium  \\\n",
       "count  1.780000e+02  1.780000e+02  1.780000e+02  1.780000e+02  1.780000e+02   \n",
       "mean  -8.382808e-16  2.395088e-16 -4.478315e-16 -3.592632e-16 -7.983626e-17   \n",
       "std    1.002821e+00  1.002821e+00  1.002821e+00  1.002821e+00  1.002821e+00   \n",
       "min   -2.434235e+00 -1.449701e+00 -2.578195e+00 -2.662213e+00 -2.204108e+00   \n",
       "25%   -7.882448e-01 -6.635217e-01 -5.959788e-01 -6.948555e-01 -8.584597e-01   \n",
       "50%    6.099988e-02 -4.242499e-01 -2.555683e-02  6.682950e-03 -1.108774e-01   \n",
       "75%    8.361286e-01  6.855158e-01  7.254987e-01  6.167164e-01  5.619467e-01   \n",
       "max    2.259772e+00  2.709072e+00  2.707715e+00  2.584074e+00  2.692556e+00   \n",
       "\n",
       "       Total_Phenols    Flavanoids  Nonflavanoid_Phenols  Proanthocyanins  \\\n",
       "count     178.000000  1.780000e+02          1.780000e+02     1.780000e+02   \n",
       "mean        0.000000 -3.991813e-16          3.592632e-16     2.395088e-16   \n",
       "std         1.002821  1.002821e+00          1.002821e+00     1.002821e+00   \n",
       "min        -2.107246 -1.695971e+00         -1.868234e+00    -2.113014e+00   \n",
       "25%        -0.885468 -8.275393e-01         -7.401412e-01    -6.038048e-01   \n",
       "50%         0.095960  1.061497e-01         -1.760948e-01    -5.581813e-02   \n",
       "75%         0.808997  8.490851e-01          6.095413e-01     6.538695e-01   \n",
       "max         2.539515  3.062832e+00          2.402403e+00     2.540381e+00   \n",
       "\n",
       "       Color_Intensity           Hue         OD280       Proline  \n",
       "count     1.780000e+02  1.780000e+02  1.780000e+02  1.780000e+02  \n",
       "mean     -4.989766e-17 -7.983626e-17  3.193450e-16 -1.596725e-16  \n",
       "std       1.002821e+00  1.002821e+00  1.002821e+00  1.002821e+00  \n",
       "min      -1.666938e+00 -2.106273e+00 -1.895054e+00 -1.493188e+00  \n",
       "25%      -8.064445e-01 -7.704749e-01 -9.522483e-01 -7.846378e-01  \n",
       "50%      -1.544213e-01  3.541993e-02  2.377348e-01 -2.337204e-01  \n",
       "75%       5.153441e-01  7.198786e-01  7.885875e-01  7.582494e-01  \n",
       "max       2.498027e+00  2.955409e+00  1.960915e+00  2.971473e+00  "
      ]
     },
     "execution_count": 28,
     "metadata": {},
     "output_type": "execute_result"
    }
   ],
   "source": [
    "from sklearn.preprocessing import StandardScaler\n",
    "scl= StandardScaler()\n",
    "scaled_data=scl.fit_transform(data)\n",
    "scaled_data=pd.DataFrame(scaled_data,columns=data.columns)\n",
    "scaled_data.describe()"
   ]
  },
  {
   "cell_type": "code",
   "execution_count": null,
   "id": "c72f975d",
   "metadata": {},
   "outputs": [],
   "source": []
  },
  {
   "cell_type": "markdown",
   "id": "b0fafc11",
   "metadata": {},
   "source": [
    "# KMeans clustering"
   ]
  },
  {
   "cell_type": "code",
   "execution_count": 29,
   "id": "08e4ed6c",
   "metadata": {},
   "outputs": [
    {
     "name": "stderr",
     "output_type": "stream",
     "text": [
      "C:\\Users\\jbnay\\Downloads\\New folder\\lib\\site-packages\\sklearn\\cluster\\_kmeans.py:870: FutureWarning: The default value of `n_init` will change from 10 to 'auto' in 1.4. Set the value of `n_init` explicitly to suppress the warning\n",
      "  warnings.warn(\n",
      "C:\\Users\\jbnay\\Downloads\\New folder\\lib\\site-packages\\sklearn\\cluster\\_kmeans.py:1382: UserWarning: KMeans is known to have a memory leak on Windows with MKL, when there are less chunks than available threads. You can avoid it by setting the environment variable OMP_NUM_THREADS=1.\n",
      "  warnings.warn(\n",
      "C:\\Users\\jbnay\\Downloads\\New folder\\lib\\site-packages\\sklearn\\cluster\\_kmeans.py:870: FutureWarning: The default value of `n_init` will change from 10 to 'auto' in 1.4. Set the value of `n_init` explicitly to suppress the warning\n",
      "  warnings.warn(\n",
      "C:\\Users\\jbnay\\Downloads\\New folder\\lib\\site-packages\\sklearn\\cluster\\_kmeans.py:1382: UserWarning: KMeans is known to have a memory leak on Windows with MKL, when there are less chunks than available threads. You can avoid it by setting the environment variable OMP_NUM_THREADS=1.\n",
      "  warnings.warn(\n",
      "C:\\Users\\jbnay\\Downloads\\New folder\\lib\\site-packages\\sklearn\\cluster\\_kmeans.py:870: FutureWarning: The default value of `n_init` will change from 10 to 'auto' in 1.4. Set the value of `n_init` explicitly to suppress the warning\n",
      "  warnings.warn(\n",
      "C:\\Users\\jbnay\\Downloads\\New folder\\lib\\site-packages\\sklearn\\cluster\\_kmeans.py:1382: UserWarning: KMeans is known to have a memory leak on Windows with MKL, when there are less chunks than available threads. You can avoid it by setting the environment variable OMP_NUM_THREADS=1.\n",
      "  warnings.warn(\n",
      "C:\\Users\\jbnay\\Downloads\\New folder\\lib\\site-packages\\sklearn\\cluster\\_kmeans.py:870: FutureWarning: The default value of `n_init` will change from 10 to 'auto' in 1.4. Set the value of `n_init` explicitly to suppress the warning\n",
      "  warnings.warn(\n",
      "C:\\Users\\jbnay\\Downloads\\New folder\\lib\\site-packages\\sklearn\\cluster\\_kmeans.py:1382: UserWarning: KMeans is known to have a memory leak on Windows with MKL, when there are less chunks than available threads. You can avoid it by setting the environment variable OMP_NUM_THREADS=1.\n",
      "  warnings.warn(\n",
      "C:\\Users\\jbnay\\Downloads\\New folder\\lib\\site-packages\\sklearn\\cluster\\_kmeans.py:870: FutureWarning: The default value of `n_init` will change from 10 to 'auto' in 1.4. Set the value of `n_init` explicitly to suppress the warning\n",
      "  warnings.warn(\n",
      "C:\\Users\\jbnay\\Downloads\\New folder\\lib\\site-packages\\sklearn\\cluster\\_kmeans.py:1382: UserWarning: KMeans is known to have a memory leak on Windows with MKL, when there are less chunks than available threads. You can avoid it by setting the environment variable OMP_NUM_THREADS=1.\n",
      "  warnings.warn(\n",
      "C:\\Users\\jbnay\\Downloads\\New folder\\lib\\site-packages\\sklearn\\cluster\\_kmeans.py:870: FutureWarning: The default value of `n_init` will change from 10 to 'auto' in 1.4. Set the value of `n_init` explicitly to suppress the warning\n",
      "  warnings.warn(\n",
      "C:\\Users\\jbnay\\Downloads\\New folder\\lib\\site-packages\\sklearn\\cluster\\_kmeans.py:1382: UserWarning: KMeans is known to have a memory leak on Windows with MKL, when there are less chunks than available threads. You can avoid it by setting the environment variable OMP_NUM_THREADS=1.\n",
      "  warnings.warn(\n",
      "C:\\Users\\jbnay\\Downloads\\New folder\\lib\\site-packages\\sklearn\\cluster\\_kmeans.py:870: FutureWarning: The default value of `n_init` will change from 10 to 'auto' in 1.4. Set the value of `n_init` explicitly to suppress the warning\n",
      "  warnings.warn(\n",
      "C:\\Users\\jbnay\\Downloads\\New folder\\lib\\site-packages\\sklearn\\cluster\\_kmeans.py:1382: UserWarning: KMeans is known to have a memory leak on Windows with MKL, when there are less chunks than available threads. You can avoid it by setting the environment variable OMP_NUM_THREADS=1.\n",
      "  warnings.warn(\n",
      "C:\\Users\\jbnay\\Downloads\\New folder\\lib\\site-packages\\sklearn\\cluster\\_kmeans.py:870: FutureWarning: The default value of `n_init` will change from 10 to 'auto' in 1.4. Set the value of `n_init` explicitly to suppress the warning\n",
      "  warnings.warn(\n",
      "C:\\Users\\jbnay\\Downloads\\New folder\\lib\\site-packages\\sklearn\\cluster\\_kmeans.py:1382: UserWarning: KMeans is known to have a memory leak on Windows with MKL, when there are less chunks than available threads. You can avoid it by setting the environment variable OMP_NUM_THREADS=1.\n",
      "  warnings.warn(\n",
      "C:\\Users\\jbnay\\Downloads\\New folder\\lib\\site-packages\\sklearn\\cluster\\_kmeans.py:870: FutureWarning: The default value of `n_init` will change from 10 to 'auto' in 1.4. Set the value of `n_init` explicitly to suppress the warning\n",
      "  warnings.warn(\n",
      "C:\\Users\\jbnay\\Downloads\\New folder\\lib\\site-packages\\sklearn\\cluster\\_kmeans.py:1382: UserWarning: KMeans is known to have a memory leak on Windows with MKL, when there are less chunks than available threads. You can avoid it by setting the environment variable OMP_NUM_THREADS=1.\n",
      "  warnings.warn(\n",
      "C:\\Users\\jbnay\\Downloads\\New folder\\lib\\site-packages\\sklearn\\cluster\\_kmeans.py:870: FutureWarning: The default value of `n_init` will change from 10 to 'auto' in 1.4. Set the value of `n_init` explicitly to suppress the warning\n",
      "  warnings.warn(\n",
      "C:\\Users\\jbnay\\Downloads\\New folder\\lib\\site-packages\\sklearn\\cluster\\_kmeans.py:1382: UserWarning: KMeans is known to have a memory leak on Windows with MKL, when there are less chunks than available threads. You can avoid it by setting the environment variable OMP_NUM_THREADS=1.\n",
      "  warnings.warn(\n"
     ]
    },
    {
     "data": {
      "image/png": "[encoded data removed]",
      "text/plain": [
       "<Figure size 640x480 with 1 Axes>"
      ]
     },
     "metadata": {},
     "output_type": "display_data"
    }
   ],
   "source": [
    "from sklearn.cluster import KMeans\n",
    "wcss = []\n",
    "for i in range(1, 11):\n",
    "    kmeans = KMeans(n_clusters = i, init = 'k-means++', random_state = 42)\n",
    "    kmeans.fit(X)\n",
    "    wcss.append(kmeans.inertia_)\n",
    "plt.plot(range(1, 11), wcss)\n",
    "plt.title('The Elbow Method')\n",
    "plt.xlabel('Number of clusters')\n",
    "plt.ylabel('WCSS')\n",
    "plt.show()\n"
   ]
  },
  {
   "cell_type": "code",
   "execution_count": 30,
   "id": "7dabbf99",
   "metadata": {},
   "outputs": [],
   "source": [
    "#The significance of the \"random state\" parameter lies in its ability to control the randomness and \n",
    "#reproducibility of results in machine learning algorithms\n",
    "#choice of random state value is not inherently important; what matters is using a specific value to ensure \n",
    "#reproducibility across multiple runs of an algorithm"
   ]
  },
  {
   "cell_type": "code",
   "execution_count": 31,
   "id": "d7d9800c",
   "metadata": {},
   "outputs": [
    {
     "name": "stderr",
     "output_type": "stream",
     "text": [
      "C:\\Users\\jbnay\\Downloads\\New folder\\lib\\site-packages\\sklearn\\cluster\\_kmeans.py:870: FutureWarning: The default value of `n_init` will change from 10 to 'auto' in 1.4. Set the value of `n_init` explicitly to suppress the warning\n",
      "  warnings.warn(\n",
      "C:\\Users\\jbnay\\Downloads\\New folder\\lib\\site-packages\\sklearn\\cluster\\_kmeans.py:1382: UserWarning: KMeans is known to have a memory leak on Windows with MKL, when there are less chunks than available threads. You can avoid it by setting the environment variable OMP_NUM_THREADS=1.\n",
      "  warnings.warn(\n"
     ]
    }
   ],
   "source": [
    "kmeans = KMeans(n_clusters = 5, init = 'k-means++', random_state = 42)\n",
    "y_kmeans = kmeans.fit_predict(X)"
   ]
  },
  {
   "cell_type": "code",
   "execution_count": 32,
   "id": "74173441",
   "metadata": {},
   "outputs": [
    {
     "data": {
      "text/plain": [
       "array([[  13.17769231,  823.57692308],\n",
       "       [  13.9205    , 1360.85      ],\n",
       "       [  12.47508772,  435.57894737],\n",
       "       [  12.74166667,  636.125     ],\n",
       "       [  13.71851852, 1072.40740741]])"
      ]
     },
     "execution_count": 32,
     "metadata": {},
     "output_type": "execute_result"
    }
   ],
   "source": [
    "#For each cluster, there are values of cluster centers according to the \n",
    "#number of columns present in the data.\n",
    "kmeans.cluster_centers_"
   ]
  },
  {
   "cell_type": "code",
   "execution_count": 33,
   "id": "d01470d1",
   "metadata": {},
   "outputs": [],
   "source": [
    "#Assigning cluster to Customer type\n",
    "\n",
    "# Get the cluster labels for each sample\n",
    "labels = kmeans.labels_\n",
    "\n",
    "\n",
    "# Add a new column for customer types based on cluster labels\n",
    "data['Cluster'] = labels"
   ]
  },
  {
   "cell_type": "code",
   "execution_count": 34,
   "id": "87028eb2",
   "metadata": {},
   "outputs": [],
   "source": [
    "from sklearn.decomposition import PCA"
   ]
  },
  {
   "cell_type": "code",
   "execution_count": 35,
   "id": "14b77b84",
   "metadata": {},
   "outputs": [
    {
     "data": {
      "text/html": [
       "<div>\n",
       "<style scoped>\n",
       "    .dataframe tbody tr th:only-of-type {\n",
       "        vertical-align: middle;\n",
       "    }\n",
       "\n",
       "    .dataframe tbody tr th {\n",
       "        vertical-align: top;\n",
       "    }\n",
       "\n",
       "    .dataframe thead th {\n",
       "        text-align: right;\n",
       "    }\n",
       "</style>\n",
       "<table border=\"1\" class=\"dataframe\">\n",
       "  <thead>\n",
       "    <tr style=\"text-align: right;\">\n",
       "      <th></th>\n",
       "      <th>PCA1</th>\n",
       "      <th>PCA2</th>\n",
       "    </tr>\n",
       "  </thead>\n",
       "  <tbody>\n",
       "    <tr>\n",
       "      <th>0</th>\n",
       "      <td>318.108344</td>\n",
       "      <td>0.701481</td>\n",
       "    </tr>\n",
       "    <tr>\n",
       "      <th>1</th>\n",
       "      <td>303.106655</td>\n",
       "      <td>-0.303625</td>\n",
       "    </tr>\n",
       "    <tr>\n",
       "      <th>2</th>\n",
       "      <td>438.106403</td>\n",
       "      <td>-0.567658</td>\n",
       "    </tr>\n",
       "    <tr>\n",
       "      <th>3</th>\n",
       "      <td>733.108005</td>\n",
       "      <td>0.152786</td>\n",
       "    </tr>\n",
       "    <tr>\n",
       "      <th>4</th>\n",
       "      <td>-11.892845</td>\n",
       "      <td>0.259119</td>\n",
       "    </tr>\n",
       "  </tbody>\n",
       "</table>\n",
       "</div>"
      ],
      "text/plain": [
       "         PCA1      PCA2\n",
       "0  318.108344  0.701481\n",
       "1  303.106655 -0.303625\n",
       "2  438.106403 -0.567658\n",
       "3  733.108005  0.152786\n",
       "4  -11.892845  0.259119"
      ]
     },
     "execution_count": 35,
     "metadata": {},
     "output_type": "execute_result"
    }
   ],
   "source": [
    "pca=PCA(n_components=2)\n",
    " \n",
    "reduced_X=pd.DataFrame(data=pca.fit_transform(X),columns=['PCA1','PCA2'])\n",
    " \n",
    "#Reduced Features\n",
    "reduced_X.head()"
   ]
  },
  {
   "cell_type": "code",
   "execution_count": 36,
   "id": "63baa4e6",
   "metadata": {},
   "outputs": [
    {
     "data": {
      "text/plain": [
       "array([[ 7.66838529e+01,  4.98172112e-02],\n",
       "       [ 6.13957423e+02, -9.89831279e-02],\n",
       "       [-3.11314755e+02, -8.90208100e-03],\n",
       "       [-1.10768536e+02, -7.51305475e-02],\n",
       "       [ 3.25514892e+02,  1.77707406e-01]])"
      ]
     },
     "execution_count": 36,
     "metadata": {},
     "output_type": "execute_result"
    }
   ],
   "source": [
    "#Reducing the cluster centers using PCA.\n",
    "centers=pca.transform(kmeans.cluster_centers_)\n",
    " \n",
    "# reduced centers\n",
    "centers"
   ]
  },
  {
   "cell_type": "code",
   "execution_count": 37,
   "id": "f11ccbf8",
   "metadata": {},
   "outputs": [
    {
     "data": {
      "image/png": "[encoded data removed]",
      "text/plain": [
       "<Figure size 640x480 with 1 Axes>"
      ]
     },
     "metadata": {},
     "output_type": "display_data"
    }
   ],
   "source": [
    "plt.scatter(X[y_kmeans == 0, 0], X[y_kmeans == 0, 1], s = 100, c = 'red', label = 'Cluster 1')\n",
    "plt.scatter(X[y_kmeans == 1, 0], X[y_kmeans == 1, 1], s = 100, c = 'blue', label = 'Cluster 2')\n",
    "plt.scatter(X[y_kmeans == 2, 0], X[y_kmeans == 2, 1], s = 100, c = 'green', label = 'Cluster 3')\n",
    "plt.scatter(X[y_kmeans == 3, 0], X[y_kmeans == 3, 1], s = 100, c = 'cyan', label = 'Cluster 4')\n",
    "plt.scatter(X[y_kmeans == 4, 0], X[y_kmeans == 4, 1], s = 100, c = 'magenta', label = 'Cluster 5')\n",
    "plt.title('Wine Cluster')\n",
    "plt.xlabel('PCA1')\n",
    "plt.ylabel('PCA2')\n",
    "plt.legend()\n",
    "plt.show()\n",
    "\n"
   ]
  },
  {
   "cell_type": "code",
   "execution_count": 38,
   "id": "bc83a3dd",
   "metadata": {},
   "outputs": [
    {
     "data": {
      "image/png": "[encoded data removed]",
      "text/plain": [
       "<Figure size 640x480 with 1 Axes>"
      ]
     },
     "metadata": {},
     "output_type": "display_data"
    }
   ],
   "source": [
    "plt.scatter(X[y_kmeans == 0, 0], X[y_kmeans == 0, 1], s = 50, c = 'red', label = 'Cluster 1', marker = 'o')\n",
    "plt.scatter(X[y_kmeans == 1, 0], X[y_kmeans == 1, 1], s = 50, c = 'blue', label = 'Cluster 2', marker = 's')\n",
    "plt.scatter(X[y_kmeans == 2, 0], X[y_kmeans == 2, 1], s = 50, c = 'green', label = 'Cluster 3', marker = 'v')\n",
    "plt.scatter(X[y_kmeans == 3, 0], X[y_kmeans == 3, 1], s = 50, c = 'cyan', label = 'Cluster 4', marker = '^')\n",
    "plt.scatter(X[y_kmeans == 4, 0], X[y_kmeans == 4, 1], s = 50, c = 'magenta', label = 'Cluster 5', marker = 'd')\n",
    "plt.title('Wine Cluster')\n",
    "plt.xlabel('PCA1')\n",
    "plt.ylabel('PCA2')\n",
    "plt.legend()\n",
    "plt.show()"
   ]
  },
  {
   "cell_type": "code",
   "execution_count": 39,
   "id": "d8bd6ee5",
   "metadata": {},
   "outputs": [
    {
     "data": {
      "text/html": [
       "<div>\n",
       "<style scoped>\n",
       "    .dataframe tbody tr th:only-of-type {\n",
       "        vertical-align: middle;\n",
       "    }\n",
       "\n",
       "    .dataframe tbody tr th {\n",
       "        vertical-align: top;\n",
       "    }\n",
       "\n",
       "    .dataframe thead th {\n",
       "        text-align: right;\n",
       "    }\n",
       "</style>\n",
       "<table border=\"1\" class=\"dataframe\">\n",
       "  <thead>\n",
       "    <tr style=\"text-align: right;\">\n",
       "      <th></th>\n",
       "      <th>Alcohol</th>\n",
       "      <th>Malic_Acid</th>\n",
       "      <th>Ash</th>\n",
       "      <th>Ash_Alcanity</th>\n",
       "      <th>Magnesium</th>\n",
       "      <th>Total_Phenols</th>\n",
       "      <th>Flavanoids</th>\n",
       "      <th>Nonflavanoid_Phenols</th>\n",
       "      <th>Proanthocyanins</th>\n",
       "      <th>Color_Intensity</th>\n",
       "      <th>Hue</th>\n",
       "      <th>OD280</th>\n",
       "      <th>Proline</th>\n",
       "      <th>Cluster</th>\n",
       "    </tr>\n",
       "  </thead>\n",
       "  <tbody>\n",
       "    <tr>\n",
       "      <th>0</th>\n",
       "      <td>14.23</td>\n",
       "      <td>1.7100</td>\n",
       "      <td>2.43</td>\n",
       "      <td>15.6</td>\n",
       "      <td>127.0</td>\n",
       "      <td>2.80</td>\n",
       "      <td>3.06</td>\n",
       "      <td>0.28</td>\n",
       "      <td>2.29</td>\n",
       "      <td>5.64</td>\n",
       "      <td>1.04</td>\n",
       "      <td>3.92</td>\n",
       "      <td>1065</td>\n",
       "      <td>4</td>\n",
       "    </tr>\n",
       "    <tr>\n",
       "      <th>1</th>\n",
       "      <td>13.20</td>\n",
       "      <td>1.7800</td>\n",
       "      <td>2.14</td>\n",
       "      <td>11.2</td>\n",
       "      <td>100.0</td>\n",
       "      <td>2.65</td>\n",
       "      <td>2.76</td>\n",
       "      <td>0.26</td>\n",
       "      <td>1.28</td>\n",
       "      <td>4.38</td>\n",
       "      <td>1.05</td>\n",
       "      <td>3.40</td>\n",
       "      <td>1050</td>\n",
       "      <td>4</td>\n",
       "    </tr>\n",
       "    <tr>\n",
       "      <th>2</th>\n",
       "      <td>13.16</td>\n",
       "      <td>2.3600</td>\n",
       "      <td>2.67</td>\n",
       "      <td>18.6</td>\n",
       "      <td>101.0</td>\n",
       "      <td>2.80</td>\n",
       "      <td>3.24</td>\n",
       "      <td>0.30</td>\n",
       "      <td>2.81</td>\n",
       "      <td>5.68</td>\n",
       "      <td>1.03</td>\n",
       "      <td>3.17</td>\n",
       "      <td>1185</td>\n",
       "      <td>4</td>\n",
       "    </tr>\n",
       "    <tr>\n",
       "      <th>3</th>\n",
       "      <td>14.37</td>\n",
       "      <td>1.9500</td>\n",
       "      <td>2.50</td>\n",
       "      <td>16.8</td>\n",
       "      <td>113.0</td>\n",
       "      <td>3.85</td>\n",
       "      <td>3.49</td>\n",
       "      <td>0.24</td>\n",
       "      <td>2.18</td>\n",
       "      <td>7.80</td>\n",
       "      <td>0.86</td>\n",
       "      <td>3.45</td>\n",
       "      <td>1480</td>\n",
       "      <td>1</td>\n",
       "    </tr>\n",
       "    <tr>\n",
       "      <th>4</th>\n",
       "      <td>13.24</td>\n",
       "      <td>2.5900</td>\n",
       "      <td>2.87</td>\n",
       "      <td>21.0</td>\n",
       "      <td>118.0</td>\n",
       "      <td>2.80</td>\n",
       "      <td>2.69</td>\n",
       "      <td>0.39</td>\n",
       "      <td>1.82</td>\n",
       "      <td>4.32</td>\n",
       "      <td>1.04</td>\n",
       "      <td>2.93</td>\n",
       "      <td>735</td>\n",
       "      <td>0</td>\n",
       "    </tr>\n",
       "    <tr>\n",
       "      <th>...</th>\n",
       "      <td>...</td>\n",
       "      <td>...</td>\n",
       "      <td>...</td>\n",
       "      <td>...</td>\n",
       "      <td>...</td>\n",
       "      <td>...</td>\n",
       "      <td>...</td>\n",
       "      <td>...</td>\n",
       "      <td>...</td>\n",
       "      <td>...</td>\n",
       "      <td>...</td>\n",
       "      <td>...</td>\n",
       "      <td>...</td>\n",
       "      <td>...</td>\n",
       "    </tr>\n",
       "    <tr>\n",
       "      <th>173</th>\n",
       "      <td>13.71</td>\n",
       "      <td>5.3025</td>\n",
       "      <td>2.45</td>\n",
       "      <td>20.5</td>\n",
       "      <td>95.0</td>\n",
       "      <td>1.68</td>\n",
       "      <td>0.61</td>\n",
       "      <td>0.52</td>\n",
       "      <td>1.06</td>\n",
       "      <td>7.70</td>\n",
       "      <td>0.64</td>\n",
       "      <td>1.74</td>\n",
       "      <td>740</td>\n",
       "      <td>0</td>\n",
       "    </tr>\n",
       "    <tr>\n",
       "      <th>174</th>\n",
       "      <td>13.40</td>\n",
       "      <td>3.9100</td>\n",
       "      <td>2.48</td>\n",
       "      <td>23.0</td>\n",
       "      <td>102.0</td>\n",
       "      <td>1.80</td>\n",
       "      <td>0.75</td>\n",
       "      <td>0.43</td>\n",
       "      <td>1.41</td>\n",
       "      <td>7.30</td>\n",
       "      <td>0.70</td>\n",
       "      <td>1.56</td>\n",
       "      <td>750</td>\n",
       "      <td>0</td>\n",
       "    </tr>\n",
       "    <tr>\n",
       "      <th>175</th>\n",
       "      <td>13.27</td>\n",
       "      <td>4.2800</td>\n",
       "      <td>2.26</td>\n",
       "      <td>20.0</td>\n",
       "      <td>120.0</td>\n",
       "      <td>1.59</td>\n",
       "      <td>0.69</td>\n",
       "      <td>0.43</td>\n",
       "      <td>1.35</td>\n",
       "      <td>10.20</td>\n",
       "      <td>0.59</td>\n",
       "      <td>1.56</td>\n",
       "      <td>835</td>\n",
       "      <td>0</td>\n",
       "    </tr>\n",
       "    <tr>\n",
       "      <th>176</th>\n",
       "      <td>13.17</td>\n",
       "      <td>2.5900</td>\n",
       "      <td>2.37</td>\n",
       "      <td>20.0</td>\n",
       "      <td>120.0</td>\n",
       "      <td>1.65</td>\n",
       "      <td>0.68</td>\n",
       "      <td>0.53</td>\n",
       "      <td>1.46</td>\n",
       "      <td>9.30</td>\n",
       "      <td>0.60</td>\n",
       "      <td>1.62</td>\n",
       "      <td>840</td>\n",
       "      <td>0</td>\n",
       "    </tr>\n",
       "    <tr>\n",
       "      <th>177</th>\n",
       "      <td>14.13</td>\n",
       "      <td>4.1000</td>\n",
       "      <td>2.74</td>\n",
       "      <td>24.5</td>\n",
       "      <td>96.0</td>\n",
       "      <td>2.05</td>\n",
       "      <td>0.76</td>\n",
       "      <td>0.56</td>\n",
       "      <td>1.35</td>\n",
       "      <td>9.20</td>\n",
       "      <td>0.61</td>\n",
       "      <td>1.60</td>\n",
       "      <td>560</td>\n",
       "      <td>3</td>\n",
       "    </tr>\n",
       "  </tbody>\n",
       "</table>\n",
       "<p>178 rows × 14 columns</p>\n",
       "</div>"
      ],
      "text/plain": [
       "     Alcohol  Malic_Acid   Ash  Ash_Alcanity  Magnesium  Total_Phenols  \\\n",
       "0      14.23      1.7100  2.43          15.6      127.0           2.80   \n",
       "1      13.20      1.7800  2.14          11.2      100.0           2.65   \n",
       "2      13.16      2.3600  2.67          18.6      101.0           2.80   \n",
       "3      14.37      1.9500  2.50          16.8      113.0           3.85   \n",
       "4      13.24      2.5900  2.87          21.0      118.0           2.80   \n",
       "..       ...         ...   ...           ...        ...            ...   \n",
       "173    13.71      5.3025  2.45          20.5       95.0           1.68   \n",
       "174    13.40      3.9100  2.48          23.0      102.0           1.80   \n",
       "175    13.27      4.2800  2.26          20.0      120.0           1.59   \n",
       "176    13.17      2.5900  2.37          20.0      120.0           1.65   \n",
       "177    14.13      4.1000  2.74          24.5       96.0           2.05   \n",
       "\n",
       "     Flavanoids  Nonflavanoid_Phenols  Proanthocyanins  Color_Intensity   Hue  \\\n",
       "0          3.06                  0.28             2.29             5.64  1.04   \n",
       "1          2.76                  0.26             1.28             4.38  1.05   \n",
       "2          3.24                  0.30             2.81             5.68  1.03   \n",
       "3          3.49                  0.24             2.18             7.80  0.86   \n",
       "4          2.69                  0.39             1.82             4.32  1.04   \n",
       "..          ...                   ...              ...              ...   ...   \n",
       "173        0.61                  0.52             1.06             7.70  0.64   \n",
       "174        0.75                  0.43             1.41             7.30  0.70   \n",
       "175        0.69                  0.43             1.35            10.20  0.59   \n",
       "176        0.68                  0.53             1.46             9.30  0.60   \n",
       "177        0.76                  0.56             1.35             9.20  0.61   \n",
       "\n",
       "     OD280  Proline  Cluster  \n",
       "0     3.92     1065        4  \n",
       "1     3.40     1050        4  \n",
       "2     3.17     1185        4  \n",
       "3     3.45     1480        1  \n",
       "4     2.93      735        0  \n",
       "..     ...      ...      ...  \n",
       "173   1.74      740        0  \n",
       "174   1.56      750        0  \n",
       "175   1.56      835        0  \n",
       "176   1.62      840        0  \n",
       "177   1.60      560        3  \n",
       "\n",
       "[178 rows x 14 columns]"
      ]
     },
     "execution_count": 39,
     "metadata": {},
     "output_type": "execute_result"
    }
   ],
   "source": [
    "data"
   ]
  },
  {
   "cell_type": "code",
   "execution_count": 40,
   "id": "89a1dbed",
   "metadata": {},
   "outputs": [
    {
     "name": "stdout",
     "output_type": "stream",
     "text": [
      "Predicted Cluster: [2]\n"
     ]
    }
   ],
   "source": [
    "# Checking with new values\n",
    "\n",
    "\n",
    "new_input = [[136, 80]]\n",
    "\n",
    "# Predict the cluster for the new input\n",
    "new_cluster = kmeans.predict(new_input)\n",
    "\n",
    "# Print the predicted cluster\n",
    "print(\"Predicted Cluster:\", new_cluster)"
   ]
  },
  {
   "cell_type": "code",
   "execution_count": 41,
   "id": "f03a3f55",
   "metadata": {},
   "outputs": [],
   "source": [
    "from sklearn.metrics import silhouette_score"
   ]
  },
  {
   "cell_type": "code",
   "execution_count": 42,
   "id": "41afaae2",
   "metadata": {},
   "outputs": [
    {
     "name": "stdout",
     "output_type": "stream",
     "text": [
      "0.5660679805900279\n"
     ]
    }
   ],
   "source": [
    "#Silhouette score of kmeans clustering\n",
    "silhouette_avg1 = silhouette_score(X, y_kmeans)\n",
    "print(silhouette_avg1)"
   ]
  },
  {
   "cell_type": "markdown",
   "id": "a65bb7cd",
   "metadata": {},
   "source": [
    "# Agglomerative Clustering"
   ]
  },
  {
   "cell_type": "code",
   "execution_count": 43,
   "id": "505f934c",
   "metadata": {},
   "outputs": [
    {
     "data": {
      "image/png": "[encoded data removed]",
      "text/plain": [
       "<Figure size 640x480 with 1 Axes>"
      ]
     },
     "metadata": {},
     "output_type": "display_data"
    }
   ],
   "source": [
    "#Using the dendrogram to find the optimal number of clusters\n",
    "import scipy.cluster.hierarchy as sch\n",
    "dendrogram=sch.dendrogram(sch.linkage(X,method='ward'))\n",
    "\n",
    "\n",
    "# the linkage method determines how the distance between clusters is calculated\n",
    "# the method ='ward' parameter in sch.linkage function refers to the ward's method of linkage\n",
    "# ward's method is based on the analysis of variance(ANOVA)\n",
    "# other method is Single likage ('single'),Complete linkage('complete') ,average linkage('average')\n",
    "# centroid linkage('centroid')\n",
    "\n",
    "plt.title('Dendrogram')\n",
    "plt.xlabel('Wine Clusters')\n",
    "plt.ylabel('Euclidean Distance')\n",
    "plt.axhline(y=25,c='r',linestyle='--') \n",
    "plt.show()"
   ]
  },
  {
   "cell_type": "code",
   "execution_count": 44,
   "id": "b81e7c1e",
   "metadata": {},
   "outputs": [
    {
     "name": "stderr",
     "output_type": "stream",
     "text": [
      "C:\\Users\\jbnay\\Downloads\\New folder\\lib\\site-packages\\sklearn\\cluster\\_agglomerative.py:983: FutureWarning: Attribute `affinity` was deprecated in version 1.2 and will be removed in 1.4. Use `metric` instead\n",
      "  warnings.warn(\n"
     ]
    }
   ],
   "source": [
    "from sklearn.cluster import AgglomerativeClustering\n",
    "hc = AgglomerativeClustering(n_clusters=5, affinity='euclidean' , linkage='ward')\n",
    "\n",
    "y_hc = hc.fit_predict(X)"
   ]
  },
  {
   "cell_type": "code",
   "execution_count": 45,
   "id": "4e00febd",
   "metadata": {},
   "outputs": [
    {
     "data": {
      "image/png": "[encoded data removed]",
      "text/plain": [
       "<Figure size 640x480 with 1 Axes>"
      ]
     },
     "metadata": {},
     "output_type": "display_data"
    }
   ],
   "source": [
    "# plotting data points from cluster 1\n",
    "\n",
    "plt.scatter(X[y_hc ==0,1], X[y_hc == 0,1 ], s=100, c='red' , label='Cluster 1')\n",
    "\n",
    "#X[y_hc ==0,0] represents  x-coordinates of the data points in cluster 0\n",
    "#X[y_hc ==0,1] represents  y-coordinates of the data points in cluster 0\n",
    "\n",
    "# plotting data points from cluster 2\n",
    "plt.scatter(X[y_hc == 1,0],X[y_hc == 1,1 ], s=200, c='blue' , label='Cluster 2')\n",
    "\n",
    "# plotting data points from cluster 3\n",
    "plt.scatter(X[y_hc == 2,0],X[y_hc == 2,1 ], s=200, c='green' , label='Cluster 3')\n",
    "\n",
    "# plotting data points from cluster 4\n",
    "plt.scatter(X[y_hc == 3,0],X[y_hc == 3,1 ], s=200, c='cyan' , label='Cluster 4')\n",
    "\n",
    "# plotting data points from cluster 5\n",
    "plt.scatter(X[y_hc == 4,0],X[y_hc == 4,1 ], s=200, c='magenta' , label='Cluster 5')\n",
    "\n",
    "\n",
    "plt.title('wine clustering')\n",
    "plt.xlabel('PCA1')\n",
    "plt.ylabel('PCA2')\n",
    "plt.legend()\n",
    "plt.show()\n",
    "\n",
    "\n"
   ]
  },
  {
   "cell_type": "code",
   "execution_count": 46,
   "id": "40f06313",
   "metadata": {},
   "outputs": [
    {
     "data": {
      "text/plain": [
       "array([3, 3, 3, 0, 1, 0, 0, 0, 3, 3, 0, 0, 0, 3, 0, 0, 0, 3, 0, 1, 1, 1,\n",
       "       3, 3, 1, 1, 3, 0, 1, 3, 0, 0, 3, 0, 3, 1, 1, 3, 3, 1, 1, 3, 3, 4,\n",
       "       1, 3, 3, 3, 3, 0, 3, 0, 3, 0, 3, 3, 3, 0, 0, 2, 4, 2, 4, 2, 2, 4,\n",
       "       2, 2, 1, 1, 1, 2, 2, 3, 1, 2, 2, 2, 1, 2, 2, 1, 4, 2, 2, 2, 2, 4,\n",
       "       4, 4, 2, 2, 2, 2, 2, 1, 4, 2, 4, 2, 1, 4, 2, 2, 4, 2, 2, 2, 2, 4,\n",
       "       4, 2, 4, 2, 2, 2, 2, 2, 2, 4, 4, 2, 2, 2, 2, 2, 2, 2, 2, 4, 4, 2,\n",
       "       4, 4, 4, 4, 1, 2, 4, 4, 4, 1, 2, 4, 1, 1, 2, 4, 4, 4, 2, 2, 2, 4,\n",
       "       4, 1, 2, 1, 4, 4, 2, 4, 4, 4, 4, 2, 4, 4, 1, 4, 2, 2, 4, 1, 1, 1,\n",
       "       1, 4], dtype=int64)"
      ]
     },
     "execution_count": 46,
     "metadata": {},
     "output_type": "execute_result"
    }
   ],
   "source": [
    "y_hc"
   ]
  },
  {
   "cell_type": "code",
   "execution_count": 47,
   "id": "0f1e3a4e",
   "metadata": {},
   "outputs": [
    {
     "name": "stdout",
     "output_type": "stream",
     "text": [
      "Silhouette score of agglomerative clustering:  0.554538509465094\n"
     ]
    }
   ],
   "source": [
    "#Silhouette score of agglomerative clustering\n",
    "silhouette_avg2 = silhouette_score(X, y_hc)\n",
    "print('Silhouette score of agglomerative clustering: ',silhouette_avg2)"
   ]
  },
  {
   "cell_type": "markdown",
   "id": "a745cca3",
   "metadata": {},
   "source": [
    "# DBSCAN clustering"
   ]
  },
  {
   "cell_type": "code",
   "execution_count": 48,
   "id": "137543b4",
   "metadata": {},
   "outputs": [],
   "source": [
    "data=pd.read_csv(r\"C:\\Users\\jbnay\\Downloads\\Wine_clust .csv\")"
   ]
  },
  {
   "cell_type": "code",
   "execution_count": 49,
   "id": "640b770d",
   "metadata": {},
   "outputs": [
    {
     "data": {
      "text/html": [
       "<div>\n",
       "<style scoped>\n",
       "    .dataframe tbody tr th:only-of-type {\n",
       "        vertical-align: middle;\n",
       "    }\n",
       "\n",
       "    .dataframe tbody tr th {\n",
       "        vertical-align: top;\n",
       "    }\n",
       "\n",
       "    .dataframe thead th {\n",
       "        text-align: right;\n",
       "    }\n",
       "</style>\n",
       "<table border=\"1\" class=\"dataframe\">\n",
       "  <thead>\n",
       "    <tr style=\"text-align: right;\">\n",
       "      <th></th>\n",
       "      <th>Alcohol</th>\n",
       "      <th>Malic_Acid</th>\n",
       "      <th>Ash</th>\n",
       "      <th>Ash_Alcanity</th>\n",
       "      <th>Magnesium</th>\n",
       "      <th>Total_Phenols</th>\n",
       "      <th>Flavanoids</th>\n",
       "      <th>Nonflavanoid_Phenols</th>\n",
       "      <th>Proanthocyanins</th>\n",
       "      <th>Color_Intensity</th>\n",
       "      <th>Hue</th>\n",
       "      <th>OD280</th>\n",
       "      <th>Proline</th>\n",
       "    </tr>\n",
       "  </thead>\n",
       "  <tbody>\n",
       "    <tr>\n",
       "      <th>count</th>\n",
       "      <td>1.780000e+02</td>\n",
       "      <td>1.780000e+02</td>\n",
       "      <td>1.780000e+02</td>\n",
       "      <td>1.780000e+02</td>\n",
       "      <td>1.780000e+02</td>\n",
       "      <td>178.000000</td>\n",
       "      <td>1.780000e+02</td>\n",
       "      <td>1.780000e+02</td>\n",
       "      <td>1.780000e+02</td>\n",
       "      <td>1.780000e+02</td>\n",
       "      <td>1.780000e+02</td>\n",
       "      <td>1.780000e+02</td>\n",
       "      <td>1.780000e+02</td>\n",
       "    </tr>\n",
       "    <tr>\n",
       "      <th>mean</th>\n",
       "      <td>-8.382808e-16</td>\n",
       "      <td>-1.197544e-16</td>\n",
       "      <td>-8.370333e-16</td>\n",
       "      <td>-3.991813e-17</td>\n",
       "      <td>-3.991813e-17</td>\n",
       "      <td>0.000000</td>\n",
       "      <td>-3.991813e-16</td>\n",
       "      <td>3.592632e-16</td>\n",
       "      <td>-1.197544e-16</td>\n",
       "      <td>2.494883e-17</td>\n",
       "      <td>1.995907e-16</td>\n",
       "      <td>3.193450e-16</td>\n",
       "      <td>-1.596725e-16</td>\n",
       "    </tr>\n",
       "    <tr>\n",
       "      <th>std</th>\n",
       "      <td>1.002821e+00</td>\n",
       "      <td>1.002821e+00</td>\n",
       "      <td>1.002821e+00</td>\n",
       "      <td>1.002821e+00</td>\n",
       "      <td>1.002821e+00</td>\n",
       "      <td>1.002821</td>\n",
       "      <td>1.002821e+00</td>\n",
       "      <td>1.002821e+00</td>\n",
       "      <td>1.002821e+00</td>\n",
       "      <td>1.002821e+00</td>\n",
       "      <td>1.002821e+00</td>\n",
       "      <td>1.002821e+00</td>\n",
       "      <td>1.002821e+00</td>\n",
       "    </tr>\n",
       "    <tr>\n",
       "      <th>min</th>\n",
       "      <td>-2.434235e+00</td>\n",
       "      <td>-1.432983e+00</td>\n",
       "      <td>-3.679162e+00</td>\n",
       "      <td>-2.671018e+00</td>\n",
       "      <td>-2.088255e+00</td>\n",
       "      <td>-2.107246</td>\n",
       "      <td>-1.695971e+00</td>\n",
       "      <td>-1.868234e+00</td>\n",
       "      <td>-2.069034e+00</td>\n",
       "      <td>-1.634288e+00</td>\n",
       "      <td>-2.094732e+00</td>\n",
       "      <td>-1.895054e+00</td>\n",
       "      <td>-1.493188e+00</td>\n",
       "    </tr>\n",
       "    <tr>\n",
       "      <th>25%</th>\n",
       "      <td>-7.882448e-01</td>\n",
       "      <td>-6.587486e-01</td>\n",
       "      <td>-5.721225e-01</td>\n",
       "      <td>-6.891372e-01</td>\n",
       "      <td>-8.244151e-01</td>\n",
       "      <td>-0.885468</td>\n",
       "      <td>-8.275393e-01</td>\n",
       "      <td>-7.401412e-01</td>\n",
       "      <td>-5.972835e-01</td>\n",
       "      <td>-7.951025e-01</td>\n",
       "      <td>-7.675624e-01</td>\n",
       "      <td>-9.522483e-01</td>\n",
       "      <td>-7.846378e-01</td>\n",
       "    </tr>\n",
       "    <tr>\n",
       "      <th>50%</th>\n",
       "      <td>6.099988e-02</td>\n",
       "      <td>-4.231120e-01</td>\n",
       "      <td>-2.382132e-02</td>\n",
       "      <td>1.518295e-03</td>\n",
       "      <td>-1.222817e-01</td>\n",
       "      <td>0.095960</td>\n",
       "      <td>1.061497e-01</td>\n",
       "      <td>-1.760948e-01</td>\n",
       "      <td>-6.289785e-02</td>\n",
       "      <td>-1.592246e-01</td>\n",
       "      <td>3.312687e-02</td>\n",
       "      <td>2.377348e-01</td>\n",
       "      <td>-2.337204e-01</td>\n",
       "    </tr>\n",
       "    <tr>\n",
       "      <th>75%</th>\n",
       "      <td>8.361286e-01</td>\n",
       "      <td>6.697929e-01</td>\n",
       "      <td>6.981085e-01</td>\n",
       "      <td>6.020883e-01</td>\n",
       "      <td>5.096384e-01</td>\n",
       "      <td>0.808997</td>\n",
       "      <td>8.490851e-01</td>\n",
       "      <td>6.095413e-01</td>\n",
       "      <td>6.291754e-01</td>\n",
       "      <td>4.939560e-01</td>\n",
       "      <td>7.131644e-01</td>\n",
       "      <td>7.885875e-01</td>\n",
       "      <td>7.582494e-01</td>\n",
       "    </tr>\n",
       "    <tr>\n",
       "      <th>max</th>\n",
       "      <td>2.259772e+00</td>\n",
       "      <td>3.109192e+00</td>\n",
       "      <td>3.156325e+00</td>\n",
       "      <td>3.154511e+00</td>\n",
       "      <td>4.371372e+00</td>\n",
       "      <td>2.539515</td>\n",
       "      <td>3.062832e+00</td>\n",
       "      <td>2.402403e+00</td>\n",
       "      <td>3.485073e+00</td>\n",
       "      <td>3.435432e+00</td>\n",
       "      <td>3.301694e+00</td>\n",
       "      <td>1.960915e+00</td>\n",
       "      <td>2.971473e+00</td>\n",
       "    </tr>\n",
       "  </tbody>\n",
       "</table>\n",
       "</div>"
      ],
      "text/plain": [
       "            Alcohol    Malic_Acid           Ash  Ash_Alcanity     Magnesium  \\\n",
       "count  1.780000e+02  1.780000e+02  1.780000e+02  1.780000e+02  1.780000e+02   \n",
       "mean  -8.382808e-16 -1.197544e-16 -8.370333e-16 -3.991813e-17 -3.991813e-17   \n",
       "std    1.002821e+00  1.002821e+00  1.002821e+00  1.002821e+00  1.002821e+00   \n",
       "min   -2.434235e+00 -1.432983e+00 -3.679162e+00 -2.671018e+00 -2.088255e+00   \n",
       "25%   -7.882448e-01 -6.587486e-01 -5.721225e-01 -6.891372e-01 -8.244151e-01   \n",
       "50%    6.099988e-02 -4.231120e-01 -2.382132e-02  1.518295e-03 -1.222817e-01   \n",
       "75%    8.361286e-01  6.697929e-01  6.981085e-01  6.020883e-01  5.096384e-01   \n",
       "max    2.259772e+00  3.109192e+00  3.156325e+00  3.154511e+00  4.371372e+00   \n",
       "\n",
       "       Total_Phenols    Flavanoids  Nonflavanoid_Phenols  Proanthocyanins  \\\n",
       "count     178.000000  1.780000e+02          1.780000e+02     1.780000e+02   \n",
       "mean        0.000000 -3.991813e-16          3.592632e-16    -1.197544e-16   \n",
       "std         1.002821  1.002821e+00          1.002821e+00     1.002821e+00   \n",
       "min        -2.107246 -1.695971e+00         -1.868234e+00    -2.069034e+00   \n",
       "25%        -0.885468 -8.275393e-01         -7.401412e-01    -5.972835e-01   \n",
       "50%         0.095960  1.061497e-01         -1.760948e-01    -6.289785e-02   \n",
       "75%         0.808997  8.490851e-01          6.095413e-01     6.291754e-01   \n",
       "max         2.539515  3.062832e+00          2.402403e+00     3.485073e+00   \n",
       "\n",
       "       Color_Intensity           Hue         OD280       Proline  \n",
       "count     1.780000e+02  1.780000e+02  1.780000e+02  1.780000e+02  \n",
       "mean      2.494883e-17  1.995907e-16  3.193450e-16 -1.596725e-16  \n",
       "std       1.002821e+00  1.002821e+00  1.002821e+00  1.002821e+00  \n",
       "min      -1.634288e+00 -2.094732e+00 -1.895054e+00 -1.493188e+00  \n",
       "25%      -7.951025e-01 -7.675624e-01 -9.522483e-01 -7.846378e-01  \n",
       "50%      -1.592246e-01  3.312687e-02  2.377348e-01 -2.337204e-01  \n",
       "75%       4.939560e-01  7.131644e-01  7.885875e-01  7.582494e-01  \n",
       "max       3.435432e+00  3.301694e+00  1.960915e+00  2.971473e+00  "
      ]
     },
     "execution_count": 49,
     "metadata": {},
     "output_type": "execute_result"
    }
   ],
   "source": [
    "#Scaling\n",
    "\n",
    "scaled_data = scl.fit_transform(data)\n",
    "#values are stored as numpy array\n",
    "scaled_data = pd.DataFrame(scaled_data, columns = data.columns)\n",
    "#converted to DataFrame\n",
    "scaled_data.describe()"
   ]
  },
  {
   "cell_type": "code",
   "execution_count": 50,
   "id": "b67b7059",
   "metadata": {},
   "outputs": [],
   "source": [
    "X = scaled_data.values"
   ]
  },
  {
   "cell_type": "code",
   "execution_count": 51,
   "id": "788dbb81",
   "metadata": {},
   "outputs": [],
   "source": [
    "from sklearn.neighbors import NearestNeighbors # importing the library\n",
    "neighb = NearestNeighbors(n_neighbors=10) # creating an object of the NearestNeighbors class\n",
    "nbrs=neighb.fit(X) # fitting the data to the object\n",
    "distances,indices=nbrs.kneighbors(X) # finding the nearest neighbours\n"
   ]
  },
  {
   "cell_type": "code",
   "execution_count": 52,
   "id": "cd307f0f",
   "metadata": {},
   "outputs": [
    {
     "data": {
      "image/png": "[encoded data removed]",
      "text/plain": [
       "<Figure size 500x300 with 1 Axes>"
      ]
     },
     "metadata": {},
     "output_type": "display_data"
    }
   ],
   "source": [
    "distances = np.sort(distances, axis = 0) # sorting the distances\n",
    "distances = distances[:, 1] # taking the second column of the sorted distances\n",
    "plt.rcParams['figure.figsize'] = (5,3) # setting the figure size\n",
    "plt.plot(distances) # plotting the distances\n",
    "plt.show() # showing the plot"
   ]
  },
  {
   "cell_type": "code",
   "execution_count": 53,
   "id": "ccc53bfa",
   "metadata": {},
   "outputs": [],
   "source": [
    "from sklearn.cluster import DBSCAN\n",
    "# cluster the data into five clusters\n",
    "dbscan = DBSCAN(eps = 2.5, min_samples = 8).fit(X) # fitting the model\n",
    "labels = dbscan.labels_ # getting the labels"
   ]
  },
  {
   "cell_type": "code",
   "execution_count": 54,
   "id": "63926baf",
   "metadata": {},
   "outputs": [
    {
     "data": {
      "text/plain": [
       "3"
      ]
     },
     "execution_count": 54,
     "metadata": {},
     "output_type": "execute_result"
    }
   ],
   "source": [
    "len(set(labels))"
   ]
  },
  {
   "cell_type": "code",
   "execution_count": 55,
   "id": "28d1c3cb",
   "metadata": {},
   "outputs": [
    {
     "data": {
      "text/plain": [
       "array([[ -1,  30],\n",
       "       [  0, 103],\n",
       "       [  1,  45]], dtype=int64)"
      ]
     },
     "execution_count": 55,
     "metadata": {},
     "output_type": "execute_result"
    }
   ],
   "source": [
    "#data points count per label\n",
    "unique,counts = np.unique(labels,return_counts=True)\n",
    "np.asarray((unique,counts)).T\n"
   ]
  },
  {
   "cell_type": "code",
   "execution_count": 56,
   "id": "c8b14163",
   "metadata": {},
   "outputs": [
    {
     "name": "stdout",
     "output_type": "stream",
     "text": [
      "Silhouette score of DBSCAN clustering:  0.2076088441129092\n"
     ]
    }
   ],
   "source": [
    "silhouette_score_db = silhouette_score(X,labels)\n",
    "print('Silhouette score of DBSCAN clustering: ',silhouette_score_db)"
   ]
  },
  {
   "cell_type": "code",
   "execution_count": 57,
   "id": "2cd92167",
   "metadata": {},
   "outputs": [
    {
     "name": "stdout",
     "output_type": "stream",
     "text": [
      "Silhouette score of DBSCAN clustering:  0.2076088441129092\n"
     ]
    }
   ],
   "source": [
    "#Silhouette score of DBSCAN clustering\n",
    "\n",
    "silhouette_score_db = silhouette_score(X,labels)\n",
    "print('Silhouette score of DBSCAN clustering: ',silhouette_score_db)\n"
   ]
  },
  {
   "cell_type": "code",
   "execution_count": 58,
   "id": "b9883e42",
   "metadata": {},
   "outputs": [
    {
     "data": {
      "image/png": "[encoded data removed]",
      "text/plain": [
       "<Figure size 900x700 with 1 Axes>"
      ]
     },
     "metadata": {},
     "output_type": "display_data"
    }
   ],
   "source": [
    "# Transform data to visualize data in 2d\n",
    "from sklearn import decomposition\n",
    "sns.set_style('dark')\n",
    "pca = decomposition.PCA(n_components=3)\n",
    "df_pca = pca.fit_transform(scaled_data)\n",
    "plt.figure(figsize=(9,7))\n",
    "sns.scatterplot(hue=dbscan.labels_, x=df_pca[:,0], y=df_pca[:,1],palette=\"deep\")\n",
    "plt.title(\"DBSCAN with four clusters\",fontsize=15,fontweight=\"bold\")\n",
    "plt.show()"
   ]
  },
  {
   "cell_type": "markdown",
   "id": "83e66577",
   "metadata": {},
   "source": [
    "conclusion  :  Silhouette score of KMeans clustering is maximum."
   ]
  }
 ],
 "metadata": {
  "kernelspec": {
   "display_name": "Python 3 (ipykernel)",
   "language": "python",
   "name": "python3"
  },
  "language_info": {
   "codemirror_mode": {
    "name": "ipython",
    "version": 3
   },
   "file_extension": ".py",
   "mimetype": "text/x-python",
   "name": "python",
   "nbconvert_exporter": "python",
   "pygments_lexer": "ipython3",
   "version": "3.10.9"
  }
 },
 "nbformat": 4,
 "nbformat_minor": 5
}
